{
 "cells": [
  {
   "cell_type": "code",
   "execution_count": 1,
   "id": "b5496ea2-7898-4f17-a065-b6bf45265348",
   "metadata": {},
   "outputs": [],
   "source": [
    "# Data Types\n",
    "#1. Immutable - numeric, string , tuples\n",
    "#2. Mutable - list , dict , set"
   ]
  },
  {
   "cell_type": "markdown",
   "id": "ba0decc0-2150-47cd-814b-5c331c5f759c",
   "metadata": {},
   "source": [
    "# Dictionary"
   ]
  },
  {
   "cell_type": "code",
   "execution_count": null,
   "id": "d5881997-9c07-44b7-83b0-670b56ff5897",
   "metadata": {},
   "outputs": [],
   "source": [
    "# dictionary are my mutable data type that stores the elements in a key value pair format\n",
    "# each key valuye pair are sperated bu commma\n",
    "# key and value are sepreated by colon\n",
    "# dictionary represetns in {}\n",
    "# dictionary key should be unique"
   ]
  },
  {
   "cell_type": "code",
   "execution_count": 4,
   "id": "16ad478a-d66f-460a-910e-2672272cbb9c",
   "metadata": {},
   "outputs": [
    {
     "name": "stdout",
     "output_type": "stream",
     "text": [
      "{'n': 1, 9: 'b', 'abc': 'xyz', 123: 456} <class 'dict'>\n",
      "4\n"
     ]
    }
   ],
   "source": [
    "d = {'n':1, 9:'b', 'abc':'xyz',123:456}\n",
    "print(d,type(d))\n",
    "print(len(d))"
   ]
  },
  {
   "cell_type": "code",
   "execution_count": 7,
   "id": "eaad7fa7-a752-4260-b86c-efd381b2eae0",
   "metadata": {},
   "outputs": [
    {
     "name": "stdout",
     "output_type": "stream",
     "text": [
      "5\n",
      "{1: 1000, 'name': 123, 'two': 2, 7: 123, 'xyz': 3.14}\n"
     ]
    }
   ],
   "source": [
    "d1={1:'one','name':123, 'two':2, 7:123, 'xyz':3.14, 1:1000}\n",
    "print(len(d1))\n",
    "print(d1)"
   ]
  },
  {
   "cell_type": "markdown",
   "id": "1815d68f-5931-4b5b-8f30-7a630ac5174e",
   "metadata": {},
   "source": [
    "# dictionary methods"
   ]
  },
  {
   "cell_type": "code",
   "execution_count": 17,
   "id": "83a7ae30-0131-4036-b6c2-f42af156dcbf",
   "metadata": {},
   "outputs": [
    {
     "name": "stdout",
     "output_type": "stream",
     "text": [
      "{5: 'a', 9: 'quick', 1: 'brown', 0: 'fox', 7: 'jumps'}\n",
      "5\n"
     ]
    }
   ],
   "source": [
    "d = {5:'a',9:'quick',1:'brown',0:'fox',7:'jumps'}\n",
    "print(d)\n",
    "print(len(d))"
   ]
  },
  {
   "cell_type": "code",
   "execution_count": 19,
   "id": "f114ab29-a854-4545-9e02-38cff4f9cdf1",
   "metadata": {},
   "outputs": [
    {
     "name": "stdout",
     "output_type": "stream",
     "text": [
      "brown\n"
     ]
    },
    {
     "ename": "KeyError",
     "evalue": "100",
     "output_type": "error",
     "traceback": [
      "\u001b[1;31m---------------------------------------------------------------------------\u001b[0m",
      "\u001b[1;31mKeyError\u001b[0m                                  Traceback (most recent call last)",
      "Cell \u001b[1;32mIn[19], line 3\u001b[0m\n\u001b[0;32m      1\u001b[0m \u001b[38;5;66;03m# to acvces the va,ue i have to paSS THE key\u001b[39;00m\n\u001b[0;32m      2\u001b[0m \u001b[38;5;28mprint\u001b[39m(d[\u001b[38;5;241m1\u001b[39m])\n\u001b[1;32m----> 3\u001b[0m \u001b[38;5;28mprint\u001b[39m(d[\u001b[38;5;241m100\u001b[39m])\n",
      "\u001b[1;31mKeyError\u001b[0m: 100"
     ]
    }
   ],
   "source": [
    "# to acvces the va,ue i have to paSS THE key\n",
    "print(d[1])\n",
    "print(d[100])"
   ]
  },
  {
   "cell_type": "code",
   "execution_count": 25,
   "id": "9a70e485-97ad-475c-969d-d3ea0fa1b9df",
   "metadata": {},
   "outputs": [
    {
     "name": "stdout",
     "output_type": "stream",
     "text": [
      "dict_items([(5, 'a'), (9, 'quick'), (1, 'brown'), (0, 'fox'), (7, 'jumps')])\n"
     ]
    }
   ],
   "source": [
    "# print(d.keys())\n",
    "# print(d.values())\n",
    "print(d.items())"
   ]
  },
  {
   "cell_type": "code",
   "execution_count": 30,
   "id": "af26f07d-e6d4-4d1f-8df0-3cd3c044f496",
   "metadata": {},
   "outputs": [],
   "source": [
    "# update\n",
    "d.update({10:'over'})\n",
    "\n",
    "d.update({1:'red'})\n",
    "\n",
    "d[100] = 'the'"
   ]
  },
  {
   "cell_type": "code",
   "execution_count": 31,
   "id": "6a209fb3-5975-4de7-af74-42f4a35eb379",
   "metadata": {},
   "outputs": [
    {
     "name": "stdout",
     "output_type": "stream",
     "text": [
      "{5: 'a', 9: 'quick', 1: 'red', 0: 'fox', 7: 'jumps', 10: 'over', 100: 'the'}\n"
     ]
    }
   ],
   "source": [
    "print(d)"
   ]
  },
  {
   "cell_type": "code",
   "execution_count": 35,
   "id": "c4d4ec0f-d806-47be-b2f2-2224073838a5",
   "metadata": {},
   "outputs": [
    {
     "data": {
      "text/plain": [
       "'red'"
      ]
     },
     "execution_count": 35,
     "metadata": {},
     "output_type": "execute_result"
    }
   ],
   "source": [
    "# pop\n",
    "\n",
    "d.pop(1)"
   ]
  },
  {
   "cell_type": "code",
   "execution_count": 41,
   "id": "b4e4a97b-8520-4bca-9597-823414557248",
   "metadata": {},
   "outputs": [
    {
     "name": "stdout",
     "output_type": "stream",
     "text": [
      "{5: 'a', 9: 'quick', 0: 'fox'}\n"
     ]
    }
   ],
   "source": [
    "print(d)"
   ]
  },
  {
   "cell_type": "code",
   "execution_count": 40,
   "id": "94480018-4462-44c8-9e11-cd3afd421cbd",
   "metadata": {},
   "outputs": [
    {
     "data": {
      "text/plain": [
       "(10, 'over')"
      ]
     },
     "execution_count": 40,
     "metadata": {},
     "output_type": "execute_result"
    }
   ],
   "source": [
    "d.popitem()"
   ]
  },
  {
   "cell_type": "code",
   "execution_count": 42,
   "id": "1f107d34-a513-4b05-9af4-c38fb8a7a10e",
   "metadata": {},
   "outputs": [],
   "source": [
    "d.clear()"
   ]
  },
  {
   "cell_type": "code",
   "execution_count": 43,
   "id": "c225d4e0-1601-4d20-9dda-f3659413e9cf",
   "metadata": {},
   "outputs": [
    {
     "name": "stdout",
     "output_type": "stream",
     "text": [
      "{}\n"
     ]
    }
   ],
   "source": [
    "print(d)"
   ]
  },
  {
   "cell_type": "markdown",
   "id": "014090ff-c0da-4fec-8bb9-8dc9b6b015d3",
   "metadata": {},
   "source": [
    "# dictionary comprehension"
   ]
  },
  {
   "cell_type": "code",
   "execution_count": 44,
   "id": "4eced8d6-2d22-4dd4-9196-ece78d7f6857",
   "metadata": {},
   "outputs": [],
   "source": [
    "# when i want my expected output in the form dictionary we use dictionary comprehension for it\n",
    "# it offers you the shorter synta of code"
   ]
  },
  {
   "cell_type": "code",
   "execution_count": 45,
   "id": "8ee0297e-8a44-4e37-9cbb-af4561763d09",
   "metadata": {},
   "outputs": [
    {
     "name": "stdout",
     "output_type": "stream",
     "text": [
      "{1: 2, 2: 3, 3: 4, 4: 5, 5: 6, 6: 7, 7: 8, 8: 9, 9: 10}\n"
     ]
    }
   ],
   "source": [
    "d={}\n",
    "\n",
    "for i in range(1,10):\n",
    "    d[i] = i+1\n",
    "\n",
    "print(d)"
   ]
  },
  {
   "cell_type": "code",
   "execution_count": 47,
   "id": "51b2f1b2-c1a2-4e95-a399-45948ab7212a",
   "metadata": {},
   "outputs": [
    {
     "name": "stdout",
     "output_type": "stream",
     "text": [
      "{1: 2, 2: 3, 3: 4, 4: 5, 5: 6, 6: 7, 7: 8, 8: 9, 9: 10}\n"
     ]
    }
   ],
   "source": [
    "# {key:value  for loop}\n",
    "\n",
    "print({i:i+1 for i in range(1,10)})"
   ]
  },
  {
   "cell_type": "code",
   "execution_count": 48,
   "id": "95b910cb-c352-4885-b6f3-510043cff03a",
   "metadata": {},
   "outputs": [
    {
     "name": "stdout",
     "output_type": "stream",
     "text": [
      "{7: 6, 8: 7, 9: 8}\n"
     ]
    }
   ],
   "source": [
    "d={}\n",
    "\n",
    "for i in range(1,10):\n",
    "    if i>6:\n",
    "        d[i] = i-1\n",
    "\n",
    "print(d)"
   ]
  },
  {
   "cell_type": "code",
   "execution_count": 52,
   "id": "b359faaa-bdf4-4971-92fd-578674bb11c3",
   "metadata": {},
   "outputs": [
    {
     "name": "stdout",
     "output_type": "stream",
     "text": [
      "{7: 6, 8: 7, 9: 8}\n"
     ]
    }
   ],
   "source": [
    "# {key:value  for loop if con}\n",
    "\n",
    "print({i:i-1 for i in range(1,10) if i>6})"
   ]
  },
  {
   "cell_type": "code",
   "execution_count": 53,
   "id": "1139017f-af62-4afd-96d9-b3d07ca974ec",
   "metadata": {},
   "outputs": [
    {
     "name": "stdout",
     "output_type": "stream",
     "text": [
      "{1: 'odd', 2: 'even', 3: 'odd', 4: 'even', 5: 'odd', 6: 'even', 7: 'odd', 8: 'even', 9: 'odd'}\n"
     ]
    }
   ],
   "source": [
    "d={}\n",
    "\n",
    "for i in range(1,10):\n",
    "    if i%2==0:\n",
    "        d[i] = 'even'\n",
    "    else:\n",
    "        d[i]='odd'\n",
    "\n",
    "print(d)"
   ]
  },
  {
   "cell_type": "code",
   "execution_count": 55,
   "id": "67bd82a0-6f56-4ad8-985a-f31c1d628a47",
   "metadata": {},
   "outputs": [
    {
     "name": "stdout",
     "output_type": "stream",
     "text": [
      "{1: 'odd', 2: 'even', 3: 'odd', 4: 'even', 5: 'odd', 6: 'even', 7: 'odd', 8: 'even', 9: 'odd'}\n"
     ]
    }
   ],
   "source": [
    "# {key:value if con else value for loop}\n",
    "D ={i:'even' if i%2==0 else 'odd' for i in range(1,10)}\n",
    "print(D)"
   ]
  },
  {
   "cell_type": "code",
   "execution_count": 57,
   "id": "df3d1b29-6ee6-4977-a597-9f8534358926",
   "metadata": {},
   "outputs": [
    {
     "name": "stdout",
     "output_type": "stream",
     "text": [
      "even\n"
     ]
    }
   ],
   "source": [
    "print(D[2])"
   ]
  },
  {
   "cell_type": "code",
   "execution_count": 58,
   "id": "d74c8a45-920b-441d-bfbd-8ebca40c94da",
   "metadata": {},
   "outputs": [
    {
     "name": "stdout",
     "output_type": "stream",
     "text": [
      "odd\n",
      "even\n",
      "odd\n",
      "even\n",
      "odd\n",
      "even\n",
      "odd\n",
      "even\n",
      "odd\n"
     ]
    }
   ],
   "source": [
    "for i in D:\n",
    "    print(D[i])"
   ]
  },
  {
   "cell_type": "code",
   "execution_count": 60,
   "id": "275b7737-b6ce-4be0-a913-3e3415e49b1d",
   "metadata": {},
   "outputs": [
    {
     "name": "stdout",
     "output_type": "stream",
     "text": [
      "(1, 'odd')\n",
      "(2, 'even')\n",
      "(3, 'odd')\n",
      "(4, 'even')\n",
      "(5, 'odd')\n",
      "(6, 'even')\n",
      "(7, 'odd')\n",
      "(8, 'even')\n",
      "(9, 'odd')\n"
     ]
    }
   ],
   "source": [
    "for i in D.items():\n",
    "    print(i)"
   ]
  },
  {
   "cell_type": "markdown",
   "id": "09023115-988d-4c53-90be-c14307ea6a82",
   "metadata": {},
   "source": [
    "# set"
   ]
  },
  {
   "cell_type": "code",
   "execution_count": 77,
   "id": "9d9d4c7f-5bc6-490f-97e6-eb05fd3dcb58",
   "metadata": {},
   "outputs": [],
   "source": [
    "# set are my mutable data type that stores the elements unorderly\n",
    "# set supports the mathematical operations of set theory\n",
    "# set are packed into the {}\n",
    "# element of the set should be unique"
   ]
  },
  {
   "cell_type": "code",
   "execution_count": 74,
   "id": "04ed6615-5f15-46fd-96f6-d67de42de6ab",
   "metadata": {},
   "outputs": [
    {
     "name": "stdout",
     "output_type": "stream",
     "text": [
      "{1, 2, 3, 4, 5, 6} <class 'set'>\n",
      "6\n"
     ]
    }
   ],
   "source": [
    "s1= {1,2,3,4,5,6}\n",
    "print(s1,type(s1))\n",
    "print(len(s1))"
   ]
  },
  {
   "cell_type": "code",
   "execution_count": 76,
   "id": "1c63ffbe-429d-4938-a40b-4dcfe3d3acee",
   "metadata": {},
   "outputs": [
    {
     "name": "stdout",
     "output_type": "stream",
     "text": [
      "7\n",
      "{1, 2, 3, 4, 5, 6, 7}\n"
     ]
    }
   ],
   "source": [
    "s2={1,2,3,4,3,2,5,6,4,7}\n",
    "print(len(s2))\n",
    "print(s2)"
   ]
  },
  {
   "cell_type": "code",
   "execution_count": null,
   "id": "7ac2e35a-13cf-412e-8489-4ab4cdfc7ed6",
   "metadata": {},
   "outputs": [],
   "source": []
  },
  {
   "cell_type": "code",
   "execution_count": 70,
   "id": "0def00ba-6e1f-4821-8a07-e0e2fc95924c",
   "metadata": {},
   "outputs": [
    {
     "name": "stdout",
     "output_type": "stream",
     "text": [
      "{} <class 'dict'>\n"
     ]
    }
   ],
   "source": [
    "s2={}\n",
    "print(s2,type(s2))"
   ]
  },
  {
   "cell_type": "code",
   "execution_count": 71,
   "id": "cb7d2751-8d49-4ac9-b048-ef670af6db88",
   "metadata": {},
   "outputs": [
    {
     "name": "stdout",
     "output_type": "stream",
     "text": [
      "set() <class 'set'>\n"
     ]
    }
   ],
   "source": [
    "a = set()\n",
    "print(a,type(a))"
   ]
  },
  {
   "cell_type": "code",
   "execution_count": 72,
   "id": "6408f457-2caa-4851-aa4e-9c017dc814b0",
   "metadata": {},
   "outputs": [],
   "source": [
    "a.add(1)"
   ]
  },
  {
   "cell_type": "code",
   "execution_count": 73,
   "id": "820848b2-6996-4306-9141-8e3f54a48a86",
   "metadata": {},
   "outputs": [
    {
     "name": "stdout",
     "output_type": "stream",
     "text": [
      "{1}\n"
     ]
    }
   ],
   "source": [
    "print(a)"
   ]
  },
  {
   "cell_type": "code",
   "execution_count": 78,
   "id": "b8f85c61-091e-4093-9a16-c30cbb413831",
   "metadata": {},
   "outputs": [],
   "source": [
    "# union\n",
    "# intersection\n",
    "# difference\n",
    "# subset\n",
    "# disjoint"
   ]
  },
  {
   "cell_type": "code",
   "execution_count": 83,
   "id": "b43c3349-b46b-42e5-8bec-8bdff941c809",
   "metadata": {},
   "outputs": [
    {
     "name": "stdout",
     "output_type": "stream",
     "text": [
      "{'apple', 'burger', 'grapes', 'mango', 'pizza'}\n",
      "{'apple', 'onion', 'burger', 'carrot', 'grapes', 'tomato', 'mango', 'pizza'}\n"
     ]
    }
   ],
   "source": [
    "# union\n",
    "fr={'apple','grapes','mango'}\n",
    "ve={'onion','carrot','tomato'}\n",
    "di={'pizza','burger'}\n",
    "\n",
    "print(fr.union(di))\n",
    "\n",
    "print(ve | di | fr) \n"
   ]
  },
  {
   "cell_type": "code",
   "execution_count": 86,
   "id": "abce452c-a23c-4691-995b-8e4a41138421",
   "metadata": {},
   "outputs": [
    {
     "name": "stdout",
     "output_type": "stream",
     "text": [
      "{3, 4, 5}\n",
      "{3, 4, 5}\n"
     ]
    }
   ],
   "source": [
    "# intersection\n",
    "\n",
    "s1={1,2,3,4,5}\n",
    "s2={3,4,5,6,7,8,9}\n",
    "\n",
    "\n",
    "print(s1.intersection(s2))\n",
    "\n",
    "print(s1 & s2)"
   ]
  },
  {
   "cell_type": "code",
   "execution_count": 88,
   "id": "e867e78c-3dbf-4959-8522-221d20bb1a69",
   "metadata": {},
   "outputs": [
    {
     "name": "stdout",
     "output_type": "stream",
     "text": [
      "{1, 2}\n",
      "{8, 9, 6, 7}\n"
     ]
    }
   ],
   "source": [
    "# difference \n",
    "\n",
    "print(s1.difference(s2))\n",
    "\n",
    "print(s2 - s1)"
   ]
  },
  {
   "cell_type": "code",
   "execution_count": 90,
   "id": "1fafd897-e94c-470a-bb13-bd97eaf11acf",
   "metadata": {},
   "outputs": [
    {
     "name": "stdout",
     "output_type": "stream",
     "text": [
      "True\n",
      "False\n"
     ]
    }
   ],
   "source": [
    "# subset\n",
    "\n",
    "a = {1,2,3,4,5,6,7,}\n",
    "b ={1,2,3,4,5,6,7,8,9,0}\n",
    "\n",
    "print(a.issubset(b))\n",
    "\n",
    "print(b.issubset(a))"
   ]
  },
  {
   "cell_type": "code",
   "execution_count": 93,
   "id": "b58d717c-a227-47b4-8b58-f40ea3eada0a",
   "metadata": {},
   "outputs": [
    {
     "name": "stdout",
     "output_type": "stream",
     "text": [
      "True\n"
     ]
    }
   ],
   "source": [
    "# disjoint\n",
    "x={1,2,3,4}\n",
    "y={6,7,8,9}\n",
    "\n",
    "print(x.isdisjoint(y))"
   ]
  },
  {
   "cell_type": "code",
   "execution_count": 96,
   "id": "b68cc208-bd08-43f9-b9c9-c7ceaf104384",
   "metadata": {},
   "outputs": [
    {
     "name": "stdout",
     "output_type": "stream",
     "text": [
      "{'b': 1, 'a': 3, 'n': 2}\n"
     ]
    }
   ],
   "source": [
    "s = 'banana'\n",
    "d={}\n",
    "for i in s:\n",
    "    d[i]= s.count(i)\n",
    "\n",
    "print(d)"
   ]
  },
  {
   "cell_type": "code",
   "execution_count": 98,
   "id": "8986e098-cbdf-4222-8a03-7c23095ae057",
   "metadata": {},
   "outputs": [
    {
     "name": "stdout",
     "output_type": "stream",
     "text": [
      "{'b': 1, 'a': 3, 'n': 2}\n"
     ]
    }
   ],
   "source": [
    "print({i:s.count(i) for i in s})"
   ]
  },
  {
   "cell_type": "code",
   "execution_count": 100,
   "id": "22b17fa0-7ace-4f49-a74f-681b7fd0bb6b",
   "metadata": {},
   "outputs": [
    {
     "name": "stdout",
     "output_type": "stream",
     "text": [
      "[1, 2, 3, 4, 5, 6]\n"
     ]
    }
   ],
   "source": [
    "L=[1,2,1,3,4,5,3,6]\n",
    "l=[]\n",
    "\n",
    "for i in L:\n",
    "    if i not in l:\n",
    "        l.append(i)\n",
    "\n",
    "print(l)"
   ]
  },
  {
   "cell_type": "code",
   "execution_count": 102,
   "id": "17d6c1f1-ce95-4a25-9917-c72690aaad98",
   "metadata": {},
   "outputs": [
    {
     "name": "stdout",
     "output_type": "stream",
     "text": [
      "[1, 2, 3, 4, 5, 6]\n"
     ]
    }
   ],
   "source": [
    "L=[1,2,1,3,4,5,3,6]\n",
    "print(list(set(L)))"
   ]
  },
  {
   "cell_type": "code",
   "execution_count": null,
   "id": "be13a5dc-9041-462b-846c-4ea3e679e21d",
   "metadata": {},
   "outputs": [],
   "source": []
  },
  {
   "cell_type": "code",
   "execution_count": null,
   "id": "da5f4dee-c392-4e8b-b1a9-b6ed95973d56",
   "metadata": {},
   "outputs": [],
   "source": []
  },
  {
   "cell_type": "code",
   "execution_count": null,
   "id": "8767cd7a-3a81-4208-9933-f161c89210ab",
   "metadata": {},
   "outputs": [],
   "source": []
  },
  {
   "cell_type": "code",
   "execution_count": null,
   "id": "d0a0062b-8857-4990-8283-5f02a78671d8",
   "metadata": {},
   "outputs": [],
   "source": []
  },
  {
   "cell_type": "code",
   "execution_count": null,
   "id": "8ec03766-fe00-4863-b269-a4fa69878acf",
   "metadata": {},
   "outputs": [],
   "source": []
  }
 ],
 "metadata": {
  "kernelspec": {
   "display_name": "Python [conda env:base] *",
   "language": "python",
   "name": "conda-base-py"
  },
  "language_info": {
   "codemirror_mode": {
    "name": "ipython",
    "version": 3
   },
   "file_extension": ".py",
   "mimetype": "text/x-python",
   "name": "python",
   "nbconvert_exporter": "python",
   "pygments_lexer": "ipython3",
   "version": "3.12.7"
  }
 },
 "nbformat": 4,
 "nbformat_minor": 5
}
