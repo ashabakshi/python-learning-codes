{
 "cells": [
  {
   "cell_type": "code",
   "execution_count": 1,
   "id": "90a964c4-710a-4f5c-ab2c-795bc3946998",
   "metadata": {},
   "outputs": [],
   "source": [
    "# exception handling"
   ]
  },
  {
   "cell_type": "code",
   "execution_count": null,
   "id": "4b5f0e60-bf24-43a5-a963-a06e53f2f9b3",
   "metadata": {},
   "outputs": [],
   "source": [
    "# exception - It is an event which occurs during the execution of the program by normal flow of the program get disrupts"
   ]
  },
  {
   "cell_type": "code",
   "execution_count": 6,
   "id": "07496587-1032-4daa-b245-4a0f2b72be85",
   "metadata": {},
   "outputs": [
    {
     "name": "stdout",
     "output_type": "stream",
     "text": [
      "hello\n"
     ]
    },
    {
     "ename": "NameError",
     "evalue": "name 'Print' is not defined",
     "output_type": "error",
     "traceback": [
      "\u001b[1;31m---------------------------------------------------------------------------\u001b[0m",
      "\u001b[1;31mNameError\u001b[0m                                 Traceback (most recent call last)",
      "Cell \u001b[1;32mIn[6], line 2\u001b[0m\n\u001b[0;32m      1\u001b[0m \u001b[38;5;28mprint\u001b[39m(\u001b[38;5;124m'\u001b[39m\u001b[38;5;124mhello\u001b[39m\u001b[38;5;124m'\u001b[39m)\n\u001b[1;32m----> 2\u001b[0m Print(\u001b[38;5;124m'\u001b[39m\u001b[38;5;124mhii\u001b[39m\u001b[38;5;124m'\u001b[39m)\n\u001b[0;32m      3\u001b[0m \u001b[38;5;28mprint\u001b[39m(\u001b[38;5;124m'\u001b[39m\u001b[38;5;124mhey\u001b[39m\u001b[38;5;124m'\u001b[39m)\n",
      "\u001b[1;31mNameError\u001b[0m: name 'Print' is not defined"
     ]
    }
   ],
   "source": [
    "print('hello')\n",
    "Print('hii')\n",
    "print('hey')"
   ]
  },
  {
   "cell_type": "code",
   "execution_count": 4,
   "id": "7cc1ed20-9e92-4d07-8d6b-a9215ebb3813",
   "metadata": {},
   "outputs": [
    {
     "ename": "SyntaxError",
     "evalue": "unterminated string literal (detected at line 2) (95743053.py, line 2)",
     "output_type": "error",
     "traceback": [
      "\u001b[1;36m  Cell \u001b[1;32mIn[4], line 2\u001b[1;36m\u001b[0m\n\u001b[1;33m    print('hii)\u001b[0m\n\u001b[1;37m          ^\u001b[0m\n\u001b[1;31mSyntaxError\u001b[0m\u001b[1;31m:\u001b[0m unterminated string literal (detected at line 2)\n"
     ]
    }
   ],
   "source": [
    "print('hello')\n",
    "print('hii)\n",
    "print('hey')\n"
   ]
  },
  {
   "cell_type": "code",
   "execution_count": 7,
   "id": "cd8d44d0-2a6b-45a6-bf41-37b5e0d441d7",
   "metadata": {},
   "outputs": [],
   "source": [
    "# TypError\n",
    "# ValueError\n",
    "# AttributeError\n",
    "# fileNotFoundError\n",
    "# IndexError\n",
    "#"
   ]
  },
  {
   "cell_type": "code",
   "execution_count": null,
   "id": "b64bdea1-6368-4313-ae0f-7485dfc375b0",
   "metadata": {},
   "outputs": [],
   "source": [
    "# EXCEPTION Handling - It is a process of handling the exception by using the try and except block\n",
    "\n",
    "try:\n",
    "    # in this block we write that line of code that may or may not trough the error\n",
    "\n",
    "except:\n",
    "    # in this block we write the statement to handle the exception"
   ]
  },
  {
   "cell_type": "code",
   "execution_count": 9,
   "id": "d07c4ca4-2f8c-4123-a50b-16a803cc4f94",
   "metadata": {},
   "outputs": [
    {
     "name": "stdin",
     "output_type": "stream",
     "text": [
      "enter a  10\n",
      "enter b  0\n"
     ]
    },
    {
     "ename": "ZeroDivisionError",
     "evalue": "division by zero",
     "output_type": "error",
     "traceback": [
      "\u001b[1;31m---------------------------------------------------------------------------\u001b[0m",
      "\u001b[1;31mZeroDivisionError\u001b[0m                         Traceback (most recent call last)",
      "Cell \u001b[1;32mIn[9], line 3\u001b[0m\n\u001b[0;32m      1\u001b[0m a \u001b[38;5;241m=\u001b[39m \u001b[38;5;28mint\u001b[39m(\u001b[38;5;28minput\u001b[39m(\u001b[38;5;124m'\u001b[39m\u001b[38;5;124menter a \u001b[39m\u001b[38;5;124m'\u001b[39m))\n\u001b[0;32m      2\u001b[0m b \u001b[38;5;241m=\u001b[39m \u001b[38;5;28mint\u001b[39m(\u001b[38;5;28minput\u001b[39m(\u001b[38;5;124m'\u001b[39m\u001b[38;5;124menter b \u001b[39m\u001b[38;5;124m'\u001b[39m))\n\u001b[1;32m----> 3\u001b[0m c\u001b[38;5;241m=\u001b[39ma\u001b[38;5;241m/\u001b[39mb\n\u001b[0;32m      4\u001b[0m \u001b[38;5;28mprint\u001b[39m(c)\n",
      "\u001b[1;31mZeroDivisionError\u001b[0m: division by zero"
     ]
    }
   ],
   "source": [
    "a = int(input('enter a '))\n",
    "b = int(input('enter b '))\n",
    "c=a/b\n",
    "print(c)"
   ]
  },
  {
   "cell_type": "code",
   "execution_count": 12,
   "id": "1f57cfb4-5a6f-402b-8042-b9e20153a36a",
   "metadata": {},
   "outputs": [
    {
     "name": "stdin",
     "output_type": "stream",
     "text": [
      "enter a  1\n",
      "enter b  1.0\n"
     ]
    },
    {
     "ename": "ValueError",
     "evalue": "invalid literal for int() with base 10: '1.0'",
     "output_type": "error",
     "traceback": [
      "\u001b[1;31m---------------------------------------------------------------------------\u001b[0m",
      "\u001b[1;31mValueError\u001b[0m                                Traceback (most recent call last)",
      "Cell \u001b[1;32mIn[12], line 2\u001b[0m\n\u001b[0;32m      1\u001b[0m a \u001b[38;5;241m=\u001b[39m \u001b[38;5;28mint\u001b[39m(\u001b[38;5;28minput\u001b[39m(\u001b[38;5;124m'\u001b[39m\u001b[38;5;124menter a \u001b[39m\u001b[38;5;124m'\u001b[39m))\n\u001b[1;32m----> 2\u001b[0m b \u001b[38;5;241m=\u001b[39m \u001b[38;5;28mint\u001b[39m(\u001b[38;5;28minput\u001b[39m(\u001b[38;5;124m'\u001b[39m\u001b[38;5;124menter b \u001b[39m\u001b[38;5;124m'\u001b[39m))\n\u001b[0;32m      3\u001b[0m \u001b[38;5;28;01mtry\u001b[39;00m:\n\u001b[0;32m      4\u001b[0m     c\u001b[38;5;241m=\u001b[39ma\u001b[38;5;241m/\u001b[39mb\n",
      "\u001b[1;31mValueError\u001b[0m: invalid literal for int() with base 10: '1.0'"
     ]
    }
   ],
   "source": [
    "a = int(input('enter a '))\n",
    "b = int(input('enter b '))\n",
    "try:\n",
    "    c=a/b\n",
    "    print(c)\n",
    "\n",
    "except:\n",
    "    print('Denominator cant be zero')"
   ]
  },
  {
   "cell_type": "code",
   "execution_count": null,
   "id": "778cbe23-3444-477d-8c5c-4f91a8a98429",
   "metadata": {},
   "outputs": [],
   "source": [
    "# try always runs wheter thewre is an exception or not\n",
    "# except block runs only when there is an exception"
   ]
  },
  {
   "cell_type": "code",
   "execution_count": 19,
   "id": "03d8e63f-6894-470a-a9a1-8d1b95ad30f1",
   "metadata": {},
   "outputs": [
    {
     "name": "stdin",
     "output_type": "stream",
     "text": [
      "enter a  /\n"
     ]
    },
    {
     "name": "stdout",
     "output_type": "stream",
     "text": [
      "Only pass the integer\n"
     ]
    }
   ],
   "source": [
    "\n",
    "try:\n",
    "    a = int(input('enter a '))\n",
    "    b = int(input('enter b '))\n",
    "    c=a/b\n",
    "    print(c)\n",
    "\n",
    "except ZeroDivisionError:\n",
    "    print('Denominator cant be zero')\n",
    "\n",
    "except ValueError:\n",
    "    print('Only pass the integer')"
   ]
  },
  {
   "cell_type": "code",
   "execution_count": 22,
   "id": "715f830c-f22a-4183-8e4b-f78f9de4dcf2",
   "metadata": {},
   "outputs": [
    {
     "name": "stdin",
     "output_type": "stream",
     "text": [
      "enter a  10\n",
      "enter b  10\n"
     ]
    },
    {
     "name": "stdout",
     "output_type": "stream",
     "text": [
      "1.0\n",
      "Index out of Range\n"
     ]
    }
   ],
   "source": [
    "L = [1 ,2 ,3 ,4]\n",
    "try:\n",
    "    a = int(input('enter a '))\n",
    "    b = int(input('enter b '))\n",
    "    c=a/b\n",
    "    print(c)\n",
    "    print(L[b])\n",
    "\n",
    "except ZeroDivisionError:\n",
    "    print('Denominator cant be zero')\n",
    "\n",
    "except ValueError:\n",
    "    print('Only pass the integer')\n",
    "\n",
    "except IndexError:\n",
    "    print('Index out of Range')"
   ]
  },
  {
   "cell_type": "code",
   "execution_count": 28,
   "id": "614c8ddc-1bdf-4289-af9b-92c8b17811c9",
   "metadata": {},
   "outputs": [
    {
     "name": "stdin",
     "output_type": "stream",
     "text": [
      "enter age  17\n"
     ]
    },
    {
     "ename": "ValueError",
     "evalue": "age cannot -ve",
     "output_type": "error",
     "traceback": [
      "\u001b[1;31m---------------------------------------------------------------------------\u001b[0m",
      "\u001b[1;31mValueError\u001b[0m                                Traceback (most recent call last)",
      "Cell \u001b[1;32mIn[28], line 4\u001b[0m\n\u001b[0;32m      1\u001b[0m age \u001b[38;5;241m=\u001b[39m \u001b[38;5;28mint\u001b[39m(\u001b[38;5;28minput\u001b[39m(\u001b[38;5;124m'\u001b[39m\u001b[38;5;124menter age \u001b[39m\u001b[38;5;124m'\u001b[39m))\n\u001b[0;32m      3\u001b[0m \u001b[38;5;28;01mif\u001b[39;00m age\u001b[38;5;241m<\u001b[39m\u001b[38;5;241m18\u001b[39m:\n\u001b[1;32m----> 4\u001b[0m     \u001b[38;5;28;01mraise\u001b[39;00m \u001b[38;5;167;01mValueError\u001b[39;00m (\u001b[38;5;124m'\u001b[39m\u001b[38;5;124mage cannot -ve\u001b[39m\u001b[38;5;124m'\u001b[39m)\n\u001b[0;32m      6\u001b[0m \u001b[38;5;28mprint\u001b[39m(\u001b[38;5;124m'\u001b[39m\u001b[38;5;124myou are eligibnle for votinh\u001b[39m\u001b[38;5;124m'\u001b[39m)\n",
      "\u001b[1;31mValueError\u001b[0m: age cannot -ve"
     ]
    }
   ],
   "source": [
    "age = int(input('enter age '))\n",
    "\n",
    "if age<18:\n",
    "    raise ValueError ('age cannot -ve')\n",
    "\n",
    "print('you are eligibnle for votinh')"
   ]
  },
  {
   "cell_type": "code",
   "execution_count": null,
   "id": "d57cf0dd-8c54-4dff-b165-a687ff257e70",
   "metadata": {},
   "outputs": [],
   "source": []
  },
  {
   "cell_type": "code",
   "execution_count": null,
   "id": "e933554c-69fb-493d-9ac8-6fb314324172",
   "metadata": {},
   "outputs": [],
   "source": []
  },
  {
   "cell_type": "code",
   "execution_count": null,
   "id": "235b815a-a6f5-43a2-8817-e617a4ebe48b",
   "metadata": {},
   "outputs": [],
   "source": []
  },
  {
   "cell_type": "code",
   "execution_count": null,
   "id": "b0873138-3fb8-45be-a7e9-a522580ae750",
   "metadata": {},
   "outputs": [],
   "source": []
  }
 ],
 "metadata": {
  "kernelspec": {
   "display_name": "Python 3 (ipykernel)",
   "language": "python",
   "name": "python3"
  },
  "language_info": {
   "codemirror_mode": {
    "name": "ipython",
    "version": 3
   },
   "file_extension": ".py",
   "mimetype": "text/x-python",
   "name": "python",
   "nbconvert_exporter": "python",
   "pygments_lexer": "ipython3",
   "version": "3.12.9"
  }
 },
 "nbformat": 4,
 "nbformat_minor": 5
}
