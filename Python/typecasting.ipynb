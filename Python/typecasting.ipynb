{
 "cells": [
  {
   "cell_type": "markdown",
   "id": "86accfc9-ac8d-450e-aa11-dea3cc6185c0",
   "metadata": {},
   "source": [
    "# typecasting \n"
   ]
  },
  {
   "cell_type": "code",
   "execution_count": 1,
   "id": "5d5f240d-5f51-46b5-a76d-9174a27d1f3e",
   "metadata": {},
   "outputs": [
    {
     "name": "stdout",
     "output_type": "stream",
     "text": [
      "5.0 <class 'float'>\n"
     ]
    }
   ],
   "source": [
    "# convert '5' into float\n",
    "a='5'\n",
    "b=float(a)\n",
    "print(b, type(b))"
   ]
  },
  {
   "cell_type": "code",
   "execution_count": 2,
   "id": "7145ac1e-f502-4051-8c0a-2637d5ce8d92",
   "metadata": {},
   "outputs": [
    {
     "name": "stdout",
     "output_type": "stream",
     "text": [
      "5.6 <class 'str'>\n"
     ]
    }
   ],
   "source": [
    "#convert 5.6 into string \n",
    "\n",
    "z= 5.6\n",
    "y= str(z)\n",
    "print(y, type(y))"
   ]
  },
  {
   "cell_type": "code",
   "execution_count": 7,
   "id": "7ff2070f-2a94-40af-877c-07968f2b40db",
   "metadata": {},
   "outputs": [
    {
     "name": "stdout",
     "output_type": "stream",
     "text": [
      "Print the data type of  10.5 is <class 'str'>\n",
      "Print the data type of  10.5 is <class 'float'>\n",
      "Print the data type of  10 is <class 'int'>\n"
     ]
    }
   ],
   "source": [
    "#convert '10.5' into int\n",
    "c='10.5'\n",
    "d= float(c)\n",
    "r= int(d)\n",
    "print('Print the data type of ',c,'is', type(c))\n",
    "print('Print the data type of ',d,'is', type(d))\n",
    "print('Print the data type of ',r,'is', type(r))"
   ]
  },
  {
   "cell_type": "code",
   "execution_count": 9,
   "id": "054060b6-a62e-4844-8aad-4d32aa65ad41",
   "metadata": {},
   "outputs": [
    {
     "name": "stdin",
     "output_type": "stream",
     "text": [
      "enter the value of a  2\n"
     ]
    },
    {
     "name": "stdout",
     "output_type": "stream",
     "text": [
      "2 <class 'str'>\n"
     ]
    }
   ],
   "source": [
    "#input\n",
    "a = input('enter the value of a ')\n",
    "print(a, type(a))"
   ]
  },
  {
   "cell_type": "code",
   "execution_count": 10,
   "id": "b567f154-1577-4fbc-9580-c8a91ce412f4",
   "metadata": {},
   "outputs": [
    {
     "name": "stdin",
     "output_type": "stream",
     "text": [
      "enter the value of b  2.3\n"
     ]
    },
    {
     "ename": "ValueError",
     "evalue": "invalid literal for int() with base 10: '2.3'",
     "output_type": "error",
     "traceback": [
      "\u001b[1;31m---------------------------------------------------------------------------\u001b[0m",
      "\u001b[1;31mValueError\u001b[0m                                Traceback (most recent call last)",
      "Cell \u001b[1;32mIn[10], line 1\u001b[0m\n\u001b[1;32m----> 1\u001b[0m b \u001b[38;5;241m=\u001b[39m \u001b[38;5;28mint\u001b[39m(\u001b[38;5;28minput\u001b[39m(\u001b[38;5;124m'\u001b[39m\u001b[38;5;124menter the value of b \u001b[39m\u001b[38;5;124m'\u001b[39m))\n\u001b[0;32m      2\u001b[0m \u001b[38;5;28mprint\u001b[39m(b, \u001b[38;5;28mtype\u001b[39m(b))\n",
      "\u001b[1;31mValueError\u001b[0m: invalid literal for int() with base 10: '2.3'"
     ]
    }
   ],
   "source": [
    "b = int(input('enter the value of b '))\n",
    "print(b, type(b)) # error bcz int can't convert str ,, so 1st changed into float then int "
   ]
  },
  {
   "cell_type": "code",
   "execution_count": 12,
   "id": "27be02b3-9189-4b5c-b073-dec34a0eb122",
   "metadata": {},
   "outputs": [
    {
     "name": "stdin",
     "output_type": "stream",
     "text": [
      "enter the value of c  5.5\n"
     ]
    },
    {
     "name": "stdout",
     "output_type": "stream",
     "text": [
      "5.5 <class 'float'>\n",
      "5 <class 'int'>\n"
     ]
    }
   ],
   "source": [
    "c = float(input('enter the value of c '))\n",
    "print(c, type(c))\n",
    "d=int(c)\n",
    "print(d, type(d))"
   ]
  },
  {
   "cell_type": "code",
   "execution_count": 20,
   "id": "c43104d1-acdb-4195-8a10-279add7fcc14",
   "metadata": {},
   "outputs": [
    {
     "name": "stdin",
     "output_type": "stream",
     "text": [
      "Enter your name asha\n"
     ]
    },
    {
     "name": "stdout",
     "output_type": "stream",
     "text": [
      "My name is asha <class 'str'>\n"
     ]
    }
   ],
   "source": [
    "#input name\n",
    "\n",
    "a= input('Enter your name')\n",
    "print('My name is',a, type(a))"
   ]
  },
  {
   "cell_type": "code",
   "execution_count": 24,
   "id": "a5a8611f-5b90-4eb9-a005-badd0efedb1e",
   "metadata": {},
   "outputs": [
    {
     "name": "stdin",
     "output_type": "stream",
     "text": [
      "Enter your age 20\n"
     ]
    },
    {
     "name": "stdout",
     "output_type": "stream",
     "text": [
      "My name is 20 <class 'int'>\n"
     ]
    }
   ],
   "source": [
    "#input age\n",
    "b = int(input('Enter your age'))\n",
    "print('My name is',b, type(b))"
   ]
  },
  {
   "cell_type": "code",
   "execution_count": 22,
   "id": "b2900a7d-1cab-465d-b4b1-5b6a44476b74",
   "metadata": {},
   "outputs": [
    {
     "name": "stdin",
     "output_type": "stream",
     "text": [
      "Enter your marks 50.67\n"
     ]
    },
    {
     "name": "stdout",
     "output_type": "stream",
     "text": [
      "My name is 50.67 <class 'float'>\n"
     ]
    }
   ],
   "source": [
    "#input marks\n",
    "b = float(input('Enter your marks'))\n",
    "print('My name is',b, type(b))"
   ]
  },
  {
   "cell_type": "code",
   "execution_count": null,
   "id": "daa2fa2a-8aec-406b-90e0-f0e04b1e0380",
   "metadata": {},
   "outputs": [],
   "source": []
  }
 ],
 "metadata": {
  "kernelspec": {
   "display_name": "Python [conda env:base] *",
   "language": "python",
   "name": "conda-base-py"
  },
  "language_info": {
   "codemirror_mode": {
    "name": "ipython",
    "version": 3
   },
   "file_extension": ".py",
   "mimetype": "text/x-python",
   "name": "python",
   "nbconvert_exporter": "python",
   "pygments_lexer": "ipython3",
   "version": "3.12.7"
  }
 },
 "nbformat": 4,
 "nbformat_minor": 5
}
