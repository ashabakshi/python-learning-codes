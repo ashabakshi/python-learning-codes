{
 "cells": [
  {
   "cell_type": "markdown",
   "id": "2e7cbd93-73db-4fce-ad45-f3b694414ddd",
   "metadata": {},
   "source": [
    "# IF ELSE STATEMENT "
   ]
  },
  {
   "cell_type": "code",
   "execution_count": 3,
   "id": "e1e6e66f-cd63-499f-8e4f-4a8f84600b14",
   "metadata": {},
   "outputs": [
    {
     "name": "stdin",
     "output_type": "stream",
     "text": [
      "enter n 5\n"
     ]
    },
    {
     "name": "stdout",
     "output_type": "stream",
     "text": [
      "5 is positive\n"
     ]
    }
   ],
   "source": [
    "n = int(input('enter n'))\n",
    "if n>0:\n",
    "        print(n, 'is positive')\n",
    "else:\n",
    "    print(n, 'is negative')\n"
   ]
  },
  {
   "cell_type": "code",
   "execution_count": 4,
   "id": "70e7f487-e369-47ac-bc9b-3b28e86e99e9",
   "metadata": {},
   "outputs": [
    {
     "name": "stdin",
     "output_type": "stream",
     "text": [
      "enter n 4\n"
     ]
    },
    {
     "name": "stdout",
     "output_type": "stream",
     "text": [
      "4 is even\n"
     ]
    }
   ],
   "source": [
    "n = int(input('enter n'))\n",
    "if n%2==0:\n",
    "    print(n,'is even')\n",
    "else:\n",
    "    print(n , 'is odd')"
   ]
  },
  {
   "cell_type": "code",
   "execution_count": 7,
   "id": "c62b5c98-2012-477d-ad2e-b090a514a79a",
   "metadata": {},
   "outputs": [
    {
     "name": "stdin",
     "output_type": "stream",
     "text": [
      "enter a 0\n",
      "enter b 9\n"
     ]
    },
    {
     "name": "stdout",
     "output_type": "stream",
     "text": [
      "9  is greater than  0\n"
     ]
    }
   ],
   "source": [
    " a= int(input('enter a'))\n",
    " b = int(input('enter b'))\n",
    "if a>b:\n",
    "    print(a ,' is greater than ', b)\n",
    "else:\n",
    "    print(b ,' is greater than ', a)\n",
    "    \n"
   ]
  },
  {
   "cell_type": "markdown",
   "id": "83262182-6796-4398-8e8b-62ae1563c736",
   "metadata": {},
   "source": [
    "# elif (multiple condition)"
   ]
  },
  {
   "cell_type": "code",
   "execution_count": null,
   "id": "dfebbe5e-2bf9-42b9-b641-489580d6cff6",
   "metadata": {},
   "outputs": [],
   "source": [
    "n = int(input('enter n'))\n",
    "if n>0:\n",
    "        print(n, 'is positive')\n",
    "elif n==0:\n",
    "    print(n, 'is Neutral')\n",
    "else:\n",
    "    print(n, 'is negative')"
   ]
  },
  {
   "cell_type": "code",
   "execution_count": 12,
   "id": "7fef0173-112c-4ec7-bdc4-855775de2113",
   "metadata": {},
   "outputs": [
    {
     "name": "stdin",
     "output_type": "stream",
     "text": [
      "enter a 7\n",
      "enter b 7\n",
      "enter operator %\n"
     ]
    },
    {
     "name": "stdout",
     "output_type": "stream",
     "text": [
      "invalid operator\n"
     ]
    }
   ],
   "source": [
    "a= int(input('enter a'))\n",
    "b = int(input('enter b'))\n",
    "c = input('enter operator')\n",
    "if c=='+':\n",
    "    print(a+b, 'plus operator')\n",
    "elif c=='-':\n",
    "     print(a-b, 'minus operator')\n",
    "elif c=='*':\n",
    "     print(a*b, 'multiply operator')\n",
    "else:\n",
    "     print('invalid operator')"
   ]
  },
  {
   "cell_type": "code",
   "execution_count": 13,
   "id": "34eeec46-fb7f-4f3c-b504-3c5b780509a1",
   "metadata": {},
   "outputs": [
    {
     "name": "stdin",
     "output_type": "stream",
     "text": [
      "enter a 4\n",
      "enter b 5\n",
      "enter c 6\n"
     ]
    },
    {
     "name": "stdout",
     "output_type": "stream",
     "text": [
      "6 is greater than 5 4\n"
     ]
    }
   ],
   "source": [
    "a= int(input('enter a'))\n",
    "b = int(input('enter b'))\n",
    "c = int(input('enter c'))\n",
    "if a>b and a>c:\n",
    "    print(a, 'is greater than', b , c)\n",
    "elif b>a and b>c:\n",
    "     print(b, 'is greater than', a , c)\n",
    "else:\n",
    "     print(c, 'is greater than', b , a)"
   ]
  },
  {
   "cell_type": "code",
   "execution_count": 21,
   "id": "d2142775-567c-4996-bbb5-e8d17cd867f9",
   "metadata": {},
   "outputs": [
    {
     "name": "stdin",
     "output_type": "stream",
     "text": [
      "enter marks 60\n"
     ]
    },
    {
     "name": "stdout",
     "output_type": "stream",
     "text": [
      "grade is B\n"
     ]
    }
   ],
   "source": [
    "m = int(input('enter marks'))\n",
    "if m>90 and m<=100:\n",
    "    print('grade is A')\n",
    "elif m>70 and m<=90:\n",
    "    print('grade is B')\n",
    "elif m>50 and m<70:\n",
    "    print('grade is B')\n",
    "elif m>30 and m<=50:\n",
    "    print('grade is B')\n",
    "else:\n",
    "    print('grade is E')"
   ]
  },
  {
   "cell_type": "code",
   "execution_count": 8,
   "id": "6ff611bc-90bb-4841-b3d5-7da859f48493",
   "metadata": {},
   "outputs": [
    {
     "name": "stdin",
     "output_type": "stream",
     "text": [
      "Enter Day: monday\n"
     ]
    },
    {
     "name": "stdout",
     "output_type": "stream",
     "text": [
      "Weekday\n"
     ]
    }
   ],
   "source": [
    "a= input('Enter Day:')\n",
    "if a== 'sunday' or a== 'Saturday':\n",
    "    print('Weekend')\n",
    "elif a=='monday' or  a== 'tuesday' or a=='wednesday':\n",
    "     print('Weekday')\n",
    "else:\n",
    "     print('invalid day')"
   ]
  },
  {
   "cell_type": "code",
   "execution_count": 16,
   "id": "ae4def4d-5398-4227-8d9b-9a75d6872eb3",
   "metadata": {},
   "outputs": [
    {
     "name": "stdin",
     "output_type": "stream",
     "text": [
      "enter your salary 50000\n"
     ]
    },
    {
     "name": "stdout",
     "output_type": "stream",
     "text": [
      "Net sal 40000.0\n"
     ]
    }
   ],
   "source": [
    "sal = int(input('enter your salary'))\n",
    "if sal<25000:\n",
    "    print('Net sal', sal -(sal*0 )/100)\n",
    "elif sal>=25000 and sal<50000:\n",
    "     print('Net sal', sal -(sal*10 )/100)\n",
    "  \n",
    "elif sal>=50000 and sal<100000:\n",
    "       print('Net sal', sal -(sal*20 )/100)\n",
    "\n",
    "else:\n",
    "       print('Net sal', sal -(sal*50 )/100)"
   ]
  },
  {
   "cell_type": "code",
   "execution_count": 28,
   "id": "0e97edf6-bca1-4a32-885f-8cdc5db42f0a",
   "metadata": {},
   "outputs": [
    {
     "name": "stdin",
     "output_type": "stream",
     "text": [
      "enter n: 35\n"
     ]
    },
    {
     "name": "stdout",
     "output_type": "stream",
     "text": [
      "35 divisble by 5 and 7\n"
     ]
    }
   ],
   "source": [
    "n = int (input('enter n:'))\n",
    "if n%5==0 and n%7==0:\n",
    "    print(n,'divisble by 5 and 7')\n",
    "elif n%7==0 :\n",
    "    print(n,'divisble by only 7')   \n",
    "elif n%5==0 :\n",
    "    print(n ,'divisble by only 5')\n",
    "else:\n",
    "        print('None of them ')\n"
   ]
  },
  {
   "cell_type": "markdown",
   "id": "052de988-f0a7-4a01-9835-6589912d07ae",
   "metadata": {},
   "source": [
    "# Nested "
   ]
  },
  {
   "cell_type": "code",
   "execution_count": 32,
   "id": "86064131-cddb-471b-b9ba-437a02d9ba0c",
   "metadata": {},
   "outputs": [
    {
     "name": "stdin",
     "output_type": "stream",
     "text": [
      "enter n : 6\n"
     ]
    },
    {
     "name": "stdout",
     "output_type": "stream",
     "text": [
      "6 is not div by any of them\n"
     ]
    }
   ],
   "source": [
    "n = int(input ('enter n :'))\n",
    "\n",
    "if n%5==0:\n",
    "    if n%7 ==0:\n",
    "        print(n, 'is div by 5 , 7')\n",
    "    else:\n",
    "        print(n ,'is div by only 5')\n",
    "\n",
    "elif n%7==0:\n",
    "    print(n , 'is div by only 7')\n",
    "else:\n",
    "    print(n , 'is not div by any of them')\n"
   ]
  },
  {
   "cell_type": "code",
   "execution_count": 2,
   "id": "3523db71-31ce-4153-9c39-f7b19460f38d",
   "metadata": {},
   "outputs": [
    {
     "name": "stdin",
     "output_type": "stream",
     "text": [
      "Enter radius: 2\n"
     ]
    },
    {
     "name": "stdout",
     "output_type": "stream",
     "text": [
      "Area of circle is 12.56\n"
     ]
    }
   ],
   "source": [
    "#1.\tWrite a Python program which accepts the radius of a circle from the user and compute the area.\n",
    "# Area=π*r*r\n",
    "\n",
    "r = float(input('Enter radius:'))\n",
    "pi= 3.14\n",
    "Area = pi*r*r\n",
    "print('Area of circle is',Area)"
   ]
  },
  {
   "cell_type": "code",
   "execution_count": 5,
   "id": "ffe4744c-0797-423a-8d58-266bb0e0b8d7",
   "metadata": {},
   "outputs": [
    {
     "name": "stdout",
     "output_type": "stream",
     "text": [
      "Volume of sphere: is 904.3199999999999\n"
     ]
    }
   ],
   "source": [
    "#2.\tWrite a Python program to get the volume of a sphere with radius 6.\n",
    "#formulae to calculate volume of sphere:  4/3 𝜋 r³\n",
    "r = 6\n",
    "pi= 3.14\n",
    "sphere =  (4/3)*pi*(r**3)\n",
    "print('Volume of sphere: is',sphere)\n"
   ]
  },
  {
   "cell_type": "code",
   "execution_count": 8,
   "id": "7a9b20b3-53cb-4198-ba0d-8f30f1f827b8",
   "metadata": {},
   "outputs": [
    {
     "name": "stdin",
     "output_type": "stream",
     "text": [
      "Enter number 4\n"
     ]
    },
    {
     "name": "stdout",
     "output_type": "stream",
     "text": [
      "sum of three equal numbers: 12.0\n",
      "three times the sum 36.0\n"
     ]
    }
   ],
   "source": [
    "#3.\tWrite a Python program to calculate the sum of three equal numbers, and the result is the three times of their sum.\n",
    "num=float(input('Enter number'))\n",
    "sum_of_three = num+num+num\n",
    "result= 3*sum_of_three\n",
    "\n",
    "print('sum of three equal numbers:' , sum_of_three)\n",
    "print('three times the sum', result)\n"
   ]
  },
  {
   "cell_type": "code",
   "execution_count": 12,
   "id": "005e5c98-6082-4a24-8bd8-ec671fc56497",
   "metadata": {},
   "outputs": [
    {
     "name": "stdin",
     "output_type": "stream",
     "text": [
      "Enter base: 7\n",
      "Enter height: 2\n"
     ]
    },
    {
     "name": "stdout",
     "output_type": "stream",
     "text": [
      "Area of triangle is  7.0\n"
     ]
    }
   ],
   "source": [
    "#4.\tWrite a Python program that will accept the base and height of a triangle and compute the area\n",
    "# formulae to calculate area of triangle:  1/2 base * height\n",
    "\n",
    "base= float(input('Enter base:'))\n",
    "height = float(input('Enter height:'))\n",
    "area = (1/2)*base*height\n",
    "print('Area of triangle is ', area)\n",
    "\n"
   ]
  },
  {
   "cell_type": "code",
   "execution_count": 14,
   "id": "afafbf9a-6314-4882-9b4f-9b658fd538a6",
   "metadata": {},
   "outputs": [
    {
     "name": "stdin",
     "output_type": "stream",
     "text": [
      "Enter x: 4\n",
      "Enter y: 3\n"
     ]
    },
    {
     "name": "stdout",
     "output_type": "stream",
     "text": [
      "49\n"
     ]
    }
   ],
   "source": [
    "#Write a Python program to solve (x + y) * (x + y) \n",
    "#Test Data : x = 4, y = 3\n",
    "#Expected Output :   49\n",
    "x = int(input('Enter x:'))\n",
    "y = int(input('Enter y:'))\n",
    "z = (x+y)*(x+y)\n",
    "print(z)"
   ]
  },
  {
   "cell_type": "code",
   "execution_count": 15,
   "id": "7cda1c54-ecad-4880-970d-902140cd87c3",
   "metadata": {},
   "outputs": [
    {
     "name": "stdin",
     "output_type": "stream",
     "text": [
      "Enter amount: 10000\n",
      "Enter int 3.5\n",
      "Enter number of years 7\n"
     ]
    },
    {
     "name": "stdout",
     "output_type": "stream",
     "text": [
      "Simple interest is 2450.0\n"
     ]
    }
   ],
   "source": [
    "## 6.\tWrite a Python program to compute the simple interest of a specified principal amount, rate of interest, and a number of years.\n",
    "# Test Data : amt = 10000, int = 3.5, years = 7\n",
    "# formluae= amt* int * years/100 ......(p *r*t)/100\n",
    "amt = int(input('Enter amount:'))\n",
    "interest = float(input('Enter int'))\n",
    "num_year = int(input('Enter number of years'))\n",
    "simple_int = (amt*interest*num_year)/100\n",
    "print('Simple interest is',simple_int)"
   ]
  },
  {
   "cell_type": "code",
   "execution_count": 16,
   "id": "1f2d3861-9123-45b8-8eea-d789f6f8e38e",
   "metadata": {},
   "outputs": [
    {
     "name": "stdout",
     "output_type": "stream",
     "text": [
      "as float value : 246.2458\n",
      "as int value : 246\n"
     ]
    }
   ],
   "source": [
    "# 7.\tWrite a Python program to convert (parse) a string to Float or Integer.\n",
    "# Test Data : \"246.2458\"\n",
    "# Expected Output : 246\n",
    "\n",
    "data= \"246.2458\"\n",
    "conv_float = float(data)\n",
    "conv_int = int(conv_float)\n",
    "print('as float value :', conv_float)\n",
    "print('as int value :', conv_int)"
   ]
  },
  {
   "cell_type": "code",
   "execution_count": 17,
   "id": "f5ea42a2-0f14-4b0f-8f8e-c76d3c15e83a",
   "metadata": {},
   "outputs": [
    {
     "name": "stdin",
     "output_type": "stream",
     "text": [
      "enter a: 5\n",
      "enter b: 7\n"
     ]
    },
    {
     "name": "stdout",
     "output_type": "stream",
     "text": [
      " Hypotenuse of a right angled triangle is  8.602325267042627\n"
     ]
    }
   ],
   "source": [
    "# 8.\tWrite a Python program to calculate the hypotenuse of a right angled triangle.\n",
    "# Formulae : c2 = a2 + b2,\n",
    "a = int(input('enter a:'))\n",
    "b = int(input('enter b:'))\n",
    "c = (a**2+b**2)**0.5\n",
    "print(' Hypotenuse of a right angled triangle is ', c)"
   ]
  },
  {
   "cell_type": "code",
   "execution_count": 24,
   "id": "2f5031d6-b697-422b-b1b5-7d8cf2469e89",
   "metadata": {},
   "outputs": [
    {
     "name": "stdout",
     "output_type": "stream",
     "text": [
      "a= 1\n",
      "x= 77\n"
     ]
    }
   ],
   "source": [
    "# 9.\tWrite a Python program to swap two variables\n",
    "# Test Data : a = 77, x= 1\n",
    "# Expected Output : a= 1, x=77\n",
    "a = 77\n",
    "x =1\n",
    "swap=a\n",
    "a=x\n",
    "x=swap\n",
    "print('a=',a)\n",
    "print('x=',x)"
   ]
  },
  {
   "cell_type": "code",
   "execution_count": 28,
   "id": "d117fce2-0e81-4354-9193-86626767ecd3",
   "metadata": {},
   "outputs": [
    {
     "name": "stdin",
     "output_type": "stream",
     "text": [
      "enter n: 2\n"
     ]
    },
    {
     "name": "stdout",
     "output_type": "stream",
     "text": [
      "cube of 2 is 8\n"
     ]
    }
   ],
   "source": [
    "# 10.\tWrite a Python program to calculate the cube of any number which was taken by input.\n",
    "n = int(input('enter n:'))\n",
    "cube= n**3\n",
    "print('cube of' , n ,'is', cube)"
   ]
  },
  {
   "cell_type": "code",
   "execution_count": 18,
   "id": "3e94421e-a25c-4350-82e2-f187298ef19a",
   "metadata": {},
   "outputs": [
    {
     "ename": "IndentationError",
     "evalue": "unindent does not match any outer indentation level (<string>, line 21)",
     "output_type": "error",
     "traceback": [
      "\u001b[1;36m  File \u001b[1;32m<string>:21\u001b[1;36m\u001b[0m\n\u001b[1;33m    else:\u001b[0m\n\u001b[1;37m         ^\u001b[0m\n\u001b[1;31mIndentationError\u001b[0m\u001b[1;31m:\u001b[0m unindent does not match any outer indentation level\n"
     ]
    }
   ],
   "source": [
    "w = input('Enter Your Weather')\n",
    "\n",
    "if w =='sunny':\n",
    "temp = int (input('Enter your temp'))\n",
    "if temp=<30 and temp>50:\n",
    "        print('Play')\n",
    "         else:\n",
    "         print('Otherwise not play')\n",
    "    \n",
    "elif w=='winter':\n",
    "temp = int (input('Enter your temp'))\n",
    "     if temp=<10 and temp>20:\n",
    "\n",
    "         print('Play')\n",
    "else:\n",
    "        print('Otherwise not play')\n",
    "elif w=='rainy':\n",
    "temp = input('Enter your temp')\n",
    "     if temp==heavy:\n",
    "          print('Play')\n",
    "    else:\n",
    "        print('Otherwise not play')\n",
    "else:\n",
    "    print('Invalid')\n",
    "       \n",
    "\n",
    "    \n",
    "    \n",
    "    "
   ]
  },
  {
   "cell_type": "code",
   "execution_count": null,
   "id": "59009d94-f0e3-4c65-bb66-f82b9444a371",
   "metadata": {},
   "outputs": [],
   "source": [
    "w = input('Enter Your Weather')\n",
    "if w =='sunny':\n",
    "    temp = int (input('Enter your temp'))    \n",
    "        if temp=<30 and temp>50:\n"
   ]
  },
  {
   "cell_type": "code",
   "execution_count": 24,
   "id": "8cd5366c-8534-4c02-b93a-61eba3e9fcf5",
   "metadata": {},
   "outputs": [
    {
     "name": "stdin",
     "output_type": "stream",
     "text": [
      "Enter n: 5\n"
     ]
    },
    {
     "name": "stdout",
     "output_type": "stream",
     "text": [
      "weired\n"
     ]
    }
   ],
   "source": [
    "n=int(input('Enter n:'))\n",
    "if n%2!=0:\n",
    "    print('weired')\n",
    "elif n%2==0:\n",
    "    if (n>2  and n>5):\n",
    "       print('not weired')\n",
    "elif n%2==0:\n",
    "    if(n>5 and n<20):\n",
    "        print('weired')\n",
    "elif n>20:\n",
    "    print('not weired ')\n",
    "else:\n",
    "    print('invalid')"
   ]
  },
  {
   "cell_type": "code",
   "execution_count": 29,
   "id": "dec5e36e-7aec-4738-b340-b33fa72b2fe6",
   "metadata": {},
   "outputs": [
    {
     "ename": "IndentationError",
     "evalue": "expected an indented block after 'else' statement on line 12 (2443508839.py, line 13)",
     "output_type": "error",
     "traceback": [
      "\u001b[1;36m  Cell \u001b[1;32mIn[29], line 13\u001b[1;36m\u001b[0m\n\u001b[1;33m    print(top,order,'is not available')\u001b[0m\n\u001b[1;37m    ^\u001b[0m\n\u001b[1;31mIndentationError\u001b[0m\u001b[1;31m:\u001b[0m expected an indented block after 'else' statement on line 12\n"
     ]
    }
   ],
   "source": [
    "# menu\n",
    "print('Availble items are PIZZA , BURGER , PASTA')\n",
    "order = input('Place your order ')\n",
    "if order =='PIZZA':\n",
    "    top = input('Select toppings veggies , cheese , corn')\n",
    "    if top=='veggies':\n",
    "        print('Your',top,order,'Price is 120')\n",
    "    elif top=='cheese':\n",
    "        print('Your',top, order,'Price is 150')\n",
    "    elif top=='corn':\n",
    "        print('Your',top,order,'Price is 190')\n",
    "    else:\n",
    "    print(top,order,'is not available')\n",
    "elif order=='BURGER':\n",
    "    cat=input('Select catgory veg, non-veg'):\n",
    "    if cat=='veg':\n",
    "        print('Your',cat,order,'Price is 80')\n",
    "    elif cat=='non-veg':\n",
    "        print('Your',cat,order,'Price is 120')\n"
   ]
  },
  {
   "cell_type": "code",
   "execution_count": 1,
   "id": "6e166eee-0bcc-4ac4-adad-8d6c0c8ec972",
   "metadata": {},
   "outputs": [
    {
     "name": "stdout",
     "output_type": "stream",
     "text": [
      "Welcome to SBI ATM\n"
     ]
    },
    {
     "name": "stdin",
     "output_type": "stream",
     "text": [
      "enter pin  1234\n"
     ]
    },
    {
     "name": "stdout",
     "output_type": "stream",
     "text": [
      "press 1 for check bal\n",
      "press 2 for deposit\n",
      "press 3 for withdrawl\n"
     ]
    },
    {
     "name": "stdin",
     "output_type": "stream",
     "text": [
      "enter option  2\n",
      "enter deposit amount  20000\n"
     ]
    },
    {
     "name": "stdout",
     "output_type": "stream",
     "text": [
      "your final balance is 21000\n"
     ]
    }
   ],
   "source": [
    "### print('Welcome to SBI ATM')\n",
    "\n",
    "bal = 1000\n",
    "pin = int(input('enter pin '))\n",
    "\n",
    "if pin ==1234:\n",
    "    print('press 1 for check bal')\n",
    "    print('press 2 for deposit')\n",
    "    print('press 3 for withdrawl')\n",
    "\n",
    "    opt = int(input('enter option '))\n",
    "    if opt==1:\n",
    "        print('your account balance is',bal)\n",
    "        \n",
    "    elif opt==2:\n",
    "        amt = int(input('enter deposit amount '))\n",
    "        print('your final balance is',bal+amt)\n",
    "\n",
    "    elif opt ==3:\n",
    "        amt = int(input('enter withdrawl amount '))\n",
    "        if amt <=bal:\n",
    "            print('your final balance is',bal-amt)\n",
    "        else:\n",
    "            print('insufficient amount')\n",
    "\n",
    "    else:\n",
    "        print('invalid option')\n",
    "        \n",
    "\n",
    "\n",
    "else:\n",
    "    print('Incorrect pin ')"
   ]
  },
  {
   "cell_type": "code",
   "execution_count": null,
   "id": "36257b98-7671-4dd2-bcd2-2097745a628e",
   "metadata": {},
   "outputs": [],
   "source": []
  }
 ],
 "metadata": {
  "kernelspec": {
   "display_name": "Python [conda env:base] *",
   "language": "python",
   "name": "conda-base-py"
  },
  "language_info": {
   "codemirror_mode": {
    "name": "ipython",
    "version": 3
   },
   "file_extension": ".py",
   "mimetype": "text/x-python",
   "name": "python",
   "nbconvert_exporter": "python",
   "pygments_lexer": "ipython3",
   "version": "3.12.7"
  }
 },
 "nbformat": 4,
 "nbformat_minor": 5
}
