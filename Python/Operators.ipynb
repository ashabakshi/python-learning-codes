{
 "cells": [
  {
   "cell_type": "markdown",
   "id": "aa13252d-f1bb-40ac-9470-4bd108b1494b",
   "metadata": {},
   "source": [
    "# Operators"
   ]
  },
  {
   "cell_type": "code",
   "execution_count": null,
   "id": "c038f62c-4ac1-4214-a646-9214d19b7436",
   "metadata": {},
   "outputs": [],
   "source": [
    "# Operators are my symbols thar performs the certain operation \n"
   ]
  },
  {
   "cell_type": "markdown",
   "id": "701ecf52-8edb-452c-90a3-f6a2196a2afa",
   "metadata": {},
   "source": [
    "# Types Of Operators\n",
    "\n",
    "# 1. Arithmetic Operators\n",
    "# 2. Assingment Operators , Compound Assingment Operators\n",
    "# 3. Comparison Operators\n",
    "# 4. Logical Operators\n",
    "# 5. Identity Operators\n",
    "# 6. Membership Operators\n"
   ]
  },
  {
   "cell_type": "code",
   "execution_count": 7,
   "id": "bbfb4405-11d3-4b69-acf9-9b9dba18bf02",
   "metadata": {},
   "outputs": [
    {
     "name": "stdin",
     "output_type": "stream",
     "text": [
      "enter a 2\n",
      "enter b 3\n"
     ]
    },
    {
     "name": "stdout",
     "output_type": "stream",
     "text": [
      "The Addition of 2 + 3 = 5\n",
      "The Subtraction of 2 - 3 = -1\n",
      "The Multiplication of 2 * 3 = 6\n",
      "The  single Division of 2 / 3 = 0.6666666666666666\n",
      "The  double Division of 2 // 3 = 0\n",
      "The modulus of 2 % 3 = 2\n",
      "8\n"
     ]
    }
   ],
   "source": [
    "a = int(input('enter a'))\n",
    "b = int(input('enter b'))\n",
    "print('The Addition of', a ,'+', b,'=', a+b)\n",
    "print('The Subtraction of', a ,'-', b,'=', a-b)\n",
    "print('The Multiplication of', a ,'*', b,'=', a*b)\n",
    "print('The  single Division of', a ,'/', b,'=', a/b) # always return in float\n",
    "print('The  double Division of', a ,'//', b,'=', a//b) #always return in inr \n",
    "print('The modulus of', a ,'%', b,'=', a%b) # always return remainder \n",
    "print(a**b)\n"
   ]
  },
  {
   "cell_type": "code",
   "execution_count": null,
   "id": "94af5e8a-623e-4eda-9b2f-4fa8bfe257d9",
   "metadata": {},
   "outputs": [],
   "source": [
    "# Precedence of operators (from highest to lowest):\n",
    "# () > ** > * / // % > + -\n",
    "# Follows PEMDAS rule: Parentheses, Exponents, Multiplication/Division, Addition/Subtraction\n",
    "\n",
    "x = (2 + 3) * 2  # Parentheses first, then multiplication: (5) * 2 = 10\n",
    "y = 2 ** 3 ** 2  # Right-to-left for **: 3**2 = 9, then 2**9 = 512\n",
    "z = 10 + 5 * 2   # Multiplication before addition: 5*2 = 10, then 10+10 = 20\n"
   ]
  },
  {
   "cell_type": "code",
   "execution_count": 2,
   "id": "21f9d190-9767-4838-a162-d664b1d573f5",
   "metadata": {},
   "outputs": [
    {
     "name": "stdout",
     "output_type": "stream",
     "text": [
      "20\n"
     ]
    }
   ],
   "source": [
    "a = 30\n",
    "b = 20\n",
    "c= a-b+10\n",
    "print(c)"
   ]
  },
  {
   "cell_type": "code",
   "execution_count": 3,
   "id": "01e218dc-371c-4fa0-bd39-53343f228578",
   "metadata": {},
   "outputs": [
    {
     "name": "stdout",
     "output_type": "stream",
     "text": [
      "5.0\n"
     ]
    }
   ],
   "source": [
    "exp = 1+4*3/2-2\n",
    "print(exp)"
   ]
  },
  {
   "cell_type": "code",
   "execution_count": 5,
   "id": "b1313ad6-7081-4f06-ae15-888036df25c8",
   "metadata": {},
   "outputs": [
    {
     "name": "stdin",
     "output_type": "stream",
     "text": [
      "enter the lenght 5\n",
      "enter the breadth 6\n"
     ]
    },
    {
     "name": "stdout",
     "output_type": "stream",
     "text": [
      "area of rectangle is :  30.0\n"
     ]
    }
   ],
   "source": [
    "# calculate the area of rectangle in which u  take lenght and breadth as input\n",
    "\n",
    "l = float(input('enter the lenght'))\n",
    "b = float(input('enter the breadth'))\n",
    "cal = (l*b)\n",
    "print( 'area of rectangle is : ', cal)"
   ]
  },
  {
   "cell_type": "code",
   "execution_count": null,
   "id": "18d20b20-0802-4243-b13a-043e434ddda4",
   "metadata": {},
   "outputs": [],
   "source": []
  },
  {
   "cell_type": "code",
   "execution_count": 10,
   "id": "b67513c1-6984-4336-8673-2fc5ba0dffd0",
   "metadata": {},
   "outputs": [
    {
     "name": "stdin",
     "output_type": "stream",
     "text": [
      "enter the r :  4\n"
     ]
    },
    {
     "name": "stdout",
     "output_type": "stream",
     "text": [
      "25.12\n"
     ]
    }
   ],
   "source": [
    "# cal 2pi r \n",
    "\n",
    "r = float(input('enter the r : ')) \n",
    "pi = 3.14\n",
    "z =2*pi*r\n",
    "print(z)"
   ]
  },
  {
   "cell_type": "markdown",
   "id": "f5791f8e-db2e-494f-857c-4eb7355c938d",
   "metadata": {},
   "source": [
    "# 2. Assingment Operator - are resposible for assigning values to my variables\n",
    " # =\n"
   ]
  },
  {
   "cell_type": "code",
   "execution_count": null,
   "id": "5d6bab2a-981b-4979-8625-60f1a4d74dbe",
   "metadata": {},
   "outputs": [],
   "source": [
    "a = 10\n",
    "a+=2  # a = a+2\n",
    "print(a)\n"
   ]
  },
  {
   "cell_type": "code",
   "execution_count": null,
   "id": "849d5424-8a9e-45ca-8c38-3acd86b85116",
   "metadata": {},
   "outputs": [],
   "source": [
    "x=10\n",
    "x-=10  # x = x-10\n",
    "print(x)"
   ]
  },
  {
   "cell_type": "code",
   "execution_count": null,
   "id": "045d3272-43f7-4336-a966-1b79c3301705",
   "metadata": {},
   "outputs": [],
   "source": [
    "a=2\n",
    "a**=3 # a = a**3\n",
    "print(a)"
   ]
  },
  {
   "cell_type": "markdown",
   "id": "f16da870-dba6-468f-9f05-1fcd0adda931",
   "metadata": {},
   "source": [
    "# 3. Comparison Operator - are responsible for comparing values of the variable\n",
    "\n",
    "# 1. equal to ==\n",
    "# 2. Not equal to !=\n",
    "# 3. greater than >\n",
    "# 4. lesser than <\n",
    "# 5. greater than eqaul to >=\n",
    "# 6. lesser than equal to <="
   ]
  },
  {
   "cell_type": "code",
   "execution_count": null,
   "id": "9be4d746-6b67-4506-bca9-dd131c4b3d57",
   "metadata": {},
   "outputs": [],
   "source": []
  },
  {
   "cell_type": "code",
   "execution_count": null,
   "id": "6daa417e-5ec4-4b3e-88b9-17fcb7511de6",
   "metadata": {},
   "outputs": [],
   "source": []
  },
  {
   "cell_type": "code",
   "execution_count": null,
   "id": "8657fc85-cc5d-4644-b51c-ab6c0c610a15",
   "metadata": {},
   "outputs": [],
   "source": [
    "a = 56\n",
    "b = 34\n",
    "\n",
    "# print(a==b)\n",
    "# print(a!=b)\n",
    "# print(a>b)\n",
    "# print(a<b)\n",
    "print(a<=b)\n",
    "print(a>=b)"
   ]
  },
  {
   "cell_type": "code",
   "execution_count": null,
   "id": "e6e47975-451d-44d1-865e-adefb3ac52b1",
   "metadata": {},
   "outputs": [],
   "source": [
    "x=10\n",
    "y=10\n",
    "\n",
    "# print(x!=y)\n",
    "# print(x>=y)\n",
    "# print(x<y)\n",
    "print(x>y)\n",
    "print(x<=y)\n",
    "print(x==y)"
   ]
  },
  {
   "cell_type": "markdown",
   "id": "7b2cf0ca-3dc9-4b60-a120-0f24d02c873d",
   "metadata": {},
   "source": [
    " # 4. logical Operators - are resposible for comparing the boolean values of the variable\n",
    "# and - when both condition are True then result will be True\n",
    "# or -  when any one condition Is True then result will be True\n",
    "# not - it reverts the conditon\n",
    "#         True---False\n",
    "#         False--True"
   ]
  },
  {
   "cell_type": "code",
   "execution_count": 1,
   "id": "bc4cb639-989a-47a4-a19c-e9e994451b03",
   "metadata": {},
   "outputs": [
    {
     "name": "stdout",
     "output_type": "stream",
     "text": [
      "False\n",
      "True\n"
     ]
    }
   ],
   "source": [
    "a = True\n",
    "b = False\n",
    "c = True\n",
    "d= False\n",
    "\n",
    "# print(a and b)\n",
    "# print(b and d)\n",
    "# print(a and c)\n",
    "\n",
    "# print(a or b)\n",
    "# print(a or c)\n",
    "# print(b or d)\n",
    "print(not a)\n",
    "print(not b)"
   ]
  },
  {
   "cell_type": "markdown",
   "id": "d54bcc87-b07c-4247-b0ba-5378bdf3c6df",
   "metadata": {},
   "source": [
    "# Identity Operator\n",
    "\n",
    "# is - it compares the address of the variable"
   ]
  },
  {
   "cell_type": "code",
   "execution_count": 2,
   "id": "d523bec0-9150-421b-b876-17654ec695ed",
   "metadata": {},
   "outputs": [
    {
     "name": "stdout",
     "output_type": "stream",
     "text": [
      "True\n",
      "False\n"
     ]
    }
   ],
   "source": [
    "a = 10\n",
    "b = 10.0\n",
    "\n",
    "print(a==b) # True because values are equal (10 == 10.0)\n",
    "print(a is b) # False because they are different data types and stored at different memory locations"
   ]
  },
  {
   "cell_type": "code",
   "execution_count": 7,
   "id": "ae0be9c0-bcdf-4e97-abb8-050ed29e4981",
   "metadata": {},
   "outputs": [
    {
     "name": "stdout",
     "output_type": "stream",
     "text": [
      "140718830267096\n",
      "140718830267096\n"
     ]
    }
   ],
   "source": [
    "print(id(a)) # Shows memory address\n",
    "print(id(b))"
   ]
  },
  {
   "cell_type": "code",
   "execution_count": 3,
   "id": "d5553dbb-94a9-4244-8050-94fac15aee45",
   "metadata": {},
   "outputs": [
    {
     "name": "stdout",
     "output_type": "stream",
     "text": [
      "True\n",
      "140718830268376\n",
      "140718830268376\n"
     ]
    }
   ],
   "source": [
    "x =50\n",
    "y= 50\n",
    "print(x is y)\n",
    "print(id(x))\n",
    "print(id(y))"
   ]
  },
  {
   "cell_type": "code",
   "execution_count": 8,
   "id": "d3604622-8498-45c9-9225-17234c1b330a",
   "metadata": {},
   "outputs": [
    {
     "name": "stdout",
     "output_type": "stream",
     "text": [
      "True\n",
      "140718830271576\n",
      "140718830271576\n"
     ]
    }
   ],
   "source": [
    "s=150\n",
    "d=150\n",
    "\n",
    "print(s is d)  # True, because 150 is within the cached range (-5 to 256)\n",
    "print(id(s))\n",
    "print(id(d))"
   ]
  },
  {
   "cell_type": "code",
   "execution_count": null,
   "id": "97e35ef8-8984-4b3b-b0d5-8e78abd95dc2",
   "metadata": {},
   "outputs": [],
   "source": [
    "y=250\n",
    "z=250\n",
    "\n",
    "print(y is z)\n",
    "print(id(y))\n",
    "print(id(z))"
   ]
  },
  {
   "cell_type": "code",
   "execution_count": 4,
   "id": "29008fb1-a71c-4933-ba20-c86024d99d24",
   "metadata": {},
   "outputs": [
    {
     "name": "stdout",
     "output_type": "stream",
     "text": [
      "True\n",
      "140718830274968\n",
      "140718830274968\n"
     ]
    }
   ],
   "source": [
    "i = 256\n",
    "j = 256\n",
    "print(i is  j)\n",
    "print(id(i))\n",
    "print(id(j))\n",
    "# after 256 any other number is not be same and the gap between addreses is 32 \n",
    "# After 256, integers are not cached — values >256 create new objects with different memory addresses"
   ]
  },
  {
   "cell_type": "code",
   "execution_count": null,
   "id": "8bc86c42-227c-4372-9aeb-acc28f7320f3",
   "metadata": {},
   "outputs": [],
   "source": [
    "a =99\n",
    "b= 100\n",
    "\n",
    "print(id(b))\n",
    "print(id(a))"
   ]
  },
  {
   "cell_type": "code",
   "execution_count": 5,
   "id": "be285c0f-c536-41c5-b6b1-df4fc9423b6e",
   "metadata": {},
   "outputs": [
    {
     "name": "stdout",
     "output_type": "stream",
     "text": [
      "False\n"
     ]
    }
   ],
   "source": [
    "a = 10\n",
    "b = 10\n",
    "\n",
    "print(a is not b)"
   ]
  },
  {
   "cell_type": "markdown",
   "id": "873e4c0b-ead0-42bf-a3be-cb42a63aa9b4",
   "metadata": {},
   "source": [
    "# Membership Operator - it is used to check the particular character is the part of string or not\n",
    "\n",
    "# in"
   ]
  },
  {
   "cell_type": "code",
   "execution_count": 6,
   "id": "de92c6a0-fe56-45f3-baae-feced2a431a5",
   "metadata": {},
   "outputs": [
    {
     "name": "stdout",
     "output_type": "stream",
     "text": [
      "False\n"
     ]
    }
   ],
   "source": [
    "# 'in' is a membership operator used to check if a value exists in a sequence\n",
    "x = 'deepanshu'\n",
    "\n",
    "# print('h' in x)\n",
    "# print('k' in x)\n",
    "# print('D' in x)\n",
    "print('a' not in   x)"
   ]
  },
  {
   "cell_type": "code",
   "execution_count": null,
   "id": "7c2d5ef9-4f8f-4b58-ba26-1f0c295f7b5b",
   "metadata": {},
   "outputs": [],
   "source": []
  },
  {
   "cell_type": "code",
   "execution_count": null,
   "id": "0e222c30-c147-4bbc-b8ad-23fbd6d70861",
   "metadata": {},
   "outputs": [],
   "source": []
  },
  {
   "cell_type": "code",
   "execution_count": null,
   "id": "97d7160a-4edb-458b-b31a-4342a0ff66cf",
   "metadata": {},
   "outputs": [],
   "source": []
  }
 ],
 "metadata": {
  "kernelspec": {
   "display_name": "Python [conda env:base] *",
   "language": "python",
   "name": "conda-base-py"
  },
  "language_info": {
   "codemirror_mode": {
    "name": "ipython",
    "version": 3
   },
   "file_extension": ".py",
   "mimetype": "text/x-python",
   "name": "python",
   "nbconvert_exporter": "python",
   "pygments_lexer": "ipython3",
   "version": "3.12.7"
  }
 },
 "nbformat": 4,
 "nbformat_minor": 5
}
