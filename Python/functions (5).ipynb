{
 "cells": [
  {
   "cell_type": "markdown",
   "id": "c501e336-2130-4cb4-9052-c53634e75ee6",
   "metadata": {},
   "source": [
    "# Functions"
   ]
  },
  {
   "cell_type": "code",
   "execution_count": 13,
   "id": "72d50d0a-8ef9-4ab5-9a9a-a96a80dc5ec4",
   "metadata": {},
   "outputs": [],
   "source": [
    "# function are my block of code that runs only when it is called\n",
    "# we use function when i want to do the task again and again\n",
    "# function are define by the def keyword\n",
    "# function increase the reusability of code"
   ]
  },
  {
   "cell_type": "code",
   "execution_count": 14,
   "id": "bf30e62f-fbea-4091-9815-6b599f001238",
   "metadata": {},
   "outputs": [
    {
     "name": "stdout",
     "output_type": "stream",
     "text": [
      "hii\n",
      "hello\n"
     ]
    }
   ],
   "source": [
    "print('hii')\n",
    "print('hello')"
   ]
  },
  {
   "cell_type": "code",
   "execution_count": 16,
   "id": "fb5a4f49-41d6-41ff-ab36-c8f8b25ded67",
   "metadata": {},
   "outputs": [
    {
     "name": "stdout",
     "output_type": "stream",
     "text": [
      "hello\n",
      "hey\n",
      "hii\n"
     ]
    }
   ],
   "source": [
    "def xyz():\n",
    "    print('hello')\n",
    "    print('hey')\n",
    "    print('hii')\n",
    "\n",
    "\n",
    "xyz()"
   ]
  },
  {
   "cell_type": "code",
   "execution_count": 61,
   "id": "41c194b9-fc77-4645-bf11-5e5d1f76b990",
   "metadata": {},
   "outputs": [
    {
     "data": {
      "text/plain": [
       "'hello'"
      ]
     },
     "execution_count": 61,
     "metadata": {},
     "output_type": "execute_result"
    }
   ],
   "source": [
    "f8()"
   ]
  },
  {
   "cell_type": "code",
   "execution_count": 29,
   "id": "344fa6a2-4a6c-4248-9deb-d274718a7d22",
   "metadata": {},
   "outputs": [
    {
     "name": "stdout",
     "output_type": "stream",
     "text": [
      "hello\n",
      "hii\n"
     ]
    }
   ],
   "source": [
    "def f():\n",
    "    print('hello')\n",
    "    print('hii')\n",
    "\n",
    "f()"
   ]
  },
  {
   "cell_type": "code",
   "execution_count": 31,
   "id": "cb5fc209-68a9-4417-a580-7298b2dae63b",
   "metadata": {},
   "outputs": [
    {
     "name": "stdout",
     "output_type": "stream",
     "text": [
      "python\n",
      "ML\n",
      "SQL\n",
      "Excel\n"
     ]
    }
   ],
   "source": [
    "print('python')\n",
    "\n",
    "def F():\n",
    "    print('SQL')\n",
    "print('ML')\n",
    "F()\n",
    "print('Excel')\n",
    "    "
   ]
  },
  {
   "cell_type": "code",
   "execution_count": 32,
   "id": "3e2cb1c4-b4f3-459d-bdda-1776900dd32b",
   "metadata": {},
   "outputs": [],
   "source": [
    "#1. User defined function\n",
    "#2. Annonymous Function\n",
    "#3. Built in function"
   ]
  },
  {
   "cell_type": "code",
   "execution_count": 34,
   "id": "9e41d0be-2ec1-4854-a369-2050581c3940",
   "metadata": {},
   "outputs": [],
   "source": [
    "#1. Takes nothing , return nothing\n",
    "#2. Takes Something, return nothing\n",
    "#3. Takes nothing, return something\n",
    "#4. Takes something , return something"
   ]
  },
  {
   "cell_type": "code",
   "execution_count": 36,
   "id": "d7da5a81-0d37-470b-b59e-09f758c609fa",
   "metadata": {},
   "outputs": [
    {
     "name": "stdin",
     "output_type": "stream",
     "text": [
      "enter a  4\n",
      "enter b  5\n"
     ]
    },
    {
     "name": "stdout",
     "output_type": "stream",
     "text": [
      "9\n"
     ]
    }
   ],
   "source": [
    "#1. Takes nothing , return nothing\n",
    "def f1():\n",
    "    a=int(input('enter a '))\n",
    "    b=int(input('enter b '))\n",
    "    c=a+b\n",
    "    print(c)\n",
    "\n",
    "f1()"
   ]
  },
  {
   "cell_type": "code",
   "execution_count": 37,
   "id": "ecf6ade4-e8ad-4885-9377-6d481fcea4d0",
   "metadata": {},
   "outputs": [
    {
     "name": "stdin",
     "output_type": "stream",
     "text": [
      "enter a  7\n",
      "enter b  4\n"
     ]
    },
    {
     "name": "stdout",
     "output_type": "stream",
     "text": [
      "3\n"
     ]
    }
   ],
   "source": [
    "#2. Takes Something, return nothing\n",
    "def f2(x,y): # parameters\n",
    "    z=x-y\n",
    "    print(z)\n",
    "\n",
    "a=int(input('enter a '))\n",
    "b=int(input('enter b '))\n",
    "f2(a,b) # arguments"
   ]
  },
  {
   "cell_type": "code",
   "execution_count": 41,
   "id": "982c4143-9404-4a8e-8559-6f4a998d11a3",
   "metadata": {},
   "outputs": [
    {
     "name": "stdin",
     "output_type": "stream",
     "text": [
      "enter a  5\n",
      "enter b  6\n"
     ]
    }
   ],
   "source": [
    "#3. Takes nothing, return something\n",
    "def f3():\n",
    "    a=int(input('enter a '))\n",
    "    b=int(input('enter b '))\n",
    "    res = a*b\n",
    "    return res\n",
    "\n",
    "d=f3()\n",
    "    "
   ]
  },
  {
   "cell_type": "code",
   "execution_count": 42,
   "id": "f0d63423-b23c-43e5-b689-abe21558bc9a",
   "metadata": {},
   "outputs": [
    {
     "name": "stdout",
     "output_type": "stream",
     "text": [
      "30\n"
     ]
    }
   ],
   "source": [
    "print(d)"
   ]
  },
  {
   "cell_type": "code",
   "execution_count": 43,
   "id": "b2b8b9b5-8c9f-4964-9ca3-d9f0eba7e217",
   "metadata": {},
   "outputs": [
    {
     "name": "stdin",
     "output_type": "stream",
     "text": [
      "enter a  4\n",
      "enter b  4\n"
     ]
    },
    {
     "name": "stdout",
     "output_type": "stream",
     "text": [
      "256\n"
     ]
    }
   ],
   "source": [
    "#4. Takes something , return something\n",
    "def f4(i,j):\n",
    "    res1=i**j\n",
    "    return res1\n",
    "\n",
    "\n",
    "    \n",
    "a=int(input('enter a '))\n",
    "b=int(input('enter b ')) \n",
    "q=f4(a,b)\n",
    "print(q)"
   ]
  },
  {
   "cell_type": "code",
   "execution_count": 49,
   "id": "fc84bcbc-580b-4f42-9aa9-e3cc745ecaca",
   "metadata": {},
   "outputs": [
    {
     "name": "stdout",
     "output_type": "stream",
     "text": [
      "python\n",
      "java\n",
      "nlp\n",
      "excel\n"
     ]
    }
   ],
   "source": [
    "print('python')\n",
    "def f5():\n",
    "    return 'nlp'\n",
    "    print('ML')\n",
    "    return 'AI'\n",
    "    print('SQL')\n",
    "\n",
    "    \n",
    "print('java')\n",
    "H=f5()\n",
    "print(H)\n",
    "print('excel')"
   ]
  },
  {
   "cell_type": "code",
   "execution_count": 57,
   "id": "79fe5126-238b-43a3-a0d2-de860b838871",
   "metadata": {},
   "outputs": [
    {
     "name": "stdout",
     "output_type": "stream",
     "text": [
      "1\n",
      "2\n",
      "3\n",
      "4\n"
     ]
    }
   ],
   "source": [
    "def f6(a,b,c,d):\n",
    "    print(a)\n",
    "    print(b)\n",
    "    print(c)\n",
    "    print(d)\n",
    "\n",
    "f6(1,2,3,4)"
   ]
  },
  {
   "cell_type": "code",
   "execution_count": 58,
   "id": "7165393f-6a38-4a84-a171-6b4263ccc918",
   "metadata": {},
   "outputs": [
    {
     "name": "stdout",
     "output_type": "stream",
     "text": [
      "1 <class 'int'>\n",
      "2\n",
      "3\n",
      "4\n",
      "5\n",
      "7\n",
      "8\n",
      "4\n",
      "7\n",
      "4\n",
      "7\n",
      "4\n"
     ]
    }
   ],
   "source": [
    "def f7(x,*y): # args\n",
    "    print(x,type(x))\n",
    "    # print(y,type(y))\n",
    "    for i in y:\n",
    "        print(i)\n",
    "\n",
    "f7(1,2,3,4,5,7,8,4,7,4,7,4)"
   ]
  },
  {
   "cell_type": "code",
   "execution_count": 62,
   "id": "e878df0a-c626-49fb-803b-d475d196a985",
   "metadata": {},
   "outputs": [
    {
     "name": "stdout",
     "output_type": "stream",
     "text": [
      "3.0\n"
     ]
    }
   ],
   "source": [
    "def avg(*s):\n",
    "    if len(s)!=0:\n",
    "        return sum(s)/len(s)\n",
    "    else:\n",
    "        return 'hello'\n",
    "\n",
    "g=avg(1,2,3,4,5)\n",
    "print(g)"
   ]
  },
  {
   "cell_type": "code",
   "execution_count": 63,
   "id": "e4b7609b-86ef-47b3-8b3b-7d3783ecd700",
   "metadata": {},
   "outputs": [
    {
     "name": "stdout",
     "output_type": "stream",
     "text": [
      "{'Name': 'Deepanshu', 'age': 546, 'marks': 759}\n"
     ]
    }
   ],
   "source": [
    "def f9(**r): # key word argument\n",
    "    print(r)\n",
    "\n",
    "\n",
    "f9(Name='Deepanshu',age=546,marks=759)"
   ]
  },
  {
   "cell_type": "code",
   "execution_count": 1,
   "id": "7bd4b265-8dbc-4a59-8b59-f69d5b7403ae",
   "metadata": {},
   "outputs": [],
   "source": [
    "# scope of variables\n",
    "# global variables - global variables are declare outside the function body\n",
    "                # global variables can be accesed anywhere throught the program\n",
    "\n",
    "\n",
    "\n",
    "# local variables - local variables are declare inside the function body\n",
    "                # local variables can be accesed within its block only"
   ]
  },
  {
   "cell_type": "code",
   "execution_count": 2,
   "id": "6291d8fa-756c-4ddb-b554-94a75ae4b027",
   "metadata": {},
   "outputs": [
    {
     "name": "stdout",
     "output_type": "stream",
     "text": [
      "10\n",
      "10\n",
      "10\n"
     ]
    }
   ],
   "source": [
    "a=10\n",
    "def func():\n",
    "    print(a)\n",
    "print(a)\n",
    "func()\n",
    "print(a)\n",
    "    "
   ]
  },
  {
   "cell_type": "code",
   "execution_count": 16,
   "id": "edb0f48b-7c28-4bee-8fae-590097f80b63",
   "metadata": {},
   "outputs": [
    {
     "data": {
      "text/plain": [
       "'odd'"
      ]
     },
     "execution_count": 16,
     "metadata": {},
     "output_type": "execute_result"
    }
   ],
   "source": [
    "exp1(7)"
   ]
  },
  {
   "cell_type": "code",
   "execution_count": 3,
   "id": "bc0512ab-5f51-4e93-ad86-29be02581b02",
   "metadata": {},
   "outputs": [
    {
     "name": "stdout",
     "output_type": "stream",
     "text": [
      "5\n"
     ]
    },
    {
     "ename": "NameError",
     "evalue": "name 'y' is not defined",
     "output_type": "error",
     "traceback": [
      "\u001b[1;31m---------------------------------------------------------------------------\u001b[0m",
      "\u001b[1;31mNameError\u001b[0m                                 Traceback (most recent call last)",
      "Cell \u001b[1;32mIn[3], line 6\u001b[0m\n\u001b[0;32m      3\u001b[0m     \u001b[38;5;28mprint\u001b[39m(y)\n\u001b[0;32m      5\u001b[0m f10()\n\u001b[1;32m----> 6\u001b[0m \u001b[38;5;28mprint\u001b[39m(y)\n",
      "\u001b[1;31mNameError\u001b[0m: name 'y' is not defined"
     ]
    }
   ],
   "source": [
    "\n",
    "def f10():\n",
    "    y=5 # local var\n",
    "    print(y)\n",
    "\n",
    "f10()\n",
    "print(y)\n",
    "    "
   ]
  },
  {
   "cell_type": "markdown",
   "id": "00c6616b-f0d2-4653-8c05-bea7f2ff8dd2",
   "metadata": {},
   "source": [
    "# Annonymous Functions"
   ]
  },
  {
   "cell_type": "code",
   "execution_count": 4,
   "id": "2bf60938-d593-4b2c-93a0-1435cb9ab7c5",
   "metadata": {},
   "outputs": [],
   "source": [
    "# lambda are my annonymous function beacuse it deos not declare in a standard manner by using the def keyword\n",
    "# lambda are alson knwon as a one liner function"
   ]
  },
  {
   "cell_type": "code",
   "execution_count": 5,
   "id": "d23fbd6e-4d07-42a5-927f-123d1b6090ce",
   "metadata": {},
   "outputs": [],
   "source": [
    "# lambda paramters : expressions"
   ]
  },
  {
   "cell_type": "code",
   "execution_count": 7,
   "id": "2ae4e0b4-4251-488a-bed5-87c77853c662",
   "metadata": {},
   "outputs": [
    {
     "name": "stdout",
     "output_type": "stream",
     "text": [
      "7\n",
      "13\n"
     ]
    }
   ],
   "source": [
    "res = (lambda a,b : a+b)(2,5)\n",
    "print(res)\n",
    "\n",
    "res1 = lambda x,y: x+y\n",
    "print(res1(6,7))"
   ]
  },
  {
   "cell_type": "code",
   "execution_count": 10,
   "id": "c0f4a7d3-51c1-422c-86f6-5b23637b3227",
   "metadata": {},
   "outputs": [
    {
     "name": "stdin",
     "output_type": "stream",
     "text": [
      "enter i  9\n",
      "enter j  3\n"
     ]
    },
    {
     "name": "stdout",
     "output_type": "stream",
     "text": [
      "27\n"
     ]
    },
    {
     "name": "stdin",
     "output_type": "stream",
     "text": [
      "enter x  9\n",
      "enter y  3\n"
     ]
    },
    {
     "name": "stdout",
     "output_type": "stream",
     "text": [
      "729\n"
     ]
    }
   ],
   "source": [
    "res2 = (lambda i,j : i*j) (int(input('enter i ')),int(input('enter j ')))\n",
    "print(res2)\n",
    "\n",
    "res3 = lambda a,b : a**b\n",
    "x=int(input('enter x '))\n",
    "y= int(input('enter y '))\n",
    "\n",
    "print(res3(x,y))"
   ]
  },
  {
   "cell_type": "code",
   "execution_count": 15,
   "id": "1f435abe-5d29-403b-b31a-7a4f9875a35f",
   "metadata": {},
   "outputs": [
    {
     "name": "stdin",
     "output_type": "stream",
     "text": [
      "enter n  5\n"
     ]
    },
    {
     "name": "stdout",
     "output_type": "stream",
     "text": [
      "odd\n"
     ]
    },
    {
     "name": "stdin",
     "output_type": "stream",
     "text": [
      "enter n  6\n"
     ]
    },
    {
     "name": "stdout",
     "output_type": "stream",
     "text": [
      "even\n"
     ]
    }
   ],
   "source": [
    "# lambda paramters :ans if con else ans\n",
    "\n",
    "exp = (lambda a:'even' if a%2==0 else 'odd')(int(input('enter n ')))\n",
    "print(exp)\n",
    "\n",
    "exp1 = (lambda a:'even' if a%2==0 else 'odd')\n",
    "print(exp1(int(input('enter n '))))"
   ]
  },
  {
   "cell_type": "code",
   "execution_count": 20,
   "id": "c6088603-d624-45d4-b6cd-389efdc577fa",
   "metadata": {},
   "outputs": [
    {
     "name": "stdin",
     "output_type": "stream",
     "text": [
      "enter string  abxcd\n"
     ]
    },
    {
     "name": "stdout",
     "output_type": "stream",
     "text": [
      "Not Pallindrome\n"
     ]
    }
   ],
   "source": [
    "s = (lambda y : 'Pallindrome' if y==y[::-1] else 'Not Pallindrome')\n",
    "print(s(input('enter string ')))"
   ]
  },
  {
   "cell_type": "code",
   "execution_count": 22,
   "id": "7b66c304-9351-43bd-b9f3-aaa448864bf7",
   "metadata": {},
   "outputs": [
    {
     "name": "stdin",
     "output_type": "stream",
     "text": [
      "enter n  GYguhiohoihG\n"
     ]
    },
    {
     "name": "stdout",
     "output_type": "stream",
     "text": [
      "gyGUHIOHOIHg\n"
     ]
    }
   ],
   "source": [
    "n = (lambda z : z.swapcase())\n",
    "print(n(input('enter n ')))"
   ]
  },
  {
   "cell_type": "code",
   "execution_count": 23,
   "id": "fecce192-2284-46ca-9942-fc7f568169f2",
   "metadata": {},
   "outputs": [
    {
     "name": "stdin",
     "output_type": "stream",
     "text": [
      "enter n  3\n",
      "entert a  9\n"
     ]
    },
    {
     "name": "stdout",
     "output_type": "stream",
     "text": [
      "9 is odd\n"
     ]
    },
    {
     "name": "stdin",
     "output_type": "stream",
     "text": [
      "entert a  -3\n"
     ]
    },
    {
     "name": "stdout",
     "output_type": "stream",
     "text": [
      "-3 is odd\n"
     ]
    },
    {
     "name": "stdin",
     "output_type": "stream",
     "text": [
      "entert a  6\n"
     ]
    },
    {
     "name": "stdout",
     "output_type": "stream",
     "text": [
      "6 is even\n"
     ]
    }
   ],
   "source": [
    "n=int(input('enter n '))\n",
    "for i in range(1,n+1):\n",
    "    a=int(input('entert a '))\n",
    "    exp=(lambda m : 'even' if m%2==0 else 'odd')(a)\n",
    "    print(a, 'is',exp)"
   ]
  },
  {
   "cell_type": "markdown",
   "id": "7094fef7-5bb3-420f-958f-d066f1ff0211",
   "metadata": {},
   "source": [
    "# Builtin in function"
   ]
  },
  {
   "cell_type": "code",
   "execution_count": null,
   "id": "83b01533-2e40-4ae5-b794-4bf4a11e86d5",
   "metadata": {},
   "outputs": [],
   "source": [
    "#1. print()\n",
    "#2. inupt()\n",
    "#3. type()\n",
    "#4. range()\n",
    "#5. len()\n",
    "#6. id()\n",
    "#7. ord()\n",
    "#8. chr()\n",
    "#9.  sorted()\n",
    "#10. min()"
   ]
  },
  {
   "cell_type": "code",
   "execution_count": 24,
   "id": "497947ad-b244-4977-a181-6f755014d1cb",
   "metadata": {},
   "outputs": [],
   "source": [
    "#1. zip()\n",
    "#2. eval()\n",
    "#3. round()\n",
    "#4. enumerate()"
   ]
  },
  {
   "cell_type": "code",
   "execution_count": 27,
   "id": "cba6b41b-db43-4ba0-9628-10de4b997524",
   "metadata": {},
   "outputs": [
    {
     "name": "stdout",
     "output_type": "stream",
     "text": [
      "1 .. a\n",
      "2 .. b\n",
      "{1: 'a', 2: 'b'}\n"
     ]
    }
   ],
   "source": [
    "# zip() - when i want to iterate in more than one iterable simultaneously\n",
    "\n",
    "name = ['a','b']\n",
    "roll = [1,2,3]\n",
    "d={}\n",
    "for i,j in zip(roll,name):\n",
    "    print(i,'..',j)\n",
    "    d[i]=j\n",
    "print(d)"
   ]
  },
  {
   "cell_type": "code",
   "execution_count": 33,
   "id": "385d83e9-62f1-4a6e-813c-152013c4d63f",
   "metadata": {},
   "outputs": [
    {
     "name": "stdout",
     "output_type": "stream",
     "text": [
      "6.574\n",
      "6.57\n",
      "6.6\n",
      "7.0\n",
      "7\n"
     ]
    }
   ],
   "source": [
    "# round\n",
    "a = 6.5742\n",
    "print(round(a,3))\n",
    "print(round(a,2))\n",
    "print(round(a,1))\n",
    "print(round(a,0))\n",
    "print(round(a))"
   ]
  },
  {
   "cell_type": "code",
   "execution_count": 35,
   "id": "c135ac30-ed86-416a-b356-f3e67db2536c",
   "metadata": {},
   "outputs": [
    {
     "name": "stdout",
     "output_type": "stream",
     "text": [
      "x**2+3*y <class 'str'>\n",
      "15\n"
     ]
    }
   ],
   "source": [
    "# eval() evaulate\n",
    "\n",
    "exp = 'x**2+3*y'\n",
    "x=3\n",
    "y=2\n",
    "\n",
    "print(exp,type(exp))\n",
    "print(eval(exp))"
   ]
  },
  {
   "cell_type": "code",
   "execution_count": 38,
   "id": "d7b67d00-745a-48a4-971c-d8f357e209b7",
   "metadata": {},
   "outputs": [
    {
     "name": "stdout",
     "output_type": "stream",
     "text": [
      "0 ... a\n",
      "1 ... b\n",
      "2 ... a\n",
      "3 ... d\n"
     ]
    }
   ],
   "source": [
    "# enumerate\n",
    "L=['a','b','a','d']\n",
    "\n",
    "for i,j in enumerate(L):\n",
    "    print(i,'...',j)"
   ]
  },
  {
   "cell_type": "code",
   "execution_count": null,
   "id": "d3a91195-45ba-400a-a178-50e50441a124",
   "metadata": {},
   "outputs": [],
   "source": []
  }
 ],
 "metadata": {
  "kernelspec": {
   "display_name": "Python 3 (ipykernel)",
   "language": "python",
   "name": "python3"
  },
  "language_info": {
   "codemirror_mode": {
    "name": "ipython",
    "version": 3
   },
   "file_extension": ".py",
   "mimetype": "text/x-python",
   "name": "python",
   "nbconvert_exporter": "python",
   "pygments_lexer": "ipython3",
   "version": "3.12.9"
  }
 },
 "nbformat": 4,
 "nbformat_minor": 5
}
