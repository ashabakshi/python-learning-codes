{
 "cells": [
  {
   "cell_type": "code",
   "execution_count": null,
   "id": "019e9810-fa9a-4141-8ea6-74f937291a02",
   "metadata": {},
   "outputs": [],
   "source": [
    "# Data Types\n",
    "#1. Immutable - numeric , string , tuples\n",
    "#2. Mutable - list , dict , set"
   ]
  },
  {
   "cell_type": "code",
   "execution_count": 1,
   "id": "10b49d91-0808-4119-9e01-3df8ba08a2b1",
   "metadata": {},
   "outputs": [
    {
     "ename": "TypeError",
     "evalue": "'int' object is not iterable",
     "output_type": "error",
     "traceback": [
      "\u001b[1;31m---------------------------------------------------------------------------\u001b[0m",
      "\u001b[1;31mTypeError\u001b[0m                                 Traceback (most recent call last)",
      "Cell \u001b[1;32mIn[1], line 2\u001b[0m\n\u001b[0;32m      1\u001b[0m n \u001b[38;5;241m=\u001b[39m \u001b[38;5;241m12345\u001b[39m\n\u001b[1;32m----> 2\u001b[0m \u001b[38;5;28;01mfor\u001b[39;00m i \u001b[38;5;129;01min\u001b[39;00m n:\n\u001b[0;32m      3\u001b[0m     \u001b[38;5;28;01mif\u001b[39;00m i\u001b[38;5;241m==\u001b[39m\u001b[38;5;241m3\u001b[39m:\n\u001b[0;32m      4\u001b[0m         \u001b[38;5;28;01mbreak\u001b[39;00m\n",
      "\u001b[1;31mTypeError\u001b[0m: 'int' object is not iterable"
     ]
    }
   ],
   "source": [
    "n = 12345 # it gave error bcoz n is number int not a string \n",
    "for i in n:\n",
    "    if i==3:\n",
    "        break\n",
    "    print(i)\n",
    "print('bye')"
   ]
  },
  {
   "cell_type": "markdown",
   "id": "11b22602-c249-4ad9-b92d-75fe1412a28f",
   "metadata": {},
   "source": [
    "# String"
   ]
  },
  {
   "cell_type": "code",
   "execution_count": null,
   "id": "89bb66e9-69a0-406d-b96b-f91be6b7e5f8",
   "metadata": {},
   "outputs": [],
   "source": [
    "# it is a sequence of characters that always written into quotation"
   ]
  },
  {
   "cell_type": "code",
   "execution_count": 2,
   "id": "07df90b8-10ae-46b0-9c7a-2ec19f46b2ea",
   "metadata": {},
   "outputs": [
    {
     "name": "stdout",
     "output_type": "stream",
     "text": [
      "hello <class 'str'>\n"
     ]
    }
   ],
   "source": [
    "s1 = 'hello'\n",
    "print(s1,type(s1)) # type"
   ]
  },
  {
   "cell_type": "code",
   "execution_count": 3,
   "id": "57aadb56-789b-41f3-8f53-5197f2f53cde",
   "metadata": {},
   "outputs": [
    {
     "name": "stdout",
     "output_type": "stream",
     "text": [
      "hello\n",
      "i\n",
      "    am\n",
      "D\n",
      "    E\n",
      "        E\n",
      "            P\n",
      "ANSHU\n"
     ]
    }
   ],
   "source": [
    "s3 = '''hello \n",
    "i\n",
    "    am\n",
    "D\n",
    "    E\n",
    "        E\n",
    "            P\n",
    "ANSHU'''\n",
    "# \"\"\" ,''' the three quote is writing for  para \n",
    "\n",
    "print(s3)"
   ]
  },
  {
   "cell_type": "code",
   "execution_count": 9,
   "id": "e060a4d6-c669-4935-b927-6e6a303cc906",
   "metadata": {},
   "outputs": [
    {
     "name": "stdout",
     "output_type": "stream",
     "text": [
      "Deepanshu Verma\n",
      "Verma Verma \n"
     ]
    }
   ],
   "source": [
    "first = 'Deepanshu'\n",
    "last = 'Verma'\n",
    "\n",
    "full = first + ' ' + last # Concatenation\n",
    "print(full)\n",
    "print((last + ' ')*2) # repetiton of string"
   ]
  },
  {
   "cell_type": "markdown",
   "id": "29a37bd0-8836-48e1-b194-d1cf2164e09c",
   "metadata": {},
   "source": [
    "# F string , formate specifier"
   ]
  },
  {
   "cell_type": "code",
   "execution_count": 10,
   "id": "db257cbc-1d45-4025-8895-0308c37d6488",
   "metadata": {},
   "outputs": [
    {
     "name": "stdout",
     "output_type": "stream",
     "text": [
      "My first name is Deepanshu and my last name is Verma\n",
      "My first name is Deepanshu and my last name is Verma\n",
      "My first name is Deepanshu and my last name is Verma\n"
     ]
    }
   ],
   "source": [
    "print('My first name is',first,'and my last name is',last)\n",
    "print(f'My first name is {first} and my last name is {last}') # f string\n",
    "print('My first name is {} and my last name is {}'.format(first,last)) # format specifier"
   ]
  },
  {
   "cell_type": "code",
   "execution_count": 11,
   "id": "6526ba0a-ca40-40e9-b56b-f993fa751dc4",
   "metadata": {},
   "outputs": [
    {
     "name": "stdout",
     "output_type": "stream",
     "text": [
      "Asha Bakshi\n",
      "Bakshi Bakshi \n"
     ]
    }
   ],
   "source": [
    "first = 'Asha'\n",
    "last = 'Bakshi'\n",
    "\n",
    "full=first + ' '+last\n",
    "print(full)\n",
    "print((last+' ')*2)"
   ]
  },
  {
   "cell_type": "code",
   "execution_count": 16,
   "id": "eba246d9-44e5-45ab-9bad-c07e31c4d85a",
   "metadata": {},
   "outputs": [
    {
     "name": "stdout",
     "output_type": "stream",
     "text": [
      "My first name is Asha and my last name is Bakshi\n",
      "My first name is Asha and my last name is Bakshi\n",
      "My first name is Asha and my last name is Bakshi\n"
     ]
    }
   ],
   "source": [
    "print('My first name is', first,'and my last name is',last)\n",
    "# f string\n",
    "print(f'My first name is {first} and my last name is {last}')\n",
    "# format specifier\n",
    "print('My first name is {} and my last name is {}'.format(first,last))"
   ]
  },
  {
   "cell_type": "markdown",
   "id": "9d384f3a-4313-4334-90d5-44e05248265a",
   "metadata": {},
   "source": [
    "# lenght of string"
   ]
  },
  {
   "cell_type": "code",
   "execution_count": 17,
   "id": "e7ddbece-670c-4f83-a5e6-970876c79972",
   "metadata": {},
   "outputs": [
    {
     "name": "stdout",
     "output_type": "stream",
     "text": [
      "5\n"
     ]
    }
   ],
   "source": [
    "s = 'apple'\n",
    "print(len(s))"
   ]
  },
  {
   "cell_type": "code",
   "execution_count": 18,
   "id": "60cdbac9-81e4-4e24-83f8-d66c30308f8c",
   "metadata": {},
   "outputs": [
    {
     "name": "stdout",
     "output_type": "stream",
     "text": [
      "4\n"
     ]
    }
   ],
   "source": [
    "a='asha'\n",
    "print(len(a))"
   ]
  },
  {
   "cell_type": "markdown",
   "id": "2c48fb1a-8c20-4898-a05c-3c593011961d",
   "metadata": {},
   "source": [
    "# indexing and slicing "
   ]
  },
  {
   "cell_type": "code",
   "execution_count": 19,
   "id": "697e3ec7-a474-4194-b2a0-ae049d1f7664",
   "metadata": {},
   "outputs": [
    {
     "name": "stdout",
     "output_type": "stream",
     "text": [
      "14\n"
     ]
    }
   ],
   "source": [
    "s = 'deepanshu @123'\n",
    "print(len(s))"
   ]
  },
  {
   "cell_type": "code",
   "execution_count": 21,
   "id": "17c01917-0db1-4be8-8e9c-e84e5cd58686",
   "metadata": {},
   "outputs": [
    {
     "name": "stdout",
     "output_type": "stream",
     "text": [
      "n\n",
      "d\n",
      " \n",
      "3\n",
      " \n"
     ]
    }
   ],
   "source": [
    "print(s[5])\n",
    "print(s[0])\n",
    "print(s[9])\n",
    "print(s[-1])\n",
    "print(s[-5])\n",
    "#print(s[30])"
   ]
  },
  {
   "cell_type": "code",
   "execution_count": 23,
   "id": "3dac24ca-7afa-48d1-99fc-d95505509b3a",
   "metadata": {},
   "outputs": [
    {
     "name": "stdout",
     "output_type": "stream",
     "text": [
      "ansh\n",
      "shu @\n",
      "u @12\n",
      "deepanshu @12\n",
      "deepanshu @123\n",
      "deepanshu @123\n",
      "deepanshu @123\n",
      "deepanshu @123\n",
      "hu @1\n"
     ]
    }
   ],
   "source": [
    "# slicing\n",
    "\n",
    "s = 'deepanshu @123'\n",
    "\n",
    "print(s[ 4:8 ]) # s[4:8] means slice from index 4 up to (but not including) index 8 -> 'ansh'\n",
    "print(s[6:11]) # s[6:11] means slice from index 6 to 10 → 'shu @'\n",
    "print(s[-6:-1]) # s[-6:-1] means slice from 6th last to 1st last (not including last) -> '@123'\n",
    "print(s[0:-1]) # s[0:-1] means from start to 1st last character (excluding last) -> 'deepanshu @12'\n",
    "print(s[0:30]) # s[0:30] goes beyond the string length, so it prints entire string -> 'deepanshu @123'\n",
    "print(s[0:]) # s[0:30] goes beyond the string length, so it prints entire string -> 'deepanshu @123'\n",
    "print(s[:100]) # s[:100] again goes beyond length, so prints full string → 'deepanshu @123'\n",
    "print(s # s[:] is the same as entire string -> 'deepanshu @123'\n",
    "print(s[7:-2]) # s[7:-2] means from index 7 to second last character -> 'u @1'"
   ]
  },
  {
   "cell_type": "code",
   "execution_count": 24,
   "id": "7a0d0eb8-f0b0-4d96-9872-2a8dbc51edc1",
   "metadata": {},
   "outputs": [
    {
     "name": "stdout",
     "output_type": "stream",
     "text": [
      "dps 2\n",
      "deepanshu @123\n",
      "deasu@2\n",
      "deepanshu @123\n",
      "321@ uhsnapeed\n"
     ]
    }
   ],
   "source": [
    " s = 'deepanshu @123'\n",
    "print(s[0:100:3])\n",
    "print(s[0:100:1])\n",
    "print(s[0:100:2]) #Every 2nd character from start.\n",
    "print(s[::1])\n",
    "print(s[::-1]) # reverse of string"
   ]
  },
  {
   "cell_type": "markdown",
   "id": "7d1266ae-0bf4-4021-a1fc-c91db5a387ae",
   "metadata": {},
   "source": [
    "# string function "
   ]
  },
  {
   "cell_type": "code",
   "execution_count": 25,
   "id": "537949fa-f172-4113-a950-065ae4e325f0",
   "metadata": {},
   "outputs": [
    {
     "name": "stdout",
     "output_type": "stream",
     "text": [
      "a quick brown fox jumps over the lazy dog 41\n"
     ]
    }
   ],
   "source": [
    "s = 'a quick brown fox jumps over the lazy dog'\n",
    "print(s,len(s))"
   ]
  },
  {
   "cell_type": "code",
   "execution_count": 27,
   "id": "f5ccd987-f6fb-422b-853b-965c6a85d06c",
   "metadata": {},
   "outputs": [
    {
     "name": "stdout",
     "output_type": "stream",
     "text": [
      "2\n",
      "0\n"
     ]
    }
   ],
   "source": [
    "# index\n",
    "print(s.index('q'))\n",
    "print(s.index('a'))\n",
    "#print(s.index('A'))"
   ]
  },
  {
   "cell_type": "code",
   "execution_count": 28,
   "id": "c9e43c84-c669-492f-9eb2-5165220d4baf",
   "metadata": {},
   "outputs": [
    {
     "name": "stdout",
     "output_type": "stream",
     "text": [
      "4\n",
      "0\n"
     ]
    }
   ],
   "source": [
    "# count\n",
    "print(s.count('o'))\n",
    "print(s.count('A'))"
   ]
  },
  {
   "cell_type": "code",
   "execution_count": 29,
   "id": "c12dfbee-f4d8-483d-913a-b91ca39f12d9",
   "metadata": {},
   "outputs": [
    {
     "name": "stdout",
     "output_type": "stream",
     "text": [
      "a quick brown cat jumps over the lazy dog\n"
     ]
    }
   ],
   "source": [
    "# replace\n",
    "print(s.replace('fox','cat'))"
   ]
  },
  {
   "cell_type": "code",
   "execution_count": 31,
   "id": "6a54e086-767b-4596-b3c0-32871a832a5f",
   "metadata": {},
   "outputs": [
    {
     "name": "stdout",
     "output_type": "stream",
     "text": [
      "True\n",
      "True\n",
      "True\n",
      "True\n"
     ]
    }
   ],
   "source": [
    "s1 = 'deepanshu'\n",
    "s2='234567890'\n",
    "s3= 'deepanshu345678'\n",
    "s4 = ' '\n",
    "s5 = '^%**)('\n",
    "\n",
    "\n",
    "print(s1.isalpha()) #alphabets\n",
    "print(s2.isdigit()) #numeric value\n",
    "print(s3.isalnum()) #alpha numeric\n",
    "print(s4.isspace()) #find space"
   ]
  },
  {
   "cell_type": "code",
   "execution_count": 33,
   "id": "5781942e-c6c3-4ff1-9859-2511f84d6576",
   "metadata": {},
   "outputs": [
    {
     "name": "stdout",
     "output_type": "stream",
     "text": [
      "True\n",
      "DEEPANSHU\n",
      "True\n",
      "deepanshu\n",
      "Deepanshu\n",
      "Deepanshu Verma\n",
      "True\n",
      "True\n"
     ]
    }
   ],
   "source": [
    "s1 = 'deepanshu'\n",
    "s2 = 'DEEPANSHU'\n",
    "s3 = 'Deepanshu'\n",
    "s4 = 'deepanshu verma'\n",
    "\n",
    "print(s1.islower()) #checks if all characters in s1 are lowercase \n",
    "print(s1.upper()) #converts all characters in s1 to uppercase\n",
    "print(s2.isupper()) ##checks if all characters in s2 are uppercase\n",
    "print(s2.lower()) #converts all characters in s1 to lowercase\n",
    "print(s1.capitalize()) #capitalizes only the first character of s1\n",
    "print(s4.title()) #capitalizes the first letter of each word\n",
    "print(s3.istitle()) #checks if all characters in s3 is title (first letter capital)\n",
    "print(s3[0].isupper()) #checks if the first character of s3 is uppercase"
   ]
  },
  {
   "cell_type": "code",
   "execution_count": 35,
   "id": "a2c0fd67-b726-45a8-b9bf-8a069d73a68c",
   "metadata": {},
   "outputs": [
    {
     "name": "stdout",
     "output_type": "stream",
     "text": [
      "['a', 'quick', 'brown', 'fox', 'jumps', 'over', 'the', 'lazy', 'dog']\n",
      "['a quick br', 'wn f', 'x jumps ', 'ver the lazy d', 'g']\n"
     ]
    }
   ],
   "source": [
    "# split\n",
    "s = 'a quick brown fox jumps over the lazy dog'\n",
    "\n",
    "print(s.split(' '))\n",
    "print(s.split('o'))"
   ]
  },
  {
   "cell_type": "code",
   "execution_count": 38,
   "id": "88605336-f22e-416c-be76-0663eabfce36",
   "metadata": {},
   "outputs": [
    {
     "name": "stdout",
     "output_type": "stream",
     "text": [
      "False\n",
      "True\n"
     ]
    }
   ],
   "source": [
    "print(s.startswith('z'))\n",
    "print(s.endswith('og'))"
   ]
  },
  {
   "cell_type": "code",
   "execution_count": 39,
   "id": "ee059f61-93ea-46fb-844d-943f5bb1981f",
   "metadata": {},
   "outputs": [
    {
     "name": "stdout",
     "output_type": "stream",
     "text": [
      "fdfhYFfhhUGDFBHYT\n"
     ]
    }
   ],
   "source": [
    "s1= 'FDFHyfFHHugdfbhyt'\n",
    "print(s1.swapcase()) "
   ]
  },
  {
   "cell_type": "code",
   "execution_count": 41,
   "id": "282b03c7-0a13-48b9-9de9-947e2f15e238",
   "metadata": {},
   "outputs": [
    {
     "name": "stdin",
     "output_type": "stream",
     "text": [
      "enter string  assa\n"
     ]
    },
    {
     "name": "stdout",
     "output_type": "stream",
     "text": [
      "pallindrome\n"
     ]
    }
   ],
   "source": [
    "s = input('enter string ')\n",
    "\n",
    "if s==s[::-1]:\n",
    "    print('pallindrome')\n",
    "else:\n",
    "    print('Not Pallindronme')"
   ]
  },
  {
   "cell_type": "code",
   "execution_count": 42,
   "id": "1ecb74be-c8ec-454f-97b2-690af2dab5e4",
   "metadata": {},
   "outputs": [
    {
     "name": "stdout",
     "output_type": "stream",
     "text": [
      "True\n"
     ]
    }
   ],
   "source": [
    "s = 'dee@123.com'\n",
    "for i in s:\n",
    "    if i.isalnum():\n",
    "       pass\n",
    "    else:\n",
    "        print(True)\n",
    "        break"
   ]
  },
  {
   "cell_type": "code",
   "execution_count": 43,
   "id": "61171b2c-29a4-480b-a1ec-22913fcc14dc",
   "metadata": {},
   "outputs": [
    {
     "name": "stdout",
     "output_type": "stream",
     "text": [
      "ban\n"
     ]
    }
   ],
   "source": [
    "x = 'banana' #ban\n",
    "s =''\n",
    "for i in x:\n",
    "    if i not in s:\n",
    "        s = s + i\n",
    "print(s)"
   ]
  },
  {
   "cell_type": "code",
   "execution_count": 44,
   "id": "de6dbe30-21dc-4de5-9d6e-ff5c4aa87e89",
   "metadata": {},
   "outputs": [
    {
     "name": "stdout",
     "output_type": "stream",
     "text": [
      "a ..... 0\n",
      "p ..... 1\n",
      "p ..... 2\n",
      "l ..... 3\n",
      "e ..... 4\n"
     ]
    }
   ],
   "source": [
    "s ='apple'\n",
    "c=0\n",
    "for i in s:\n",
    "    print(i,'.....',c)\n",
    "    c=c+1"
   ]
  },
  {
   "cell_type": "code",
   "execution_count": 46,
   "id": "8aeb25db-815e-4263-9434-f114ea051872",
   "metadata": {},
   "outputs": [
    {
     "name": "stdout",
     "output_type": "stream",
     "text": [
      "a ........ 0\n",
      "p ........ 1\n",
      "p ........ 2\n",
      "l ........ 3\n",
      "e ........ 4\n"
     ]
    }
   ],
   "source": [
    "s ='apple'\n",
    "\n",
    "for i in range(len(s)):\n",
    "    print(s[i],'........',i)\n",
    "    "
   ]
  },
  {
   "cell_type": "code",
   "execution_count": 5,
   "id": "7a5e3104-6838-465a-a5a1-19ad0af1b90d",
   "metadata": {},
   "outputs": [
    {
     "name": "stdin",
     "output_type": "stream",
     "text": [
      "enter n: asha\n"
     ]
    },
    {
     "name": "stdout",
     "output_type": "stream",
     "text": [
      "4\n",
      "a\n"
     ]
    }
   ],
   "source": [
    "#  Write a program that takes a sentence as input and \n",
    "# counts the number of words in it\n",
    "s=input(\"enter n:\")\n",
    "c=0\n",
    "for i in s:\n",
    "   c=c+1\n",
    "print(c)\n",
    "print(i)"
   ]
  },
  {
   "cell_type": "code",
   "execution_count": null,
   "id": "00968416-a103-4f8c-a07d-723f90f9dff1",
   "metadata": {},
   "outputs": [],
   "source": [
    "#  Implement a function that checks if a given string is a \n",
    "# pangram (contains all letters of the alphabet"
   ]
  },
  {
   "cell_type": "code",
   "execution_count": 6,
   "id": "20a9b2c5-80db-494f-8f3c-3a32029b9d6d",
   "metadata": {},
   "outputs": [
    {
     "name": "stdin",
     "output_type": "stream",
     "text": [
      "Enter a sentence:  asha bakshi\n"
     ]
    },
    {
     "name": "stdout",
     "output_type": "stream",
     "text": [
      "Number of words in the sentence: 2\n"
     ]
    }
   ],
   "source": [
    "# Take input\n",
    "sentence = input(\"Enter a sentence: \")\n",
    "\n",
    "count = 0\n",
    "in_word = 0  # 0 means outside a word, 1 means inside a word\n",
    "\n",
    "for char in sentence:\n",
    "    if char != ' ' and in_word == 0:\n",
    "        count += 1\n",
    "        in_word = 1\n",
    "    elif char == ' ':\n",
    "        in_word = 0\n",
    "\n",
    "print(\"Number of words in the sentence:\", count)\n"
   ]
  },
  {
   "cell_type": "code",
   "execution_count": 7,
   "id": "cde70f84-b567-4fd2-9ffb-60377ea6fe27",
   "metadata": {},
   "outputs": [
    {
     "name": "stdin",
     "output_type": "stream",
     "text": [
      "enter name asha bakshi \n"
     ]
    },
    {
     "name": "stdout",
     "output_type": "stream",
     "text": [
      "2\n"
     ]
    }
   ],
   "source": [
    "n= input(\"enter name\")\n",
    "v=n.split()\n",
    "v=list(v)\n",
    "d=0\n",
    "for i in v:\n",
    "    d=d+1\n",
    "print(d)\n",
    "         "
   ]
  },
  {
   "cell_type": "code",
   "execution_count": null,
   "id": "8363bc72-6514-48de-988f-c51222a40e04",
   "metadata": {},
   "outputs": [],
   "source": [
    "#  Given a string, write a function to remove all vowels from \n",
    "# # it and return the modified string\n",
    "def vowels_cal(vowel):\n",
    "    if\n"
   ]
  },
  {
   "cell_type": "code",
   "execution_count": null,
   "id": "86cab685-ece1-4a40-8502-6d225dca9cb6",
   "metadata": {},
   "outputs": [],
   "source": []
  },
  {
   "cell_type": "code",
   "execution_count": null,
   "id": "3a4f5690-993d-4d66-a28a-94f160189dda",
   "metadata": {},
   "outputs": [],
   "source": []
  },
  {
   "cell_type": "code",
   "execution_count": null,
   "id": "ab1ecb8b-2bbf-4c3e-812d-c1abbe1277c7",
   "metadata": {},
   "outputs": [],
   "source": []
  },
  {
   "cell_type": "code",
   "execution_count": null,
   "id": "b8ead452-89db-4542-bfc2-e10630667345",
   "metadata": {},
   "outputs": [],
   "source": []
  },
  {
   "cell_type": "code",
   "execution_count": null,
   "id": "04096a0f-0b8a-4118-b168-5475dfff6a81",
   "metadata": {},
   "outputs": [],
   "source": []
  },
  {
   "cell_type": "code",
   "execution_count": null,
   "id": "69dbb51b-d6bc-4c53-8f12-a96ea0e46673",
   "metadata": {},
   "outputs": [],
   "source": []
  }
 ],
 "metadata": {
  "kernelspec": {
   "display_name": "Python [conda env:base] *",
   "language": "python",
   "name": "conda-base-py"
  },
  "language_info": {
   "codemirror_mode": {
    "name": "ipython",
    "version": 3
   },
   "file_extension": ".py",
   "mimetype": "text/x-python",
   "name": "python",
   "nbconvert_exporter": "python",
   "pygments_lexer": "ipython3",
   "version": "3.12.7"
  }
 },
 "nbformat": 4,
 "nbformat_minor": 5
}
