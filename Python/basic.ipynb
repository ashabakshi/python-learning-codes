{
 "cells": [
  {
   "cell_type": "code",
   "execution_count": 1,
   "id": "b4cb26de-17b7-4521-ad08-18fd6616d6be",
   "metadata": {},
   "outputs": [
    {
     "name": "stdout",
     "output_type": "stream",
     "text": [
      "The value of a is : 9\n"
     ]
    }
   ],
   "source": [
    "a = 9\n",
    "print('The value of a is :', a)"
   ]
  },
  {
   "cell_type": "markdown",
   "id": "de1221db-7d98-42bf-908e-9a2792c014f1",
   "metadata": {},
   "source": [
    "# Data Types"
   ]
  },
  {
   "cell_type": "code",
   "execution_count": null,
   "id": "b4465899-534e-4d72-b518-f70b70badb71",
   "metadata": {},
   "outputs": [],
   "source": [
    "# int\n",
    "# float\n",
    "# string\n",
    "# boolean\n",
    "\n",
    "a = 10\n",
    "print(type(a))"
   ]
  },
  {
   "cell_type": "code",
   "execution_count": 3,
   "id": "0b9bbbdd-3846-4dee-9fd5-a78da95845c6",
   "metadata": {},
   "outputs": [
    {
     "name": "stdout",
     "output_type": "stream",
     "text": [
      "<class 'int'>\n"
     ]
    }
   ],
   "source": [
    "a = 10\n",
    "print(type(a))"
   ]
  },
  {
   "cell_type": "code",
   "execution_count": null,
   "id": "5a60407a-8f36-49ac-944a-9620a19717f7",
   "metadata": {},
   "outputs": [],
   "source": []
  },
  {
   "cell_type": "code",
   "execution_count": 4,
   "id": "0ce131a8-0497-40b6-b088-ee48ab1dac61",
   "metadata": {},
   "outputs": [
    {
     "name": "stdout",
     "output_type": "stream",
     "text": [
      "data type of a  8 is <class 'str'>\n"
     ]
    }
   ],
   "source": [
    "a ='8'\n",
    "\n",
    "print('data type of a ', a ,'is', type(a))"
   ]
  },
  {
   "cell_type": "code",
   "execution_count": 10,
   "id": "7c889ab3-9974-473f-b1b1-f376de58238d",
   "metadata": {},
   "outputs": [
    {
     "name": "stdout",
     "output_type": "stream",
     "text": [
      "data type of  False is <class 'bool'>\n"
     ]
    }
   ],
   "source": [
    "b = False\n",
    "print('data type of ', b ,'is', type(b))\n",
    "\n"
   ]
  },
  {
   "cell_type": "markdown",
   "id": "fc337839-be09-46ea-a2d6-63da6f5c3abb",
   "metadata": {},
   "source": [
    "# Typecasing"
   ]
  },
  {
   "cell_type": "code",
   "execution_count": null,
   "id": "c7ea5f6b-d06e-4dd7-92ae-c83947ffcb54",
   "metadata": {},
   "outputs": [],
   "source": []
  }
 ],
 "metadata": {
  "kernelspec": {
   "display_name": "Python [conda env:base] *",
   "language": "python",
   "name": "conda-base-py"
  },
  "language_info": {
   "codemirror_mode": {
    "name": "ipython",
    "version": 3
   },
   "file_extension": ".py",
   "mimetype": "text/x-python",
   "name": "python",
   "nbconvert_exporter": "python",
   "pygments_lexer": "ipython3",
   "version": "3.12.7"
  }
 },
 "nbformat": 4,
 "nbformat_minor": 5
}
