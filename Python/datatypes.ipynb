{
 "cells": [
  {
   "cell_type": "code",
   "execution_count": 9,
   "id": "44954f0c-f4f4-4455-9f8d-fe6e23ee60bb",
   "metadata": {},
   "outputs": [
    {
     "name": "stdin",
     "output_type": "stream",
     "text": [
      "input str: asha\n"
     ]
    },
    {
     "name": "stdout",
     "output_type": "stream",
     "text": [
      "not palandron\n"
     ]
    }
   ],
   "source": [
    "s=input('input str:')\n",
    "if s==s[::-1]:\n",
    "    print('palindrome')\n",
    "else:\n",
    "    print('not palindrome')\n"
   ]
  },
  {
   "cell_type": "code",
   "execution_count": 18,
   "id": "04aa13bd-df10-4db6-80fe-c86987c62ee8",
   "metadata": {},
   "outputs": [
    {
     "name": "stdout",
     "output_type": "stream",
     "text": [
      "a ... 0\n",
      "p ... 1\n",
      "p ... 2\n",
      "l ... 3\n",
      "e ... 4\n"
     ]
    }
   ],
   "source": [
    "s='apple'\n",
    "c=0\n",
    "for i in s:\n",
    "    print(i,'...',c)\n",
    "    c=c+1"
   ]
  },
  {
   "cell_type": "code",
   "execution_count": 21,
   "id": "dda753c5-a3a3-42b4-93ef-4dc21134decc",
   "metadata": {},
   "outputs": [
    {
     "name": "stdout",
     "output_type": "stream",
     "text": [
      "a ... 0\n",
      "p ... 1\n",
      "p ... 2\n",
      "l ... 3\n",
      "e ... 4\n"
     ]
    }
   ],
   "source": [
    "s='apple'\n",
    "\n",
    "for i in range(len(s)):\n",
    "    print(s[i],'...',i)"
   ]
  },
  {
   "cell_type": "code",
   "execution_count": null,
   "id": "56df4f33-8162-4b57-9366-84e60e001fcd",
   "metadata": {},
   "outputs": [],
   "source": []
  }
 ],
 "metadata": {
  "kernelspec": {
   "display_name": "Python [conda env:base] *",
   "language": "python",
   "name": "conda-base-py"
  },
  "language_info": {
   "codemirror_mode": {
    "name": "ipython",
    "version": 3
   },
   "file_extension": ".py",
   "mimetype": "text/x-python",
   "name": "python",
   "nbconvert_exporter": "python",
   "pygments_lexer": "ipython3",
   "version": "3.12.7"
  }
 },
 "nbformat": 4,
 "nbformat_minor": 5
}
