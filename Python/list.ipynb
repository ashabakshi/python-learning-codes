{
 "cells": [
  {
   "cell_type": "code",
   "execution_count": 1,
   "id": "2d99bcde-70c1-43a6-98a5-3b50bca024b8",
   "metadata": {},
   "outputs": [],
   "source": [
    "# Data Types\n",
    "#1. Immutable - numeric , string , tuples\n",
    "#2. Mutable - list , dict , set\n"
   ]
  },
  {
   "cell_type": "code",
   "execution_count": 2,
   "id": "c53084a4-d579-460f-9d5c-c1168c8293a4",
   "metadata": {},
   "outputs": [],
   "source": [
    "# list  - list are my mutable data type that stores the elements comma seperatedly\n",
    "# list represents into the [ ]\n"
   ]
  },
  {
   "cell_type": "code",
   "execution_count": 3,
   "id": "10d5b478-2968-4add-83c0-113033806dab",
   "metadata": {},
   "outputs": [
    {
     "name": "stdout",
     "output_type": "stream",
     "text": [
      "[1, 2, 3, 4] <class 'list'>\n"
     ]
    }
   ],
   "source": [
    "l=[1,2,3,4]\n",
    "print(l,type(l))"
   ]
  },
  {
   "cell_type": "code",
   "execution_count": 5,
   "id": "db5009db-3c90-4c6d-8732-3e56e792940d",
   "metadata": {},
   "outputs": [
    {
     "name": "stdout",
     "output_type": "stream",
     "text": [
      "['a', 1, 2, 3, 'z'] <class 'list'>\n"
     ]
    }
   ],
   "source": [
    "l1 = ['a',1,2,3,'z']\n",
    "print(l1,type(l1))"
   ]
  },
  {
   "cell_type": "code",
   "execution_count": 6,
   "id": "1f63ecfe-cad7-4bd6-8a0c-7b5f1b7c65b2",
   "metadata": {},
   "outputs": [
    {
     "name": "stdout",
     "output_type": "stream",
     "text": [
      "[2] <class 'list'>\n"
     ]
    }
   ],
   "source": [
    "l2 = [2]\n",
    "print(l2,type(l2))"
   ]
  },
  {
   "cell_type": "code",
   "execution_count": 8,
   "id": "fe98aab2-55c9-43a8-b253-c5f81b501a41",
   "metadata": {},
   "outputs": [
    {
     "name": "stdout",
     "output_type": "stream",
     "text": [
      "[2] <class 'list'>\n"
     ]
    }
   ],
   "source": [
    "l3 =['a']\n",
    "print(l2,type(l3))"
   ]
  },
  {
   "cell_type": "code",
   "execution_count": 11,
   "id": "20e04d6c-d87b-4f6e-a6c8-97c19d8f911d",
   "metadata": {},
   "outputs": [
    {
     "name": "stdout",
     "output_type": "stream",
     "text": [
      "['Deepanshu', 'Verma']\n",
      "['Verma', 'Verma', 'Verma']\n"
     ]
    }
   ],
   "source": [
    "l1 =['Deepanshu']\n",
    "l2=['Verma']\n",
    "\n",
    "print(l1+l2) # concatenation\n",
    "print(l2*3)"
   ]
  },
  {
   "cell_type": "code",
   "execution_count": 12,
   "id": "15d2eb60-e78f-4d40-9d64-9671b548e1f9",
   "metadata": {},
   "outputs": [],
   "source": [
    "# list methods"
   ]
  },
  {
   "cell_type": "code",
   "execution_count": 69,
   "id": "c1c4ac6c-0546-4724-a31b-8ac0b6cc818f",
   "metadata": {},
   "outputs": [
    {
     "name": "stdout",
     "output_type": "stream",
     "text": [
      "['a', 'quick', 'brown', 'fox', 'jumps', 'over', 'a', 'lazy', 'dog'] 9\n"
     ]
    }
   ],
   "source": [
    "l = ['a','quick','brown','fox','jumps','over','a','lazy','dog']\n",
    "\n",
    "print(l,len(l))"
   ]
  },
  {
   "cell_type": "code",
   "execution_count": 31,
   "id": "059adcbc-12c8-439e-afc1-46aa7714151e",
   "metadata": {},
   "outputs": [],
   "source": [
    "#index\n",
    "# print(l.index('q'))\n",
    "# print(l.index('fox'))"
   ]
  },
  {
   "cell_type": "code",
   "execution_count": 32,
   "id": "3d751491-9ea4-42a9-963a-a87df924f635",
   "metadata": {},
   "outputs": [
    {
     "name": "stdout",
     "output_type": "stream",
     "text": [
      "0\n",
      "2\n"
     ]
    }
   ],
   "source": [
    "#count\n",
    "print(l.count('o'))\n",
    "print(l.count('a'))"
   ]
  },
  {
   "cell_type": "code",
   "execution_count": 33,
   "id": "fed79ce7-1794-43e1-920b-eb97cd01f099",
   "metadata": {},
   "outputs": [],
   "source": [
    "############### append\n",
    "l.append('house')"
   ]
  },
  {
   "cell_type": "code",
   "execution_count": 40,
   "id": "4b6fbe31-e399-41c9-ae90-77ae9549190c",
   "metadata": {},
   "outputs": [],
   "source": [
    "l.append(['evening'])"
   ]
  },
  {
   "cell_type": "code",
   "execution_count": 42,
   "id": "8ba6fed8-bebd-4382-b242-ad6830bc345a",
   "metadata": {},
   "outputs": [
    {
     "name": "stdout",
     "output_type": "stream",
     "text": [
      "['a', 'quick', 'brown', 'fox', 'jumps', 'over', 'a', 'lazy', 'dog', 'house', 'i', 'n', 't', 'h', 'e', ['evening']]\n"
     ]
    }
   ],
   "source": [
    "print(l)"
   ]
  },
  {
   "cell_type": "code",
   "execution_count": 35,
   "id": "247b4085-8d6c-4a53-8812-2327c3c0d821",
   "metadata": {},
   "outputs": [],
   "source": [
    "# extend\n",
    "l.extend('in')"
   ]
  },
  {
   "cell_type": "code",
   "execution_count": 36,
   "id": "549c0b39-ecee-4502-8cd1-64a581d90150",
   "metadata": {},
   "outputs": [
    {
     "name": "stdout",
     "output_type": "stream",
     "text": [
      "['a', 'quick', 'brown', 'fox', 'jumps', 'over', 'a', 'lazy', 'dog', 'house', 'i', 'n']\n"
     ]
    }
   ],
   "source": [
    "print(l)"
   ]
  },
  {
   "cell_type": "code",
   "execution_count": 38,
   "id": "5e4fd8c0-fb96-4fb0-b24d-35e369ca69c9",
   "metadata": {},
   "outputs": [],
   "source": [
    "l.extend('the')"
   ]
  },
  {
   "cell_type": "code",
   "execution_count": 39,
   "id": "cc21667e-a78c-422f-a1d4-c5726e395053",
   "metadata": {},
   "outputs": [
    {
     "name": "stdout",
     "output_type": "stream",
     "text": [
      "['a', 'quick', 'brown', 'fox', 'jumps', 'over', 'a', 'lazy', 'dog', 'house', 'i', 'n', 't', 'h', 'e']\n"
     ]
    }
   ],
   "source": [
    "print(l)"
   ]
  },
  {
   "cell_type": "code",
   "execution_count": 45,
   "id": "cc4540bc-ed6d-4c5a-b969-c00a48376ef6",
   "metadata": {},
   "outputs": [
    {
     "ename": "TypeError",
     "evalue": "'int' object is not iterable",
     "output_type": "error",
     "traceback": [
      "\u001b[1;31m---------------------------------------------------------------------------\u001b[0m",
      "\u001b[1;31mTypeError\u001b[0m                                 Traceback (most recent call last)",
      "Cell \u001b[1;32mIn[45], line 1\u001b[0m\n\u001b[1;32m----> 1\u001b[0m l\u001b[38;5;241m.\u001b[39mextend(\u001b[38;5;241m1234\u001b[39m)\n",
      "\u001b[1;31mTypeError\u001b[0m: 'int' object is not iterable"
     ]
    }
   ],
   "source": [
    "l.extend(1234)"
   ]
  },
  {
   "cell_type": "code",
   "execution_count": 47,
   "id": "ef47a2d2-9f48-49f8-bff7-afc33e63144b",
   "metadata": {},
   "outputs": [
    {
     "name": "stdout",
     "output_type": "stream",
     "text": [
      "['a', 'quick', 'brown', 'fox', 'jumps', 'over', 'a', 'lazy', 'dog']\n"
     ]
    }
   ],
   "source": [
    "print(l)\n"
   ]
  },
  {
   "cell_type": "code",
   "execution_count": 48,
   "id": "c2a4a96a-dc9a-4531-abb0-d698764311c8",
   "metadata": {},
   "outputs": [],
   "source": [
    "# insert\n",
    "l.insert(8,'labra')"
   ]
  },
  {
   "cell_type": "code",
   "execution_count": 49,
   "id": "b5a1dc94-6444-424c-9d4e-7a1f998a596d",
   "metadata": {},
   "outputs": [
    {
     "name": "stdout",
     "output_type": "stream",
     "text": [
      "['a', 'quick', 'brown', 'fox', 'jumps', 'over', 'a', 'lazy', 'labra', 'dog']\n"
     ]
    }
   ],
   "source": [
    "print(l)"
   ]
  },
  {
   "cell_type": "code",
   "execution_count": 52,
   "id": "32f6beb3-b8b8-4320-8163-2d8f6eb8d4ba",
   "metadata": {},
   "outputs": [
    {
     "data": {
      "text/plain": [
       "'dog'"
      ]
     },
     "execution_count": 52,
     "metadata": {},
     "output_type": "execute_result"
    }
   ],
   "source": [
    "# pop\n",
    "l.pop(8)"
   ]
  },
  {
   "cell_type": "code",
   "execution_count": 53,
   "id": "5c01ed30-7268-4217-9541-f6a40b7e25b4",
   "metadata": {},
   "outputs": [
    {
     "name": "stdout",
     "output_type": "stream",
     "text": [
      "['a', 'quick', 'brown', 'fox', 'jumps', 'over', 'a', 'lazy']\n"
     ]
    }
   ],
   "source": [
    "print(l)"
   ]
  },
  {
   "cell_type": "code",
   "execution_count": 54,
   "id": "554d4486-5273-4490-baff-8354affa3555",
   "metadata": {},
   "outputs": [
    {
     "data": {
      "text/plain": [
       "'lazy'"
      ]
     },
     "execution_count": 54,
     "metadata": {},
     "output_type": "execute_result"
    }
   ],
   "source": [
    "l.pop()"
   ]
  },
  {
   "cell_type": "code",
   "execution_count": 55,
   "id": "71889f2f-8046-4b3a-9fdb-9bc252eef98a",
   "metadata": {},
   "outputs": [
    {
     "name": "stdout",
     "output_type": "stream",
     "text": [
      "['a', 'quick', 'brown', 'fox', 'jumps', 'over', 'a']\n"
     ]
    }
   ],
   "source": [
    "print(l)"
   ]
  },
  {
   "cell_type": "code",
   "execution_count": 64,
   "id": "1ca406f4-676f-4ed5-9221-5fe7fb192e52",
   "metadata": {},
   "outputs": [],
   "source": [
    "# remove\n",
    "# l.remove()"
   ]
  },
  {
   "cell_type": "code",
   "execution_count": 61,
   "id": "d1fde007-b915-4054-a39e-8a22be9c193d",
   "metadata": {},
   "outputs": [
    {
     "name": "stdout",
     "output_type": "stream",
     "text": [
      "['quick', 'brown', 'jumps', 'over']\n"
     ]
    }
   ],
   "source": [
    "print(l)"
   ]
  },
  {
   "cell_type": "code",
   "execution_count": 65,
   "id": "22e979f9-5367-4c25-8c39-cd348f0b3a0c",
   "metadata": {},
   "outputs": [],
   "source": [
    "# clear\n",
    "l.clear()"
   ]
  },
  {
   "cell_type": "code",
   "execution_count": 66,
   "id": "d5a72f4c-fdb4-4c1c-81f7-8c4763f8bf15",
   "metadata": {},
   "outputs": [
    {
     "name": "stdout",
     "output_type": "stream",
     "text": [
      "[]\n"
     ]
    }
   ],
   "source": [
    "print(l)"
   ]
  },
  {
   "cell_type": "code",
   "execution_count": 67,
   "id": "05f5595c-99f7-4013-be40-107a8d7108ef",
   "metadata": {},
   "outputs": [],
   "source": [
    "# deltel\n",
    "del l"
   ]
  },
  {
   "cell_type": "code",
   "execution_count": 70,
   "id": "50b02be2-2acc-48a5-8c99-513d5ad2b0fe",
   "metadata": {},
   "outputs": [
    {
     "name": "stdout",
     "output_type": "stream",
     "text": [
      "['a', 'quick', 'brown', 'fox', 'jumps', 'over', 'a', 'lazy', 'dog']\n"
     ]
    }
   ],
   "source": [
    "print(l)"
   ]
  },
  {
   "cell_type": "code",
   "execution_count": 72,
   "id": "a48662e4-34ea-4184-8c20-446eb13174da",
   "metadata": {},
   "outputs": [
    {
     "name": "stdout",
     "output_type": "stream",
     "text": [
      "['a', 'a', 'brown', 'dog', 'fox', 'jumps', 'lazy', 'over', 'quick']\n",
      "['quick', 'over', 'lazy', 'jumps', 'fox', 'dog', 'brown', 'a', 'a']\n"
     ]
    }
   ],
   "source": [
    "print(sorted(l))\n",
    "print(sorted(l,reverse=True))"
   ]
  },
  {
   "cell_type": "code",
   "execution_count": 78,
   "id": "9a0c173e-2ded-4c52-8511-dbe384e9bc4d",
   "metadata": {},
   "outputs": [
    {
     "name": "stdout",
     "output_type": "stream",
     "text": [
      "['quick', 'over', 'lazy', 'jumps', 'fox', 'dog', 'brown', 'a', 'a']\n"
     ]
    }
   ],
   "source": [
    "print(l)"
   ]
  },
  {
   "cell_type": "code",
   "execution_count": 77,
   "id": "83af7ef7-9b49-424e-bdca-c5cb094444e6",
   "metadata": {},
   "outputs": [],
   "source": [
    "l.sort(reverse=True)"
   ]
  },
  {
   "cell_type": "code",
   "execution_count": 79,
   "id": "393d888b-a964-401c-a55c-99a7e3b32f28",
   "metadata": {},
   "outputs": [],
   "source": [
    "l.reverse()"
   ]
  },
  {
   "cell_type": "code",
   "execution_count": 80,
   "id": "cd95c05d-61a7-4337-9bcf-120cb9cf03df",
   "metadata": {},
   "outputs": [
    {
     "name": "stdout",
     "output_type": "stream",
     "text": [
      "['a', 'a', 'brown', 'dog', 'fox', 'jumps', 'lazy', 'over', 'quick']\n"
     ]
    }
   ],
   "source": [
    "print(l)"
   ]
  },
  {
   "cell_type": "markdown",
   "id": "e36999fa-4e89-4437-bfbc-1b6a966a0cfa",
   "metadata": {},
   "source": [
    "# list comprhension"
   ]
  },
  {
   "cell_type": "code",
   "execution_count": 81,
   "id": "0756f5ad-44d5-4432-8442-47180dd91fa0",
   "metadata": {},
   "outputs": [],
   "source": [
    "# when i want my expected output in the form of list we use list comprehension for it\n",
    "# list comprehension offers youy the shoter syntax of code"
   ]
  },
  {
   "cell_type": "code",
   "execution_count": 85,
   "id": "6ce32c5c-4a11-48e6-861b-6d401ceb9382",
   "metadata": {},
   "outputs": [
    {
     "name": "stdout",
     "output_type": "stream",
     "text": [
      "[1, 2, 3, 4, 5, 6, 7, 8, 9]\n"
     ]
    }
   ],
   "source": [
    "L=[]\n",
    "\n",
    "for i in range(1,10):\n",
    "    L.append(i)\n",
    "print(L)"
   ]
  },
  {
   "cell_type": "code",
   "execution_count": 86,
   "id": "f1933bda-ff13-41c4-8615-8de977446806",
   "metadata": {},
   "outputs": [
    {
     "name": "stdout",
     "output_type": "stream",
     "text": [
      "[1, 2, 3, 4, 5, 6, 7, 8, 9]\n"
     ]
    }
   ],
   "source": [
    "# [ans for loop]\n",
    "l1= [i for i in range(1,10)]\n",
    "print(l1)"
   ]
  },
  {
   "cell_type": "code",
   "execution_count": 87,
   "id": "b9cb1096-132e-4d2f-aebd-a05f08e9b1d5",
   "metadata": {},
   "outputs": [
    {
     "name": "stdout",
     "output_type": "stream",
     "text": [
      "[7, 8, 9]\n"
     ]
    }
   ],
   "source": [
    "L=[]\n",
    "\n",
    "for i in range(1,10):\n",
    "    if i>6:\n",
    "        L.append(i)\n",
    "print(L)"
   ]
  },
  {
   "cell_type": "code",
   "execution_count": 88,
   "id": "7dfd7213-9754-4b7a-957f-685455ea9eb2",
   "metadata": {},
   "outputs": [
    {
     "name": "stdout",
     "output_type": "stream",
     "text": [
      "[7, 8, 9]\n"
     ]
    }
   ],
   "source": [
    "# [ans for loop if con]\n",
    "l1= [i for i in range(1,10) if i>6]\n",
    "print(l1)"
   ]
  },
  {
   "cell_type": "code",
   "execution_count": 89,
   "id": "e46b0222-2370-4b4f-88e5-3e3b47c420ed",
   "metadata": {},
   "outputs": [
    {
     "name": "stdout",
     "output_type": "stream",
     "text": [
      "['odd', 'even', 'odd', 'even', 'odd', 'even', 'odd', 'even', 'odd']\n"
     ]
    }
   ],
   "source": [
    "L=[]\n",
    "\n",
    "for i in range(1,10):\n",
    "    if i%2==0:\n",
    "        L.append('even')\n",
    "    else:\n",
    "        L.append('odd')\n",
    "print(L)"
   ]
  },
  {
   "cell_type": "code",
   "execution_count": 90,
   "id": "2da25037-c52f-4f2f-93f9-9a34c53f4632",
   "metadata": {},
   "outputs": [
    {
     "name": "stdout",
     "output_type": "stream",
     "text": [
      "['odd', 'even', 'odd', 'even', 'odd', 'even', 'odd', 'even', 'odd']\n"
     ]
    }
   ],
   "source": [
    "# [ans if con else ans for loop]\n",
    "l3 = ['even' if i%2==0 else 'odd' for i in range(1,10)]\n",
    "print(l3)"
   ]
  },
  {
   "cell_type": "markdown",
   "id": "4c6df08a-21ab-4d41-91a2-38fd904f7778",
   "metadata": {},
   "source": [
    "# Nested list"
   ]
  },
  {
   "cell_type": "code",
   "execution_count": 1,
   "id": "74f967cc-d5af-4707-946e-83b65929f584",
   "metadata": {},
   "outputs": [
    {
     "name": "stdout",
     "output_type": "stream",
     "text": [
      "6\n"
     ]
    }
   ],
   "source": [
    "L=[1,2,3,4,5,6]\n",
    "print(len(L))"
   ]
  },
  {
   "cell_type": "code",
   "execution_count": 2,
   "id": "70d8f5d1-e749-447a-96db-ada6ab20b86d",
   "metadata": {},
   "outputs": [
    {
     "name": "stdout",
     "output_type": "stream",
     "text": [
      "5\n"
     ]
    }
   ],
   "source": [
    "L=[1,2,[3,4],5,6]\n",
    "print(len(L))"
   ]
  },
  {
   "cell_type": "code",
   "execution_count": 3,
   "id": "ef3cd573-9923-4e49-8b14-276c48aa8692",
   "metadata": {},
   "outputs": [
    {
     "name": "stdout",
     "output_type": "stream",
     "text": [
      "[1, [2, [3, 4], 5], 6] 3\n"
     ]
    }
   ],
   "source": [
    "L=[1,[2,[3,4],5],6]\n",
    "print(L,len(L))"
   ]
  },
  {
   "cell_type": "code",
   "execution_count": 4,
   "id": "551f2dcb-0723-4996-bf09-e6523e6a486e",
   "metadata": {},
   "outputs": [
    {
     "name": "stdout",
     "output_type": "stream",
     "text": [
      "[1, 2, 3, 4, 5, [6, 7, 8, 9], 0]\n",
      "7\n"
     ]
    }
   ],
   "source": [
    "l1=[1,2,3,4,5,[6,7,8,9],0]\n",
    "print(l1)\n",
    "print(len(l1))"
   ]
  },
  {
   "cell_type": "code",
   "execution_count": 5,
   "id": "f0f1a08d-3936-4c5d-a191-948a9e5ffa69",
   "metadata": {},
   "outputs": [
    {
     "name": "stdout",
     "output_type": "stream",
     "text": [
      "[1, 2, [3, 4], 5, [6, 7, 8, 9], 0]\n",
      "6\n"
     ]
    }
   ],
   "source": [
    "l2=[1,2,[3,4],5,[6,7,8,9],0]\n",
    "print(l2)\n",
    "print(len(l2))"
   ]
  },
  {
   "cell_type": "code",
   "execution_count": 6,
   "id": "854e522e-401d-4b69-baa5-f9d2ca3df90c",
   "metadata": {},
   "outputs": [
    {
     "name": "stdout",
     "output_type": "stream",
     "text": [
      "[1, 2, [3, 4], 5, [6, [7], 8, 9], 0]\n",
      "6\n"
     ]
    }
   ],
   "source": [
    "l2=[1,2,[3,4],5,[6,[7],8,9],0]\n",
    "print(l2)\n",
    "print(len(l2))"
   ]
  },
  {
   "cell_type": "code",
   "execution_count": 7,
   "id": "b91dda69-b77e-4cb8-beec-1a0ceb103319",
   "metadata": {},
   "outputs": [
    {
     "name": "stdout",
     "output_type": "stream",
     "text": [
      "[[1, 2, [3, 4], 5, [6, [7], 8, 9], 0]]\n",
      "1\n"
     ]
    }
   ],
   "source": [
    "l2=[[1,2,[3,4],5,[6,[7],8,9],0]]\n",
    "print(l2)\n",
    "print(len(l2))"
   ]
  },
  {
   "cell_type": "code",
   "execution_count": 8,
   "id": "d73962a9-beeb-418a-bf7a-f0e618f2a7a0",
   "metadata": {},
   "outputs": [
    {
     "name": "stdout",
     "output_type": "stream",
     "text": [
      "['a', 'quick', 'brown', ['fox', 'jumps'], 'over', 'a', 'lazy', 'dog']\n",
      "8\n"
     ]
    }
   ],
   "source": [
    "l=['a', 'quick', 'brown', ['fox', 'jumps'], 'over', 'a', 'lazy', 'dog']\n",
    "print(l)\n",
    "print(len(l))\n"
   ]
  },
  {
   "cell_type": "code",
   "execution_count": 17,
   "id": "534d47b9-9ef5-40a2-b18b-f05e88edae04",
   "metadata": {},
   "outputs": [
    {
     "name": "stdout",
     "output_type": "stream",
     "text": [
      "[['fox', 'jumps']]\n",
      "['fox', 'jumps']\n",
      "jumps\n",
      "mps\n"
     ]
    }
   ],
   "source": [
    "# print(l[1])\n",
    "# print(l[1:2])\n",
    "# print(l[3])\n",
    "print(l[3:4])\n",
    "print(l[3:4][0])\n",
    "print(l[3:4][0][1])\n",
    "print(l[3:4][0][1][-3:])\n"
   ]
  },
  {
   "cell_type": "code",
   "execution_count": null,
   "id": "aae566f1-1b36-4334-9ef5-ffd916f8deae",
   "metadata": {},
   "outputs": [],
   "source": []
  },
  {
   "cell_type": "code",
   "execution_count": null,
   "id": "d88d02ef-b072-404e-b606-6233bc1909f8",
   "metadata": {},
   "outputs": [],
   "source": []
  },
  {
   "cell_type": "code",
   "execution_count": null,
   "id": "58bfe929-ccdc-4640-a7b9-d5cf78d022c4",
   "metadata": {},
   "outputs": [],
   "source": []
  },
  {
   "cell_type": "code",
   "execution_count": null,
   "id": "0ad828da-0a2d-48f1-85a7-0c6c63705a8c",
   "metadata": {},
   "outputs": [],
   "source": []
  },
  {
   "cell_type": "code",
   "execution_count": null,
   "id": "6c4ec44b-42cf-477a-ab4d-f00a4f7ff28c",
   "metadata": {},
   "outputs": [],
   "source": []
  },
  {
   "cell_type": "code",
   "execution_count": null,
   "id": "1207c6f6-960e-4132-aecb-c26d7f43aa9f",
   "metadata": {},
   "outputs": [],
   "source": []
  },
  {
   "cell_type": "code",
   "execution_count": null,
   "id": "f79fd6dc-83de-474f-bb76-205832e6fef8",
   "metadata": {},
   "outputs": [],
   "source": []
  },
  {
   "cell_type": "code",
   "execution_count": null,
   "id": "18323a5e-41f2-460f-a793-c57713541532",
   "metadata": {},
   "outputs": [],
   "source": []
  },
  {
   "cell_type": "code",
   "execution_count": null,
   "id": "dd3436a3-87db-4652-9dec-a1ee7b9a3232",
   "metadata": {},
   "outputs": [],
   "source": []
  },
  {
   "cell_type": "code",
   "execution_count": null,
   "id": "ef5e4187-eacc-49e0-8ac3-6bc670b473e4",
   "metadata": {},
   "outputs": [],
   "source": []
  },
  {
   "cell_type": "code",
   "execution_count": null,
   "id": "19ddf50d-da1c-4a19-89f5-9c27ca5dbece",
   "metadata": {},
   "outputs": [],
   "source": []
  },
  {
   "cell_type": "code",
   "execution_count": null,
   "id": "74b591cf-3a27-4e9a-b0e3-ac17e2c1b5f6",
   "metadata": {},
   "outputs": [],
   "source": []
  }
 ],
 "metadata": {
  "kernelspec": {
   "display_name": "Python [conda env:base] *",
   "language": "python",
   "name": "conda-base-py"
  },
  "language_info": {
   "codemirror_mode": {
    "name": "ipython",
    "version": 3
   },
   "file_extension": ".py",
   "mimetype": "text/x-python",
   "name": "python",
   "nbconvert_exporter": "python",
   "pygments_lexer": "ipython3",
   "version": "3.12.7"
  }
 },
 "nbformat": 4,
 "nbformat_minor": 5
}
