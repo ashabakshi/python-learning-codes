{
 "cells": [
  {
   "cell_type": "code",
   "execution_count": 2,
   "id": "ddc9e546-1077-4828-bf4b-8f9bbf2f0851",
   "metadata": {},
   "outputs": [
    {
     "data": {
      "text/plain": [
       "4"
      ]
     },
     "execution_count": 2,
     "metadata": {},
     "output_type": "execute_result"
    }
   ],
   "source": [
    "f=open('abc.txt','w')\n",
    "f.write('hiii')"
   ]
  },
  {
   "cell_type": "code",
   "execution_count": 3,
   "id": "2e6cae72-4599-4005-adf5-cb7d14a5748e",
   "metadata": {},
   "outputs": [],
   "source": [
    "f=open('xyz.txt','w')\n",
    "f.write('hello')\n",
    "f.close()"
   ]
  },
  {
   "cell_type": "code",
   "execution_count": 5,
   "id": "271673ee-ecb5-439c-9364-f00ec2ed3f97",
   "metadata": {},
   "outputs": [],
   "source": [
    "f=open('1234.docx','w')\n",
    "f.write('hello\\n')\n",
    "f.write('hii\\n')\n",
    "f.write('hey\\n')\n",
    "f.close()"
   ]
  },
  {
   "cell_type": "code",
   "execution_count": 23,
   "id": "56ef69df-b3aa-46e1-a703-a9fdd1be5379",
   "metadata": {},
   "outputs": [],
   "source": [
    "f=open('city.docx','w')\n",
    "f.write('agra\\n')\n",
    "f.write('noida\\n')\n",
    "f.write('pune\\n')\n",
    "f.write('ooty\\n')\n",
    "\n",
    "f.close()"
   ]
  },
  {
   "cell_type": "code",
   "execution_count": 58,
   "id": "ddbaeb65-b6be-4d83-bf31-196bd8d5e95a",
   "metadata": {},
   "outputs": [
    {
     "name": "stdout",
     "output_type": "stream",
     "text": [
      "0\n",
      "2\n",
      "ra\n",
      "noida\n",
      "pune\n",
      "ooty\n",
      "Delhi\n"
     ]
    }
   ],
   "source": [
    "f=open('country.txt','r')\n",
    "# print(f.readline())\n",
    "# print(f.read())\n",
    "print(f.tell())\n",
    "print(f.seek(2))\n",
    "print(f.read())\n",
    "\n",
    "# print(f.readlines())\n",
    "\n",
    "# print(f.read(6))\n",
    "# print(f.read())\n",
    "f.close()"
   ]
  },
  {
   "cell_type": "code",
   "execution_count": 24,
   "id": "841faf00-f0ab-4f21-bca2-41a2c69648aa",
   "metadata": {},
   "outputs": [],
   "source": [
    "f=open('city.docx','a')\n",
    "f.write('Delhi')\n",
    "f.close()"
   ]
  },
  {
   "cell_type": "code",
   "execution_count": 25,
   "id": "ed52b389-1bc1-4153-8c84-64f76d6451a8",
   "metadata": {},
   "outputs": [],
   "source": [
    "L=['ml\\n','ai\\n','c\\n','sql\\n']\n",
    "f=open('course.txt','w')\n",
    "f.writelines(L)\n",
    "f.close()"
   ]
  },
  {
   "cell_type": "code",
   "execution_count": null,
   "id": "1cd7645e-58c7-418a-899e-8d9a53bb7f08",
   "metadata": {},
   "outputs": [],
   "source": [
    "deepanshu verma\n",
    "dv"
   ]
  },
  {
   "cell_type": "code",
   "execution_count": 28,
   "id": "5afa7e3c-4aa4-4816-a5a2-2369191a5481",
   "metadata": {},
   "outputs": [],
   "source": [
    "with open('99.txt','w') as f:\n",
    "    f.write('gdikns')\n",
    "    f.write('zzzzzzzz')\n",
    "\n",
    "    "
   ]
  },
  {
   "cell_type": "code",
   "execution_count": 29,
   "id": "3c269311-8067-4e12-98e1-15324b6ed692",
   "metadata": {},
   "outputs": [],
   "source": [
    "f=open('C:\\\\Users\\\\cipl\\\\Desktop\\\\DESK.txt','w')\n",
    "f.write('this is my file on  desktop\\njefiw')\n",
    "f.close()"
   ]
  },
  {
   "cell_type": "code",
   "execution_count": 30,
   "id": "771f32ba-8b1d-4ab1-a42a-ce54963a5763",
   "metadata": {},
   "outputs": [
    {
     "name": "stdout",
     "output_type": "stream",
     "text": [
      "fe\n",
      "fdf\n",
      "bs\n",
      "fgdn\n",
      "jnh\n",
      "\n"
     ]
    }
   ],
   "source": [
    "f=open('C:\\\\Users\\\\cipl\\\\Desktop\\\\test.txt','r')\n",
    "print(f.read())\n",
    "f.close()"
   ]
  },
  {
   "cell_type": "code",
   "execution_count": 39,
   "id": "43124671-e15c-401c-97fe-5b5b5b051ef8",
   "metadata": {},
   "outputs": [
    {
     "name": "stdin",
     "output_type": "stream",
     "text": [
      "enter your search  AI\n"
     ]
    },
    {
     "name": "stdout",
     "output_type": "stream",
     "text": [
      "['ml\\n', 'ai\\n', 'c\\n', 'sql\\n', 'nlp\\n']\n",
      "found\n"
     ]
    }
   ],
   "source": [
    "f=open('course.txt','r')\n",
    "s=input('enter your search ').lower()\n",
    "s=s+'\\n'\n",
    "L=f.readlines()\n",
    "print(L)\n",
    "if s in L:\n",
    "    print('found')\n",
    "else:\n",
    "    print('Not found')\n",
    "    choice=input('enter yes or no to add ')\n",
    "    if choice=='yes':\n",
    "        with open('course.txt','a') as f:\n",
    "            f.write(s)\n",
    "            print('Added')\n",
    "    else:\n",
    "        print('ok')"
   ]
  },
  {
   "cell_type": "code",
   "execution_count": 40,
   "id": "5980b6a0-af8b-48dd-9f43-4596ff4ec14d",
   "metadata": {},
   "outputs": [],
   "source": [
    "import os"
   ]
  },
  {
   "cell_type": "code",
   "execution_count": 41,
   "id": "5b2cd923-3df3-4615-b704-88294da81862",
   "metadata": {},
   "outputs": [
    {
     "name": "stdout",
     "output_type": "stream",
     "text": [
      "C:\\Users\\cipl\\fil\n"
     ]
    }
   ],
   "source": [
    "print(os.getcwd())"
   ]
  },
  {
   "cell_type": "code",
   "execution_count": 43,
   "id": "8dfd241b-9439-4a28-b1e8-12034c1bf291",
   "metadata": {},
   "outputs": [
    {
     "ename": "FileNotFoundError",
     "evalue": "[WinError 2] The system cannot find the file specified: 'city.docx' -> 'country.txt'",
     "output_type": "error",
     "traceback": [
      "\u001b[1;31m---------------------------------------------------------------------------\u001b[0m",
      "\u001b[1;31mFileNotFoundError\u001b[0m                         Traceback (most recent call last)",
      "Cell \u001b[1;32mIn[43], line 1\u001b[0m\n\u001b[1;32m----> 1\u001b[0m os\u001b[38;5;241m.\u001b[39mrename(\u001b[38;5;124m'\u001b[39m\u001b[38;5;124mcity.docx\u001b[39m\u001b[38;5;124m'\u001b[39m,\u001b[38;5;124m'\u001b[39m\u001b[38;5;124mcountry.txt\u001b[39m\u001b[38;5;124m'\u001b[39m)\n",
      "\u001b[1;31mFileNotFoundError\u001b[0m: [WinError 2] The system cannot find the file specified: 'city.docx' -> 'country.txt'"
     ]
    }
   ],
   "source": [
    "os.rename('city.docx','country.txt')"
   ]
  },
  {
   "cell_type": "code",
   "execution_count": 48,
   "id": "45e54310-6515-4c97-b125-e7cf73f26b85",
   "metadata": {},
   "outputs": [],
   "source": [
    "os.remove('C:\\\\Users\\\\cipl\\\\Desktop\\\\dog1.webp')"
   ]
  },
  {
   "cell_type": "code",
   "execution_count": 49,
   "id": "8a2ed819-5247-4229-864b-ed89ee044eb7",
   "metadata": {},
   "outputs": [],
   "source": [
    "os.mkdir('new')"
   ]
  },
  {
   "cell_type": "code",
   "execution_count": 50,
   "id": "c39908d2-2934-4975-a00a-2e8814bd10d8",
   "metadata": {},
   "outputs": [],
   "source": [
    "os.mkdir('new\\\\new2')"
   ]
  },
  {
   "cell_type": "code",
   "execution_count": 53,
   "id": "575ff21f-e07f-4373-940a-57050ee3145f",
   "metadata": {},
   "outputs": [],
   "source": [
    "os.rmdir('new')"
   ]
  },
  {
   "cell_type": "code",
   "execution_count": null,
   "id": "8a1936c8-85b0-4779-abbd-63757afd9ad7",
   "metadata": {},
   "outputs": [],
   "source": []
  }
 ],
 "metadata": {
  "kernelspec": {
   "display_name": "Python 3 (ipykernel)",
   "language": "python",
   "name": "python3"
  },
  "language_info": {
   "codemirror_mode": {
    "name": "ipython",
    "version": 3
   },
   "file_extension": ".py",
   "mimetype": "text/x-python",
   "name": "python",
   "nbconvert_exporter": "python",
   "pygments_lexer": "ipython3",
   "version": "3.12.4"
  }
 },
 "nbformat": 4,
 "nbformat_minor": 5
}
