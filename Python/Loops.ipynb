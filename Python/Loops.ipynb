{
 "cells": [
  {
   "cell_type": "markdown",
   "id": "e3b5c835-c734-4690-96ec-a72e9a85b835",
   "metadata": {},
   "source": [
    "# loop\n",
    "\n"
   ]
  },
  {
   "cell_type": "code",
   "execution_count": null,
   "id": "effc29fc-6029-4f5b-b407-f3a07db8c2af",
   "metadata": {},
   "outputs": [],
   "source": [
    "# Loops\n",
    "# for loop\n",
    "# while loop\n"
   ]
  },
  {
   "cell_type": "code",
   "execution_count": null,
   "id": "f5a65898-d319-4328-a75b-651d52589b8f",
   "metadata": {},
   "outputs": [],
   "source": [
    "# for loop\n",
    "\n",
    "# 1. when i want to iterate in a given iterable we use for loop for it  \n",
    "# (when i want to move character by character in a given sequaence we use for loops for it)\n",
    "# 2. when i want to do the task number of times we use for loop for it"
   ]
  },
  {
   "cell_type": "code",
   "execution_count": 3,
   "id": "bfc70780-c85c-4650-b4bf-b71973dc03d7",
   "metadata": {},
   "outputs": [
    {
     "name": "stdin",
     "output_type": "stream",
     "text": [
      "Enter Your name asha\n"
     ]
    },
    {
     "name": "stdout",
     "output_type": "stream",
     "text": [
      "a\n",
      "s\n",
      "h\n",
      "a\n",
      "bye\n"
     ]
    }
   ],
   "source": [
    "n = input('Enter Your name')\n",
    "for i in n:\n",
    "    print(i)\n",
    "\n",
    "print('bye')"
   ]
  },
  {
   "cell_type": "code",
   "execution_count": 4,
   "id": "e0e17a2e-17a7-43e3-a8dc-6f8fa4d4ca19",
   "metadata": {},
   "outputs": [
    {
     "name": "stdin",
     "output_type": "stream",
     "text": [
      "enter name asha\n"
     ]
    },
    {
     "name": "stdout",
     "output_type": "stream",
     "text": [
      "4\n"
     ]
    }
   ],
   "source": [
    "n=input('enter name')\n",
    "c=0\n",
    "for i in n:\n",
    "    c=c+1\n",
    "print(c)\n",
    "    "
   ]
  },
  {
   "cell_type": "code",
   "execution_count": 8,
   "id": "ef66a16b-d371-4f8f-979f-121a1f4f6f91",
   "metadata": {},
   "outputs": [
    {
     "name": "stdin",
     "output_type": "stream",
     "text": [
      "enter name asha\n"
     ]
    },
    {
     "name": "stdout",
     "output_type": "stream",
     "text": [
      "a 1\n",
      "s 2\n",
      "h 3\n",
      "a 4\n"
     ]
    }
   ],
   "source": [
    "n=input('enter name')\n",
    "c=0\n",
    "for i in n:\n",
    "    c=c+1\n",
    "    print(i,c)\n",
    "    "
   ]
  },
  {
   "cell_type": "code",
   "execution_count": 36,
   "id": "e6619d1b-5e30-4fcd-b9ec-f9f0efb088db",
   "metadata": {},
   "outputs": [
    {
     "name": "stdout",
     "output_type": "stream",
     "text": [
      "10\n"
     ]
    }
   ],
   "source": [
    "L =[1,2,3,4,5,6,7,8,9,0]\n",
    "c=0\n",
    "for i in L:\n",
    "    c=c+1\n",
    "print(c)"
   ]
  },
  {
   "cell_type": "code",
   "execution_count": 37,
   "id": "eb70e83e-de8a-493e-a676-e443d2bc6f5b",
   "metadata": {},
   "outputs": [
    {
     "name": "stdout",
     "output_type": "stream",
     "text": [
      "45\n"
     ]
    }
   ],
   "source": [
    "L =[1,2,3,4,5,6,7,8,9,0]\n",
    "c=0\n",
    "for i in L:\n",
    "    c=c+i\n",
    "print(c)"
   ]
  },
  {
   "cell_type": "code",
   "execution_count": 42,
   "id": "aaf68471-01b4-4ecc-b3c3-97e12aca0110",
   "metadata": {},
   "outputs": [
    {
     "name": "stdout",
     "output_type": "stream",
     "text": [
      "4.5\n"
     ]
    }
   ],
   "source": [
    "L =[1,2,3,4,5,6,7,8,9,0]\n",
    "c= 0\n",
    "n=0\n",
    "for i in L:\n",
    "    c=c+1\n",
    "    n=n+i\n",
    "print(n/c)"
   ]
  },
  {
   "cell_type": "code",
   "execution_count": 20,
   "id": "ffde8bf7-778d-45a9-948f-5bbd1ca0d954",
   "metadata": {},
   "outputs": [
    {
     "name": "stdout",
     "output_type": "stream",
     "text": [
      "285\n"
     ]
    }
   ],
   "source": [
    "L=[1,2,3,4,5,6,7,8,9,0]\n",
    "s=0\n",
    "for i in L:\n",
    " \n",
    "    s=s+i**2\n",
    "    # print(i,i**2)\n",
    "print(s)\n"
   ]
  },
  {
   "cell_type": "code",
   "execution_count": 21,
   "id": "c364150e-b5e8-407c-aee8-93e15c3f28d8",
   "metadata": {},
   "outputs": [
    {
     "name": "stdout",
     "output_type": "stream",
     "text": [
      "count of even 5\n",
      "count of odd 5\n"
     ]
    }
   ],
   "source": [
    "L=[1,2,3,4,5,6,7,8,9,0]\n",
    "e=0\n",
    "o=0\n",
    "for i in L:\n",
    "    if i%2==0:\n",
    "        e=e+1\n",
    "    else:\n",
    "        o=o+1\n",
    "print('count of even', e)\n",
    "print('count of odd',o)"
   ]
  },
  {
   "cell_type": "code",
   "execution_count": 23,
   "id": "54f660c8-08b8-45a5-b2a6-e7d093de9611",
   "metadata": {},
   "outputs": [
    {
     "name": "stdout",
     "output_type": "stream",
     "text": [
      "sum of even 20\n",
      "sum of odd 25\n"
     ]
    }
   ],
   "source": [
    "L=[1,2,3,4,5,6,7,8,9,0]\n",
    "e=0\n",
    "o=0\n",
    "for i in L:\n",
    "    if i%2==0:\n",
    "        e=e+i\n",
    "    else:\n",
    "        o=o+i\n",
    "print('sum of even', e)\n",
    "print('sum of odd',o)"
   ]
  },
  {
   "cell_type": "code",
   "execution_count": 36,
   "id": "3787f3c0-be81-4396-a019-eb036ab6b50d",
   "metadata": {},
   "outputs": [
    {
     "name": "stdout",
     "output_type": "stream",
     "text": [
      "avg of even 4.0\n",
      "avg of odd 5.0\n"
     ]
    }
   ],
   "source": [
    "L=[1,2,3,4,5,6,7,8,9,0]\n",
    "e=0\n",
    "o=0\n",
    "c=0\n",
    "w=0\n",
    "for i in L:\n",
    "    if i%2==0:\n",
    "        e=e+i #sum of even\n",
    "        c=c+1 #count\n",
    "    else:\n",
    "        o=o+i #sum of odd\n",
    "        w=w+1 #count\n",
    "        \n",
    "print('avg of even', e/c)\n",
    "print('avg of odd',o/w)"
   ]
  },
  {
   "cell_type": "code",
   "execution_count": 39,
   "id": "00b8b26a-c7bd-41f1-b935-360c725cbe3d",
   "metadata": {},
   "outputs": [
    {
     "name": "stdout",
     "output_type": "stream",
     "text": [
      "even sq 120\n",
      "odd cube 1225\n"
     ]
    }
   ],
   "source": [
    "L=[1,2,3,4,5,6,7,8,9,0]\n",
    "e=0\n",
    "o=0\n",
    "for i in L:\n",
    "    if i%2==0:\n",
    "        e=e+i**2\n",
    "    else:\n",
    "        o=o+i**3\n",
    "print('even sq',e)\n",
    "print('odd cube',o)\n",
    "        "
   ]
  },
  {
   "cell_type": "code",
   "execution_count": 50,
   "id": "2ca1203f-4d7a-4fad-a0ae-f50ac49f4e60",
   "metadata": {},
   "outputs": [
    {
     "name": "stdin",
     "output_type": "stream",
     "text": [
      "enter your name asha\n"
     ]
    },
    {
     "name": "stdout",
     "output_type": "stream",
     "text": [
      "2\n",
      "2\n"
     ]
    }
   ],
   "source": [
    "n=input('enter your name')\n",
    "v=0\n",
    "c=0\n",
    "for i in n:\n",
    "    if i=='a'or i=='e' or i=='i' or i=='o' or i=='u':\n",
    "        v=v+1\n",
    "    else:\n",
    "        c=c+1\n",
    "print(v)\n",
    "print(c)"
   ]
  },
  {
   "cell_type": "code",
   "execution_count": 56,
   "id": "7e307d3c-5c00-4eaa-a887-ecfc7ac0f239",
   "metadata": {},
   "outputs": [
    {
     "name": "stdout",
     "output_type": "stream",
     "text": [
      "362880\n"
     ]
    }
   ],
   "source": [
    "L=[1,2,3,4,5,6,7,8,9,]\n",
    "s=1\n",
    "for i in L:\n",
    "    s=s*i\n",
    "    \n",
    "print(s)"
   ]
  },
  {
   "cell_type": "code",
   "execution_count": null,
   "id": "2c443ad8-8e6a-4554-b573-cf16affa4f9d",
   "metadata": {},
   "outputs": [],
   "source": [
    "# when i want to do the task a number "
   ]
  },
  {
   "cell_type": "markdown",
   "id": "533dc60c-daf5-437c-938e-95c53b24a903",
   "metadata": {},
   "source": [
    "# for loop"
   ]
  },
  {
   "cell_type": "code",
   "execution_count": 1,
   "id": "4f11f149-ce4f-402d-a681-436abb1d1295",
   "metadata": {},
   "outputs": [
    {
     "name": "stdout",
     "output_type": "stream",
     "text": [
      "1\n",
      "2\n",
      "3\n",
      "4\n",
      "5\n",
      "6\n",
      "7\n",
      "8\n",
      "9\n",
      "10\n"
     ]
    }
   ],
   "source": [
    "for i in range(1,10+1):\n",
    "    print(i)"
   ]
  },
  {
   "cell_type": "code",
   "execution_count": 7,
   "id": "35273ce1-33b0-4d5a-96f5-700e44c8815f",
   "metadata": {},
   "outputs": [
    {
     "name": "stdin",
     "output_type": "stream",
     "text": [
      "enter n 7\n"
     ]
    },
    {
     "name": "stdout",
     "output_type": "stream",
     "text": [
      "1\n",
      "2\n",
      "3\n",
      "4\n",
      "5\n",
      "6\n",
      "7\n"
     ]
    }
   ],
   "source": [
    "n =int(input('enter n'))\n",
    "for i in range(1,n+1):\n",
    "       print(i)"
   ]
  },
  {
   "cell_type": "code",
   "execution_count": 10,
   "id": "7ed877a1-b9fe-4ad6-8a16-0a57eee79274",
   "metadata": {},
   "outputs": [
    {
     "name": "stdin",
     "output_type": "stream",
     "text": [
      "enter n 5\n",
      "enter name asha\n"
     ]
    },
    {
     "name": "stdout",
     "output_type": "stream",
     "text": [
      "1\n",
      "asha 1\n",
      "2\n",
      "asha 2\n",
      "3\n",
      "asha 3\n",
      "4\n",
      "asha 4\n",
      "5\n",
      "asha 5\n"
     ]
    }
   ],
   "source": [
    "n =int(input('enter n'))\n",
    "name= input('enter name')\n",
    "c=0\n",
    "for i in range(1,n+1):\n",
    "    print(i)\n",
    "    c=c+1\n",
    "    print(name,c)\n",
    "    "
   ]
  },
  {
   "cell_type": "code",
   "execution_count": 11,
   "id": "ee0ea996-60ea-40a0-b4e9-37eac22ccb0f",
   "metadata": {},
   "outputs": [
    {
     "name": "stdin",
     "output_type": "stream",
     "text": [
      "enter n 2\n"
     ]
    },
    {
     "name": "stdout",
     "output_type": "stream",
     "text": [
      "asha 1\n",
      "asha 2\n"
     ]
    }
   ],
   "source": [
    "n =int(input('enter n'))\n",
    "for i in range(1,n+1):\n",
    "    print('asha',i)\n",
    "  "
   ]
  },
  {
   "cell_type": "code",
   "execution_count": 21,
   "id": "20e0ef50-edc2-46f6-978d-0a67251bef4d",
   "metadata": {},
   "outputs": [
    {
     "name": "stdin",
     "output_type": "stream",
     "text": [
      "enter n: 5\n"
     ]
    },
    {
     "name": "stdout",
     "output_type": "stream",
     "text": [
      "15\n"
     ]
    }
   ],
   "source": [
    "n = int(input('enter n:'))\n",
    "s=0\n",
    "for i in range(1,n+1):\n",
    "    s=s+i\n",
    "    \n",
    "print(s)"
   ]
  },
  {
   "cell_type": "code",
   "execution_count": 25,
   "id": "3b66df6f-911c-41d4-9417-229b28f5c5ea",
   "metadata": {},
   "outputs": [
    {
     "name": "stdin",
     "output_type": "stream",
     "text": [
      "enter n: 100\n"
     ]
    },
    {
     "name": "stdout",
     "output_type": "stream",
     "text": [
      "avg: 50.5\n"
     ]
    }
   ],
   "source": [
    "n= int(input('enter n:'))\n",
    "a=0\n",
    "for i in range(1,n+1):\n",
    "    a=a+i\n",
    "\n",
    "print('avg:',a/n)"
   ]
  },
  {
   "cell_type": "code",
   "execution_count": 31,
   "id": "6f1ba868-b619-463d-a6b5-3edd05546f92",
   "metadata": {},
   "outputs": [
    {
     "name": "stdin",
     "output_type": "stream",
     "text": [
      "enter n: 4\n"
     ]
    },
    {
     "ename": "NameError",
     "evalue": "name 'o' is not defined",
     "output_type": "error",
     "traceback": [
      "\u001b[1;31m---------------------------------------------------------------------------\u001b[0m",
      "\u001b[1;31mNameError\u001b[0m                                 Traceback (most recent call last)",
      "Cell \u001b[1;32mIn[31], line 2\u001b[0m\n\u001b[0;32m      1\u001b[0m n\u001b[38;5;241m=\u001b[39m\u001b[38;5;28mint\u001b[39m(\u001b[38;5;28minput\u001b[39m(\u001b[38;5;124m'\u001b[39m\u001b[38;5;124menter n:\u001b[39m\u001b[38;5;124m'\u001b[39m))\n\u001b[1;32m----> 2\u001b[0m ce\u001b[38;5;241m=\u001b[39mo\n\u001b[0;32m      3\u001b[0m se\u001b[38;5;241m=\u001b[39m\u001b[38;5;241m0\u001b[39m\n\u001b[0;32m      4\u001b[0m c0\u001b[38;5;241m=\u001b[39m\u001b[38;5;241m0\u001b[39m\n",
      "\u001b[1;31mNameError\u001b[0m: name 'o' is not defined"
     ]
    }
   ],
   "source": [
    "n=int(input('enter n:'))\n",
    "ce=o\n",
    "se=0\n",
    "c0=0\n",
    "so=0\n",
    "\n",
    "for i in range(1,n+1):\n",
    "    if i%2==0:\n",
    "        ce=ce+1\n",
    "        se=se+i\n",
    "    else:\n",
    "        co=co+1\n",
    "        so=so+i\n",
    "print('count of even', ce , 'sum is' , se)\n",
    "        "
   ]
  },
  {
   "cell_type": "code",
   "execution_count": 37,
   "id": "2cd71ec3-3c11-4922-9f34-68ad982c821d",
   "metadata": {},
   "outputs": [
    {
     "name": "stdin",
     "output_type": "stream",
     "text": [
      "enter n 8\n"
     ]
    },
    {
     "name": "stdout",
     "output_type": "stream",
     "text": [
      "8 * 1 = 8\n",
      "8 * 2 = 16\n",
      "8 * 3 = 24\n",
      "8 * 4 = 32\n",
      "8 * 5 = 40\n",
      "8 * 6 = 48\n",
      "8 * 7 = 56\n",
      "8 * 8 = 64\n",
      "8 * 9 = 72\n",
      "8 * 10 = 80\n"
     ]
    }
   ],
   "source": [
    "n= int(input('enter n'))\n",
    "c=0\n",
    "for i in range(1,11):\n",
    "    c=c+1\n",
    "    print(n,'*',i,'=',n*i)"
   ]
  },
  {
   "cell_type": "code",
   "execution_count": 38,
   "id": "d7b9aa21-26c8-4cbc-8f87-2bee3561fcb3",
   "metadata": {},
   "outputs": [
    {
     "name": "stdin",
     "output_type": "stream",
     "text": [
      "enter n 4\n"
     ]
    },
    {
     "name": "stdout",
     "output_type": "stream",
     "text": [
      "24\n"
     ]
    }
   ],
   "source": [
    "n= int(input('enter n')) #factorial\n",
    "f=1\n",
    "for i in range(1,n+1):\n",
    "    f=f*i\n",
    "print(f)"
   ]
  },
  {
   "cell_type": "code",
   "execution_count": 48,
   "id": "8ce0132e-7fe3-4406-a57e-098cb061508a",
   "metadata": {},
   "outputs": [
    {
     "name": "stdin",
     "output_type": "stream",
     "text": [
      "Enter n:  7\n"
     ]
    },
    {
     "name": "stdout",
     "output_type": "stream",
     "text": [
      "1\n",
      "7\n",
      "7 is prime\n"
     ]
    }
   ],
   "source": [
    "n = int(input(\"Enter n: \"))  #prime number cal\n",
    "count = 0\n",
    "\n",
    "for i in range(1, n+1):\n",
    "    if n%i==0:\n",
    "        count = count + 1\n",
    "        print(i)\n",
    "if count==2:\n",
    "    print(n,'is prime')\n",
    "else:\n",
    "    print(n,'is not prime')"
   ]
  },
  {
   "cell_type": "code",
   "execution_count": 49,
   "id": "9f3cf9d5-e800-4dd0-92ea-8558e1217c8c",
   "metadata": {},
   "outputs": [
    {
     "name": "stdin",
     "output_type": "stream",
     "text": [
      "How many numbers do you want?  4\n",
      "Enter number :  2\n",
      "Enter number :  3\n",
      "Enter number :  5\n",
      "Enter number :  6\n"
     ]
    },
    {
     "name": "stdout",
     "output_type": "stream",
     "text": [
      "Average: 4.0\n"
     ]
    }
   ],
   "source": [
    "# how many  number do u want \n",
    "n = int(input('How many numbers do you want? '))\n",
    "total = 0\n",
    "\n",
    "for i in range(1, n + 1):\n",
    "    num = int(input('Enter number : '))\n",
    "    total = total + num\n",
    "\n",
    "average = total / n\n",
    "print('Average:', average)\n"
   ]
  },
  {
   "cell_type": "code",
   "execution_count": 2,
   "id": "df0e3ab7-4284-4c2e-ba51-c5ece4545f3b",
   "metadata": {},
   "outputs": [
    {
     "name": "stdout",
     "output_type": "stream",
     "text": [
      "10\n",
      "9\n",
      "8\n",
      "7\n",
      "6\n",
      "5\n",
      "4\n",
      "3\n",
      "2\n"
     ]
    }
   ],
   "source": [
    "for i in range (10 ,1,-1):\n",
    "    print(i)\n"
   ]
  },
  {
   "cell_type": "code",
   "execution_count": 3,
   "id": "7a53bed8-7b46-4481-8c2c-e2ae6ad2c94f",
   "metadata": {},
   "outputs": [
    {
     "name": "stdout",
     "output_type": "stream",
     "text": [
      "10\n",
      "7\n",
      "4\n"
     ]
    }
   ],
   "source": [
    "for i in range (10 ,1,-3):\n",
    "    print(i)"
   ]
  },
  {
   "cell_type": "code",
   "execution_count": null,
   "id": "473c86fa-eb71-438f-8c2a-a2957590ed09",
   "metadata": {},
   "outputs": [],
   "source": []
  },
  {
   "cell_type": "markdown",
   "id": "50db9bcd-f8ad-4e28-ae5e-da097faf1f31",
   "metadata": {},
   "source": [
    "# while loop "
   ]
  },
  {
   "cell_type": "code",
   "execution_count": null,
   "id": "629fff31-21b0-4cfc-b736-d2f085c62f4f",
   "metadata": {},
   "outputs": [],
   "source": []
  }
 ],
 "metadata": {
  "kernelspec": {
   "display_name": "Python [conda env:base] *",
   "language": "python",
   "name": "conda-base-py"
  },
  "language_info": {
   "codemirror_mode": {
    "name": "ipython",
    "version": 3
   },
   "file_extension": ".py",
   "mimetype": "text/x-python",
   "name": "python",
   "nbconvert_exporter": "python",
   "pygments_lexer": "ipython3",
   "version": "3.12.7"
  }
 },
 "nbformat": 4,
 "nbformat_minor": 5
}
