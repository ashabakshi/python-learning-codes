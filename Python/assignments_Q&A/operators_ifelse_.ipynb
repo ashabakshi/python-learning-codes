{
 "cells": [
  {
   "cell_type": "markdown",
   "id": "5c0651dd-8c69-4f61-af7f-87b81b4bee4b",
   "metadata": {},
   "source": [
    "# Operator assignmnets Q&A"
   ]
  },
  {
   "cell_type": "code",
   "execution_count": 2,
   "id": "395bddce-71ad-4a68-ae5d-cda24b657348",
   "metadata": {},
   "outputs": [
    {
     "name": "stdin",
     "output_type": "stream",
     "text": [
      "Enter radius: 3\n"
     ]
    },
    {
     "name": "stdout",
     "output_type": "stream",
     "text": [
      "Area of circle is 28.259999999999998\n"
     ]
    }
   ],
   "source": [
    "#1.\tWrite a Python program which accepts the radius of a circle from the user and compute the area.\n",
    "# Area=π*r*r\n",
    "\n",
    "r = float(input('Enter radius:'))\n",
    "pi= 3.14\n",
    "Area = pi*r*r\n",
    "print('Area of circle is',Area)"
   ]
  },
  {
   "cell_type": "code",
   "execution_count": 3,
   "id": "f714b659-c502-49ef-9cc9-febbf82c2471",
   "metadata": {},
   "outputs": [
    {
     "name": "stdout",
     "output_type": "stream",
     "text": [
      "Volume of sphere: is 904.3199999999999\n"
     ]
    }
   ],
   "source": [
    "#2.\tWrite a Python program to get the volume of a sphere with radius 6.\n",
    "#formulae to calculate volume of sphere:  4/3 𝜋 r³\n",
    "r = 6\n",
    "pi= 3.14\n",
    "sphere =  (4/3)*pi*(r**3)\n",
    "print('Volume of sphere: is',sphere)"
   ]
  },
  {
   "cell_type": "code",
   "execution_count": 4,
   "id": "2719d1e2-19d0-4ace-99da-d9cee948cb14",
   "metadata": {},
   "outputs": [
    {
     "name": "stdin",
     "output_type": "stream",
     "text": [
      "Enter number 5\n"
     ]
    },
    {
     "name": "stdout",
     "output_type": "stream",
     "text": [
      "sum of three equal numbers: 15.0\n",
      "three times the sum 45.0\n"
     ]
    }
   ],
   "source": [
    "#3.\tWrite a Python program to calculate the sum of three equal numbers, and the result is the three times of their sum.\n",
    "num=float(input('Enter number'))\n",
    "sum_of_three = num+num+num\n",
    "result= 3*sum_of_three\n",
    "\n",
    "print('sum of three equal numbers:' , sum_of_three)\n",
    "print('three times the sum', result)"
   ]
  },
  {
   "cell_type": "code",
   "execution_count": 5,
   "id": "1437cca3-7e9f-42c7-85b9-c7558c019b97",
   "metadata": {},
   "outputs": [
    {
     "name": "stdin",
     "output_type": "stream",
     "text": [
      "Enter base: 6\n",
      "Enter height: 8\n"
     ]
    },
    {
     "name": "stdout",
     "output_type": "stream",
     "text": [
      "Area of triangle is  24.0\n"
     ]
    }
   ],
   "source": [
    "#4.\tWrite a Python program that will accept the base and height of a triangle and compute the area\n",
    "# formulae to calculate area of triangle:  1/2 base * height\n",
    "\n",
    "base= float(input('Enter base:'))\n",
    "height = float(input('Enter height:'))\n",
    "area = (1/2)*base*height\n",
    "print('Area of triangle is ', area)"
   ]
  },
  {
   "cell_type": "code",
   "execution_count": 6,
   "id": "75c65df0-48be-4108-82c5-2c6b3964ad41",
   "metadata": {},
   "outputs": [
    {
     "name": "stdin",
     "output_type": "stream",
     "text": [
      "Enter x: 7\n",
      "Enter y: 9\n"
     ]
    },
    {
     "name": "stdout",
     "output_type": "stream",
     "text": [
      "256\n"
     ]
    }
   ],
   "source": [
    "#Write a Python program to solve (x + y) * (x + y) \n",
    "#Test Data : x = 4, y = 3\n",
    "#Expected Output :   49\n",
    "x = int(input('Enter x:'))\n",
    "y = int(input('Enter y:'))\n",
    "z = (x+y)*(x+y)\n",
    "print(z)"
   ]
  },
  {
   "cell_type": "code",
   "execution_count": 9,
   "id": "97d995bc-2275-4db9-8980-7a0c82d4099a",
   "metadata": {},
   "outputs": [
    {
     "name": "stdin",
     "output_type": "stream",
     "text": [
      "Enter amount: 10000\n",
      "Enter int 3.5\n",
      "Enter number of years 7\n"
     ]
    },
    {
     "name": "stdout",
     "output_type": "stream",
     "text": [
      "Simple interest is 2450.0\n"
     ]
    }
   ],
   "source": [
    "## 6.\tWrite a Python program to compute the simple interest of a specified principal amount, rate of interest, and a number of years.\n",
    "# Test Data : amt = 10000, int = 3.5, years = 7\n",
    "# formluae= amt* int * years/100 ......(p *r*t)/100\n",
    "amt = int(input('Enter amount:'))\n",
    "interest = float(input('Enter int'))\n",
    "num_year = int(input('Enter number of years'))\n",
    "simple_int = (amt*interest*num_year)/100\n",
    "print('Simple interest is',simple_int)"
   ]
  },
  {
   "cell_type": "code",
   "execution_count": 10,
   "id": "3bedf5f5-1f63-4425-b57d-b3dc4b20b48a",
   "metadata": {},
   "outputs": [
    {
     "name": "stdout",
     "output_type": "stream",
     "text": [
      "as float value : 246.2458\n",
      "as int value : 246\n"
     ]
    }
   ],
   "source": [
    "# 7.\tWrite a Python program to convert (parse) a string to Float or Integer.\n",
    "# Test Data : \"246.2458\"\n",
    "# Expected Output : 246\n",
    "\n",
    "data= \"246.2458\"\n",
    "conv_float = float(data)\n",
    "conv_int = int(conv_float)\n",
    "print('as float value :', conv_float)\n",
    "print('as int value :', conv_int)"
   ]
  },
  {
   "cell_type": "code",
   "execution_count": 11,
   "id": "db839f43-5a91-4f1d-b44d-92a58a2ae4c6",
   "metadata": {},
   "outputs": [
    {
     "name": "stdin",
     "output_type": "stream",
     "text": [
      "enter a: 2\n",
      "enter b: 4\n"
     ]
    },
    {
     "name": "stdout",
     "output_type": "stream",
     "text": [
      " Hypotenuse of a right angled triangle is  4.47213595499958\n"
     ]
    }
   ],
   "source": [
    "# 8.\tWrite a Python program to calculate the hypotenuse of a right angled triangle.\n",
    "# Formulae : c2 = a2 + b2,\n",
    "a = int(input('enter a:'))\n",
    "b = int(input('enter b:'))\n",
    "c = (a**2+b**2)**0.5\n",
    "print(' Hypotenuse of a right angled triangle is ', c)"
   ]
  },
  {
   "cell_type": "code",
   "execution_count": 12,
   "id": "27b4d7d8-3701-407d-a8de-e91b30a5f456",
   "metadata": {},
   "outputs": [
    {
     "name": "stdout",
     "output_type": "stream",
     "text": [
      "a= 1\n",
      "x= 77\n"
     ]
    }
   ],
   "source": [
    "# 9.\tWrite a Python program to swap two variables\n",
    "# Test Data : a = 77, x= 1\n",
    "# Expected Output : a= 1, x=77\n",
    "a = 77\n",
    "x =1\n",
    "swap=a\n",
    "a=x\n",
    "x=swap\n",
    "print('a=',a)\n",
    "print('x=',x)"
   ]
  },
  {
   "cell_type": "code",
   "execution_count": 13,
   "id": "c8da4587-94a6-49e4-b6ba-d65a516ba0e7",
   "metadata": {},
   "outputs": [
    {
     "name": "stdin",
     "output_type": "stream",
     "text": [
      "enter n: 5\n"
     ]
    },
    {
     "name": "stdout",
     "output_type": "stream",
     "text": [
      "cube of 5 is 125\n"
     ]
    }
   ],
   "source": [
    "# 10.\tWrite a Python program to calculate the cube of any number which was taken by input.\n",
    "n = int(input('enter n:'))\n",
    "cube= n**3\n",
    "print('cube of' , n ,'is', cube)"
   ]
  },
  {
   "cell_type": "markdown",
   "id": "52ac88ec-524a-43e2-9066-22f6f83545c5",
   "metadata": {},
   "source": [
    "# if else , Nested Q&A"
   ]
  },
  {
   "cell_type": "code",
   "execution_count": 20,
   "id": "974c40b6-8ce9-41f5-bfa3-b460db147ca4",
   "metadata": {},
   "outputs": [
    {
     "name": "stdin",
     "output_type": "stream",
     "text": [
      "enter n: -67\n"
     ]
    },
    {
     "name": "stdout",
     "output_type": "stream",
     "text": [
      "-67 is negative number\n"
     ]
    }
   ],
   "source": [
    "\n",
    "# 1.\twrite a program to check the number is positive or negative or zero\n",
    "\n",
    "n=int(input('enter n:'))\n",
    "if n>0:\n",
    "    print(n,'is positive number')\n",
    "elif n<0:\n",
    "    print(n,'is negative number')\n",
    "else:\n",
    "    print(n, 'is zero')"
   ]
  },
  {
   "cell_type": "code",
   "execution_count": 24,
   "id": "a0313073-d748-4285-b9f2-5400b7aa73b1",
   "metadata": {},
   "outputs": [
    {
     "name": "stdin",
     "output_type": "stream",
     "text": [
      "enter username: pramod123\n",
      "enter password 123456789\n"
     ]
    },
    {
     "name": "stdout",
     "output_type": "stream",
     "text": [
      "Welcome to the website\n"
     ]
    }
   ],
   "source": [
    "# 2.\twrite a program to take a username and password from the user and if it matches with 'pramod123' and '123456789'. \n",
    "# welcome to the website else report invalid username and password\n",
    "usern=input('enter username:')\n",
    "passw=input('enter password')\n",
    "if usern=='pramod123' and passw=='123456789':\n",
    "    print('Welcome to the website')\n",
    "else:\n",
    "    print('invalid username and password')\n"
   ]
  },
  {
   "cell_type": "code",
   "execution_count": 32,
   "id": "ddb1fe29-1c70-4746-a8c5-365b8de7894a",
   "metadata": {},
   "outputs": [
    {
     "name": "stdin",
     "output_type": "stream",
     "text": [
      "enter number 7\n"
     ]
    },
    {
     "name": "stdout",
     "output_type": "stream",
     "text": [
      "ONE DIGIT NUMBER\n"
     ]
    }
   ],
   "source": [
    "# 3. The given number is of one digited or two digited or three digited or more than three digited..\n",
    "# INPUT: 945 \n",
    "# OUTPUT: Three digit number\n",
    "num=int(input('enter number'))\n",
    "if num<10 and num>=0:\n",
    "    print('ONE DIGIT NUMBER')\n",
    "elif num<100:\n",
    "    print('TWO DIGIT NUMBER')\n",
    "elif num<1000:\n",
    "    print('THREE DIGIT NUMBER')\n",
    "else:\n",
    "    print('more than three digit')\n",
    "    "
   ]
  },
  {
   "cell_type": "code",
   "execution_count": 34,
   "id": "2fd2076a-2315-444e-aa8a-4c3351c2b69d",
   "metadata": {},
   "outputs": [
    {
     "name": "stdin",
     "output_type": "stream",
     "text": [
      "enter number: 1000\n"
     ]
    },
    {
     "name": "stdout",
     "output_type": "stream",
     "text": [
      "It is the smallest 4-digit number\n"
     ]
    }
   ],
   "source": [
    "# 4.\tWrite a python program to check The entered number is smallest 4 digit number or not..\n",
    "num=int(input('enter number:'))\n",
    "if num==1000:\n",
    "    print('It is the smallest 4-digit number')\n",
    "else:\n",
    "    print('It is not the smallest 4-digit number')"
   ]
  },
  {
   "cell_type": "code",
   "execution_count": 35,
   "id": "63da947d-f84e-4fa4-b3e4-4bfc3eb94b89",
   "metadata": {},
   "outputs": [
    {
     "name": "stdin",
     "output_type": "stream",
     "text": [
      "Enter 1st number: 23\n",
      "Enter 2nd number: 455\n",
      "Enter 3rd number: 6777\n"
     ]
    },
    {
     "name": "stdout",
     "output_type": "stream",
     "text": [
      "largest number is 6777\n"
     ]
    }
   ],
   "source": [
    "# 5.\tWrite a python program to take the three numbers as input and find the largest number.\n",
    "a=int(input('Enter 1st number:'))\n",
    "b=int(input('Enter 2nd number:'))\n",
    "c=int(input('Enter 3rd number:'))\n",
    "if a>=b and a>=c:\n",
    "    print('largest number is ',a)\n",
    "elif b>=a and b>=c:\n",
    "    print('largest nubmber is ',b)\n",
    "else:\n",
    "    print('largest number is',c)\n",
    "    "
   ]
  },
  {
   "cell_type": "code",
   "execution_count": 38,
   "id": "7a0a4524-f18d-4184-9a94-c159268502b4",
   "metadata": {},
   "outputs": [
    {
     "name": "stdin",
     "output_type": "stream",
     "text": [
      "Enter a: 1\n",
      "Enter b: -2\n",
      "Enter c: 4\n"
     ]
    },
    {
     "name": "stdout",
     "output_type": "stream",
     "text": [
      "sides must be positive\n"
     ]
    }
   ],
   "source": [
    "# 6. Write a python  program that reads three positive numbers a, b, c and determines whether they can form the three sides of a triangle.\n",
    "# HINT: in triangle the sum of two side is greater than third side\n",
    "a=int(input('Enter a:'))\n",
    "b=int(input('Enter b:'))\n",
    "c=int(input('Enter c:'))\n",
    "if a>0 and b>0 and c>0:\n",
    "    if (a+b>c) and (a+c>b) and (b+c>a):\n",
    "        print('yes these can form triangle')\n",
    "    else:\n",
    "        print('No these cannot form a triangle')\n",
    "else:\n",
    "    print('sides must be positive')\n",
    "    "
   ]
  },
  {
   "cell_type": "code",
   "execution_count": 42,
   "id": "fc0a9bb8-6a74-48a2-97c2-2af185d589c6",
   "metadata": {},
   "outputs": [
    {
     "name": "stdin",
     "output_type": "stream",
     "text": [
      "enter 1st side 3\n",
      "enter 2nd side 4\n",
      "enter 3rd side 5\n"
     ]
    },
    {
     "name": "stdout",
     "output_type": "stream",
     "text": [
      "It is a Right-angled triangle\n"
     ]
    }
   ],
   "source": [
    "### 7. write a python to check  Whether the triangle will be an obtuse-angle, or a right-angle or an acute-angle triangle.\n",
    "# HINT: \n",
    "# In Right angle triangle the square of the length of the longest side of a triangle is equal to the sum of the squares of the other two sides\n",
    "# In Obtuse Triangle  the sum of the squares of the two shorter sides of a triangle is smaller \n",
    "# than the square of the longest side, the triangle is obtuse.\n",
    "\n",
    "# In Acute angle triangle the sum of the squares of the two shorter sides of a triangle is greater than \n",
    "# the square of the longest side, the triangle is acute\n",
    "\n",
    "#  biggest² = side² + side² -> Right-angle\n",
    "#  biggest² < side² + side² -> Acute-angle\n",
    "#  biggest² > side² + side² -> Obtuse-angle\n",
    "\n",
    "a = int(input('enter 1st side'))\n",
    "b = int(input('enter 2nd side'))\n",
    "c = int(input('enter 3rd side'))\n",
    "# all side positive\n",
    "if a>0 and b>0 and c>0:\n",
    "    if (a+b>c) and (a+c>b) and (b+c>a): #these side can form a triangle\n",
    "        # find biggest side\n",
    "        if a>=b and a>=c:\n",
    "            biggest =a\n",
    "            side1=b\n",
    "            side2=c\n",
    "        elif b>=a and b>=c:\n",
    "            biggest =b\n",
    "            side1=a\n",
    "            side2=c\n",
    "        else:\n",
    "            biggest=c\n",
    "            side1=a\n",
    "            side2=b\n",
    "\n",
    "        #checking type of angle by using square rule\n",
    "        if biggest**2==side1**2+side2**2:\n",
    "            print('It is a Right-angled triangle')\n",
    "        elif biggest**2<side1**2+side2**2:\n",
    "            print('It is an acute-angled triangle')\n",
    "        else:\n",
    "            print('It is an obtuse-angled triangle')\n",
    "    else:\n",
    "        print('these side cannot form a triangle')\n",
    "\n",
    "        \n",
    "else:\n",
    "    print('sides must be positive')\n",
    "  "
   ]
  },
  {
   "cell_type": "code",
   "execution_count": 11,
   "id": "a6a17a36-e63e-4a56-a419-2e3a6fc33334",
   "metadata": {},
   "outputs": [
    {
     "name": "stdin",
     "output_type": "stream",
     "text": [
      "enter side a  2\n",
      "enter side b  2\n",
      "enter side c  3\n"
     ]
    },
    {
     "name": "stdout",
     "output_type": "stream",
     "text": [
      "isosceles triangle\n"
     ]
    }
   ],
   "source": [
    "# 8.\tWrite a python program  to check the triangle , is equilateral, isosceles, or scalene.\n",
    "# HINT:\n",
    "# In Equilateral triangle all three sides are equal a==b and b==c\n",
    "# In isosceles triangle any two side are equal a==b or b==c or c==a\n",
    "# In scalene triangle all three side are unequal \n",
    "a = int(input('enter side a '))\n",
    "b = int(input('enter side b '))\n",
    "c = int(input('enter side c '))\n",
    "#these side can form a triangle\n",
    "if a+b>c and a+c>b and b+c>a:\n",
    "    if a==b and b==c:\n",
    "        print('equilateral triangle')\n",
    "    elif a==b or a==c or b==c:\n",
    "        print('isosceles triangle')\n",
    "    else:\n",
    "        print('scalene triangle')\n",
    "    \n",
    "else:\n",
    "    print('not a valid triangle')\n",
    "    \n"
   ]
  },
  {
   "cell_type": "code",
   "execution_count": 25,
   "id": "cd0e5371-b5cf-420a-a23a-a47a571901ec",
   "metadata": {},
   "outputs": [
    {
     "ename": "IndentationError",
     "evalue": "unindent does not match any outer indentation level (<string>, line 24)",
     "output_type": "error",
     "traceback": [
      "\u001b[1;36m  File \u001b[1;32m<string>:24\u001b[1;36m\u001b[0m\n\u001b[1;33m    elif code==2:\u001b[0m\n\u001b[1;37m                 ^\u001b[0m\n\u001b[1;31mIndentationError\u001b[0m\u001b[1;31m:\u001b[0m unindent does not match any outer indentation level\n"
     ]
    }
   ],
   "source": [
    "#### 9.\tA toy vendor supplies three types of toys: Battery Based Toys, Key-based Toys, and Electrical Charging Based Toys.\n",
    "# The vendor gives a discount of 10% on orders for battery-based toys if the order is for \n",
    "#   more than Rs. 1000. On orders of more than Rs. 100 for key-based toys, a discount of 5% is given,\n",
    "#  and a discount of 10% is given on orders for electrical charging based toys of value more than Rs. 500. \n",
    "# Assume that the numeric codes 1,2 and 3 are used for battery based toys, key-based toys, and electrical charging based toys respectively.\n",
    "# Write a program that reads the product code and the order amount and prints out the net amount that the customer is \n",
    "# required to pay after the discount.\n",
    "\n",
    "# Battery Based Toys\t1\t10% discount if order > ₹1000\n",
    "# Key-based Toys\t2\t5% discount if order > ₹100\n",
    "# Electrical Charging Based Toys\t3\t10% discount if order > ₹500\n",
    "code= int(input('Enter product Code(1: Battery, 2: Key-based, 3: Charging):'))\n",
    "\n",
    "  if code==1 or code==2 or code=3:\n",
    "      amount = float(input('enter order amount:'))\n",
    "      if code==1: # Battery based\n",
    "        if amount>1000:\n",
    "            discount = amount*0.10\n",
    "            net_amount = amount-discount\n",
    "            print(\"Net amount to pay: Rs\", net_amount)\n",
    "        else:\n",
    "            net_amount = amount\n",
    "            print(\"Net amount to pay: Rs\", net_amount)\n",
    "    elif code==2:\n",
    "        if amount>100:\n",
    "            discount = amount*0.05\n",
    "            net_amount = amount-discount\n",
    "            print(\"Net amount to pay: Rs\", net_amount)\n",
    "        else:\n",
    "            net_amount = amount\n",
    "            print(\"Net amount to pay: Rs\", net_amount)\n",
    "    elif code==3: \n",
    "        if amount>500:\n",
    "            discount = amount*0.10\n",
    "            net_amount = amount-discount\n",
    "            print(\"Net amount to pay: Rs\", net_amount)\n",
    "        else:\n",
    "            net_amount = amount\n",
    "            print(\"Net amount to pay: Rs\", net_amount)\n",
    "else:\n",
    "    print(\"Invalid product code\")\n",
    "    \n",
    "        \n",
    "        "
   ]
  },
  {
   "cell_type": "code",
   "execution_count": 44,
   "id": "61c84250-a79a-4bd6-83a0-0e8dfe82e02c",
   "metadata": {},
   "outputs": [
    {
     "name": "stdin",
     "output_type": "stream",
     "text": [
      "Enter product Code(1: Battery, 2: Key-based, 3: Charging): 3\n",
      "enter order amount: 600\n"
     ]
    },
    {
     "name": "stdout",
     "output_type": "stream",
     "text": [
      "Net amount to pay: Rs 540.0\n"
     ]
    }
   ],
   "source": [
    "#### 9.\tA toy vendor supplies three types of toys: Battery Based Toys, Key-based Toys, and Electrical Charging Based Toys.\n",
    "# The vendor gives a discount of 10% on orders for battery-based toys if the order is for \n",
    "#   more than Rs. 1000. On orders of more than Rs. 100 for key-based toys, a discount of 5% is given,\n",
    "#  and a discount of 10% is given on orders for electrical charging based toys of value more than Rs. 500. \n",
    "# Assume that the numeric codes 1,2 and 3 are used for battery based toys, key-based toys, and electrical charging based toys respectively.\n",
    "# Write a program that reads the product code and the order amount and prints out the net amount that the customer is \n",
    "# required to pay after the discount.\n",
    "\n",
    "# Battery Based Toys\t1\t10% discount if order > ₹1000\n",
    "# Key-based Toys\t2\t5% discount if order > ₹100\n",
    "# Electrical Charging Based Toys\t3\t10% discount if order > ₹500\n",
    "\n",
    "code= int(input('Enter product Code(1: Battery, 2: Key-based, 3: Charging):'))\n",
    "if code==1 or code==2 or code==3:\n",
    "    amount = float(input('enter order amount:'))\n",
    "    if code==1:\n",
    "            if amount>1000:\n",
    "                discount = amount*0.10\n",
    "                net_amount = amount-discount\n",
    "                print(\"Net amount to pay: Rs\", net_amount)\n",
    "            else:\n",
    "                net_amount = amount\n",
    "                print(\"Net amount to pay: Rs\", net_amount)\n",
    "    elif code==2:\n",
    "            if amount>100:\n",
    "                discount = amount*0.05\n",
    "                net_amount = amount-discount\n",
    "                print(\"Net amount to pay: Rs\", net_amount)\n",
    "            else:\n",
    "                net_amount = amount\n",
    "                print(\"Net amount to pay: Rs\", net_amount)\n",
    "    elif code==3:\n",
    "            if amount>500:\n",
    "                discount = amount*0.10\n",
    "                net_amount = amount-discount\n",
    "                print(\"Net amount to pay: Rs\", net_amount)\n",
    "            else:\n",
    "                net_amount = amount \n",
    "                print(\"Net amount to pay: Rs\", net_amount) \n",
    "else:\n",
    "    print('invalid product code')\n"
   ]
  },
  {
   "cell_type": "code",
   "execution_count": 54,
   "id": "05c9a8d0-619c-4dd8-8b41-e64ca10e8e96",
   "metadata": {},
   "outputs": [
    {
     "name": "stdin",
     "output_type": "stream",
     "text": [
      "enter value of a 1\n",
      "enter value of b 2\n",
      "enter value of c 3\n",
      "enter value of d 4\n",
      "enter value of x 6\n",
      "enter value of k 5\n"
     ]
    },
    {
     "name": "stdout",
     "output_type": "stream",
     "text": [
      "f(x)= 158.0\n"
     ]
    }
   ],
   "source": [
    "\n",
    "# 10.\t A function f is defined as follows :\n",
    "#         f(x)   =    ax3 – bx2 + cx –d,                  if x > k\n",
    "#         f(x)          =    0,                                   if x = k\n",
    "#         f(x)  =    -ax3 + bx2 – cx +d,                 if x <k \n",
    "a=float(input('enter value of a'))\n",
    "b=float(input('enter value of b'))\n",
    "c=float(input('enter value of c'))\n",
    "d=float(input('enter value of d'))\n",
    "x=float(input('enter value of x'))\n",
    "k=float(input('enter value of k'))\n",
    "if x>k:\n",
    "     fx = a * x**3 - b * x**2 + c * x - d\n",
    "elif x==k:\n",
    "    fx= 0\n",
    "else:\n",
    "    fx= -a*x**3 + b*x**2 - c*x + d \n",
    "    \n",
    "print('f(x)=',fx)\n",
    "    "
   ]
  },
  {
   "cell_type": "code",
   "execution_count": null,
   "id": "c043a423-d5c6-4fa2-afbb-b0dcf747f6c6",
   "metadata": {},
   "outputs": [],
   "source": [
    "# 11. The Paschim Gujarat Vij Company Ltd. computes the electricity bill based on the following table:\n",
    "# Units Consumed\tCharges\n",
    "# 0-100\t     0.50 per unit\n",
    "# 101-200\t Rs. 50 plus Rs. 1 per unit over 100 units\n",
    "# 201-300\t Rs. 150 plus 1.50 per unit over 200 units\n",
    "# > 300\tRs.  300 plus Rs.2 per unit over 300 units\n",
    "# 1.\tAsk user to enter the Past meter reading and current meter reading.\n",
    "# 2.\tFind the units consumed.\n",
    "# 3.\tCompute the bill according to given matrix.\n"
   ]
  }
 ],
 "metadata": {
  "kernelspec": {
   "display_name": "Python [conda env:base] *",
   "language": "python",
   "name": "conda-base-py"
  },
  "language_info": {
   "codemirror_mode": {
    "name": "ipython",
    "version": 3
   },
   "file_extension": ".py",
   "mimetype": "text/x-python",
   "name": "python",
   "nbconvert_exporter": "python",
   "pygments_lexer": "ipython3",
   "version": "3.12.7"
  }
 },
 "nbformat": 4,
 "nbformat_minor": 5
}
