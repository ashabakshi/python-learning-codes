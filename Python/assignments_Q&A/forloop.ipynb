{
 "cells": [
  {
   "cell_type": "code",
   "execution_count": 1,
   "id": "42302552-8101-4689-b9cb-0ec8da12af7f",
   "metadata": {},
   "outputs": [
    {
     "name": "stdout",
     "output_type": "stream",
     "text": [
      "10\n",
      "20\n",
      "30\n",
      "40\n",
      "50\n",
      "60\n",
      "70\n",
      "80\n",
      "90\n",
      "100\n",
      "110\n",
      "120\n",
      "130\n",
      "140\n",
      "150\n",
      "160\n",
      "170\n",
      "180\n",
      "190\n",
      "200\n",
      "210\n",
      "220\n",
      "230\n",
      "240\n",
      "250\n",
      "260\n",
      "270\n",
      "280\n",
      "290\n",
      "300\n"
     ]
    }
   ],
   "source": [
    "# Q3. Print the series: 10, 20, 30, ..., 300\n",
    "\n",
    "for i in range(10, 301, 10):\n",
    "    print(i)\n"
   ]
  },
  {
   "cell_type": "code",
   "execution_count": 2,
   "id": "94b08dc6-e4d5-4bd0-ab2f-0f5a2128b89f",
   "metadata": {},
   "outputs": [
    {
     "name": "stdout",
     "output_type": "stream",
     "text": [
      "104\n",
      "130\n",
      "143\n",
      "169\n",
      "182\n",
      "208\n",
      "221\n",
      "247\n",
      "260\n",
      "286\n",
      "299\n",
      "325\n",
      "338\n",
      "364\n",
      "377\n",
      "403\n",
      "416\n",
      "442\n",
      "455\n",
      "481\n",
      "494\n"
     ]
    }
   ],
   "source": [
    "#  Q7. Write a program to display all the numbers which are divisible by 13 but not by 3 between 100 and 500.(exclusive both numbers)   \n",
    "for num in range(101, 500):\n",
    "    if num % 13 == 0 and num % 3 != 0:\n",
    "        print(num)\n"
   ]
  },
  {
   "cell_type": "code",
   "execution_count": 5,
   "id": "b9698b6c-a281-40ff-8f7a-b1b69a37f011",
   "metadata": {},
   "outputs": [
    {
     "name": "stdin",
     "output_type": "stream",
     "text": [
      "Enter a number:  4567\n"
     ]
    },
    {
     "name": "stdout",
     "output_type": "stream",
     "text": [
      "Four\n",
      "Five\n",
      "Six\n",
      "Seven\n"
     ]
    }
   ],
   "source": [
    "num = input(\"Enter a number: \")\n",
    "\n",
    "for digit in num:\n",
    "    if digit == '0':\n",
    "        print(\"Zero\")\n",
    "    elif digit == '1':\n",
    "        print(\"One\")\n",
    "    elif digit == '2':\n",
    "        print(\"Two\")\n",
    "    elif digit == '3':\n",
    "        print(\"Three\")\n",
    "    elif digit == '4':\n",
    "        print(\"Four\")\n",
    "    elif digit == '5':\n",
    "        print(\"Five\")\n",
    "    elif digit == '6':\n",
    "        print(\"Six\")\n",
    "    elif digit == '7':\n",
    "        print(\"Seven\")\n",
    "    elif digit == '8':\n",
    "        print(\"Eight\")\n",
    "    elif digit == '9':\n",
    "        print(\"Nine\")\n",
    "\n"
   ]
  },
  {
   "cell_type": "code",
   "execution_count": 7,
   "id": "536546ce-2c25-4829-93b7-aaace0ec61b5",
   "metadata": {},
   "outputs": [
    {
     "name": "stdout",
     "output_type": "stream",
     "text": [
      "1 --- 49\n",
      "2 --- 48\n",
      "3 --- 47\n",
      "4 --- 46\n",
      "5 --- 45\n",
      "6 --- 44\n",
      "7 --- 43\n",
      "8 --- 42\n",
      "9 --- 41\n",
      "10 --- 40\n",
      "11 --- 39\n",
      "12 --- 38\n",
      "13 --- 37\n",
      "14 --- 36\n",
      "15 --- 35\n",
      "16 --- 34\n",
      "17 --- 33\n",
      "18 --- 32\n",
      "19 --- 31\n",
      "20 --- 30\n",
      "21 --- 29\n",
      "22 --- 28\n",
      "23 --- 27\n",
      "24 --- 26\n",
      "25 --- 25\n",
      "26 --- 24\n",
      "27 --- 23\n",
      "28 --- 22\n",
      "29 --- 21\n",
      "30 --- 20\n",
      "31 --- 19\n",
      "32 --- 18\n",
      "33 --- 17\n",
      "34 --- 16\n",
      "35 --- 15\n",
      "36 --- 14\n",
      "37 --- 13\n",
      "38 --- 12\n",
      "39 --- 11\n",
      "40 --- 10\n",
      "41 --- 9\n",
      "42 --- 8\n",
      "43 --- 7\n",
      "44 --- 6\n",
      "45 --- 5\n",
      "46 --- 4\n",
      "47 --- 3\n",
      "48 --- 2\n",
      "49 --- 1\n"
     ]
    }
   ],
   "source": [
    "for i in range(1, 50):\n",
    "    print(i, \"---\", 50 - i)\n"
   ]
  },
  {
   "cell_type": "code",
   "execution_count": null,
   "id": "381bf97f-1c95-4384-9ca6-94f90ac3a54f",
   "metadata": {},
   "outputs": [],
   "source": []
  },
  {
   "cell_type": "code",
   "execution_count": null,
   "id": "f9aef24d-66dd-416b-b07f-23855c13684c",
   "metadata": {},
   "outputs": [],
   "source": []
  },
  {
   "cell_type": "code",
   "execution_count": null,
   "id": "4ab01187-2c83-4645-9289-14fc5f2e86ac",
   "metadata": {},
   "outputs": [],
   "source": []
  },
  {
   "cell_type": "code",
   "execution_count": null,
   "id": "3908d991-798a-4729-a63b-a83530e4199e",
   "metadata": {},
   "outputs": [],
   "source": [
    "\n",
    "\n"
   ]
  }
 ],
 "metadata": {
  "kernelspec": {
   "display_name": "Python [conda env:base] *",
   "language": "python",
   "name": "conda-base-py"
  },
  "language_info": {
   "codemirror_mode": {
    "name": "ipython",
    "version": 3
   },
   "file_extension": ".py",
   "mimetype": "text/x-python",
   "name": "python",
   "nbconvert_exporter": "python",
   "pygments_lexer": "ipython3",
   "version": "3.12.7"
  }
 },
 "nbformat": 4,
 "nbformat_minor": 5
}
