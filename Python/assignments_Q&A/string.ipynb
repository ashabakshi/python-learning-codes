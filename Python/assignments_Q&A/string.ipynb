{
 "cells": [
  {
   "cell_type": "code",
   "execution_count": 2,
   "id": "9cd6bcf2-63f6-4901-ada4-0a8daa9eebb0",
   "metadata": {},
   "outputs": [
    {
     "name": "stdin",
     "output_type": "stream",
     "text": [
      "enter string: asha\n"
     ]
    },
    {
     "name": "stdout",
     "output_type": "stream",
     "text": [
      "ASHA\n",
      "asha\n"
     ]
    }
   ],
   "source": [
    "# Q.1 Write a program to accept a string and display the string with changed case(Change upper and lower case)\n",
    "str=input('enter string:')\n",
    "print(str.upper())\n",
    "print(str.lower())"
   ]
  },
  {
   "cell_type": "code",
   "execution_count": 3,
   "id": "6352426c-462f-44c8-bfe3-4ac86b257a5c",
   "metadata": {},
   "outputs": [
    {
     "name": "stdout",
     "output_type": "stream",
     "text": [
      "4\n"
     ]
    }
   ],
   "source": [
    "# Q.2   Write a program to count the length of string without using len() function.\n",
    "c=0\n",
    "for i in str:\n",
    "    c=c+1\n",
    "print(c)"
   ]
  },
  {
   "cell_type": "code",
   "execution_count": 4,
   "id": "2f3d8fc3-ae1d-4c7b-90ee-6d753e1f59c8",
   "metadata": {},
   "outputs": [
    {
     "name": "stdout",
     "output_type": "stream",
     "text": [
      "a = 97\n",
      "s = 115\n",
      "h = 104\n",
      "a = 97\n"
     ]
    }
   ],
   "source": [
    "# Q.3 Write a program to accept the string from user and display the ascii value for each letter\n",
    "for i in str:\n",
    "    print(i,'=',ord(i))"
   ]
  },
  {
   "cell_type": "code",
   "execution_count": 7,
   "id": "6a295252-7596-4f69-9255-e1f8c73f0529",
   "metadata": {},
   "outputs": [
    {
     "name": "stdout",
     "output_type": "stream",
     "text": [
      "hello#i#am#asha#\n"
     ]
    }
   ],
   "source": [
    "# Q.4 Write a program that accepts the string and replace all spaces by “#” symbol.\n",
    "s = 'hello i am asha '\n",
    "print(s.replace(' ','#'))"
   ]
  },
  {
   "cell_type": "code",
   "execution_count": 8,
   "id": "7d045e50-d86b-4eac-98e7-df8f455b7abd",
   "metadata": {},
   "outputs": [],
   "source": [
    "# Q.5 Write a program that delete the character at specific position.\n"
   ]
  },
  {
   "cell_type": "code",
   "execution_count": 11,
   "id": "517ab452-a7e1-4475-af4a-f1549526cf55",
   "metadata": {},
   "outputs": [
    {
     "name": "stdin",
     "output_type": "stream",
     "text": [
      "Enter a string:  asha bakshi\n"
     ]
    },
    {
     "name": "stdout",
     "output_type": "stream",
     "text": [
      "a: 3\n",
      "e: 0\n",
      "i: 1\n",
      "o: 0\n",
      "u: 0\n"
     ]
    }
   ],
   "source": [
    "# Q.6 Write a  program which accepts a strings and count the frequency of each vowel.\n",
    "s = input(\"Enter a string: \")\n",
    "\n",
    "a =0\n",
    "e = 0\n",
    "i = 0\n",
    "o = 0\n",
    "u = 0\n",
    "\n",
    "for ch in s:\n",
    "    if ch == 'a' or ch == 'A':\n",
    "        a += 1\n",
    "    elif ch == 'e' or ch == 'E':\n",
    "        e += 1\n",
    "    elif ch == 'i' or ch == 'I':\n",
    "        i += 1\n",
    "    elif ch == 'o' or ch == 'O':\n",
    "        o += 1\n",
    "    elif ch == 'u' or ch == 'U':\n",
    "        u += 1\n",
    "\n",
    "print(\"a:\", a)\n",
    "print(\"e:\", e)\n",
    "print(\"i:\", i)\n",
    "print(\"o:\", o)\n",
    "print(\"u:\", u)\n"
   ]
  },
  {
   "cell_type": "code",
   "execution_count": null,
   "id": "7ca65d55-928c-47c9-9c39-7a58fe32ef63",
   "metadata": {},
   "outputs": [],
   "source": [
    "#Q.8 WAP to remove vowels from the string."
   ]
  },
  {
   "cell_type": "code",
   "execution_count": null,
   "id": "e83abb04-2f8a-4753-8748-08d4f31000b5",
   "metadata": {},
   "outputs": [],
   "source": [
    "# \"\"\" Q.9 Write a program that takes full name as input and displays the abbrevations of the first and middle names except the last name \n",
    "# which is displayed as it is. Eg:\n",
    "# Robert Brett Roser output :R.B.Roser.\"\"\"\n"
   ]
  },
  {
   "cell_type": "code",
   "execution_count": null,
   "id": "c35840b9-428f-4026-8a09-29222507536f",
   "metadata": {},
   "outputs": [],
   "source": [
    "# Q.10 Write a Python program to get a string made of the first 2 and the last 2 chars from a given \n",
    "# a string. If the string length is less than 2, return instead of the empty string.\n",
    "\n",
    "# Sample String : 'Deepanshu'\n",
    "# Expected Result : 'Dehu'\n",
    "# Sample String : 'dv'\n",
    "# Expected Result : 'dvdv'\n",
    "# Sample String : 'd'\n",
    "# Expected Result : Empty String\n"
   ]
  },
  {
   "cell_type": "code",
   "execution_count": null,
   "id": "1ef88907-3600-486b-814f-e4e201a7799f",
   "metadata": {},
   "outputs": [],
   "source": []
  },
  {
   "cell_type": "code",
   "execution_count": null,
   "id": "744c4146-6105-4ae5-970b-994dafab73cf",
   "metadata": {},
   "outputs": [],
   "source": []
  },
  {
   "cell_type": "code",
   "execution_count": null,
   "id": "8c363aa2-4fe9-4e18-8cb5-b7a4d19f6550",
   "metadata": {},
   "outputs": [],
   "source": []
  },
  {
   "cell_type": "code",
   "execution_count": null,
   "id": "004650c4-f9e2-4638-8586-3b6650d51747",
   "metadata": {},
   "outputs": [],
   "source": []
  },
  {
   "cell_type": "code",
   "execution_count": null,
   "id": "3a4ae7cb-5918-4af2-a71a-311c9bb53365",
   "metadata": {},
   "outputs": [],
   "source": []
  },
  {
   "cell_type": "code",
   "execution_count": null,
   "id": "5c671eea-8731-435e-93f3-b562956bfa81",
   "metadata": {},
   "outputs": [],
   "source": []
  },
  {
   "cell_type": "code",
   "execution_count": null,
   "id": "725b8016-0c28-423e-a64a-b89028a105e7",
   "metadata": {},
   "outputs": [],
   "source": []
  },
  {
   "cell_type": "code",
   "execution_count": null,
   "id": "c9bd4d26-0b40-4cf2-b6a2-91c9ad8b3171",
   "metadata": {},
   "outputs": [],
   "source": []
  },
  {
   "cell_type": "code",
   "execution_count": null,
   "id": "1a3079e8-549f-4c58-9177-4c33c40995a0",
   "metadata": {},
   "outputs": [],
   "source": []
  },
  {
   "cell_type": "code",
   "execution_count": null,
   "id": "6f02600e-7acf-4063-a41b-662d6bb6f511",
   "metadata": {},
   "outputs": [],
   "source": []
  },
  {
   "cell_type": "code",
   "execution_count": null,
   "id": "3d80925a-07a1-405e-bb2a-fa0ecf9da706",
   "metadata": {},
   "outputs": [],
   "source": []
  },
  {
   "cell_type": "code",
   "execution_count": null,
   "id": "f3960fdc-65b5-4ad6-a2ee-7be94847b08e",
   "metadata": {},
   "outputs": [],
   "source": []
  }
 ],
 "metadata": {
  "kernelspec": {
   "display_name": "Python [conda env:base] *",
   "language": "python",
   "name": "conda-base-py"
  },
  "language_info": {
   "codemirror_mode": {
    "name": "ipython",
    "version": 3
   },
   "file_extension": ".py",
   "mimetype": "text/x-python",
   "name": "python",
   "nbconvert_exporter": "python",
   "pygments_lexer": "ipython3",
   "version": "3.12.7"
  }
 },
 "nbformat": 4,
 "nbformat_minor": 5
}
